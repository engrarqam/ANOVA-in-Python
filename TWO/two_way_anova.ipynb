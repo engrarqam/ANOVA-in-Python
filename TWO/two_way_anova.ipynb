{
 "cells": [
  {
   "cell_type": "code",
   "execution_count": 1,
   "metadata": {
    "scrolled": true
   },
   "outputs": [],
   "source": [
    "import pandas as pd\n",
    "import numpy as np\n",
    "import seaborn as sns\n",
    "import matplotlib.pyplot as plt"
   ]
  },
  {
   "cell_type": "code",
   "execution_count": 2,
   "metadata": {},
   "outputs": [
    {
     "data": {
      "text/html": [
       "<div>\n",
       "<style scoped>\n",
       "    .dataframe tbody tr th:only-of-type {\n",
       "        vertical-align: middle;\n",
       "    }\n",
       "\n",
       "    .dataframe tbody tr th {\n",
       "        vertical-align: top;\n",
       "    }\n",
       "\n",
       "    .dataframe thead th {\n",
       "        text-align: right;\n",
       "    }\n",
       "</style>\n",
       "<table border=\"1\" class=\"dataframe\">\n",
       "  <thead>\n",
       "    <tr style=\"text-align: right;\">\n",
       "      <th></th>\n",
       "      <th>gender</th>\n",
       "      <th>education_level</th>\n",
       "      <th>score</th>\n",
       "    </tr>\n",
       "  </thead>\n",
       "  <tbody>\n",
       "    <tr>\n",
       "      <th>0</th>\n",
       "      <td>male</td>\n",
       "      <td>school</td>\n",
       "      <td>5.51</td>\n",
       "    </tr>\n",
       "    <tr>\n",
       "      <th>1</th>\n",
       "      <td>male</td>\n",
       "      <td>school</td>\n",
       "      <td>5.65</td>\n",
       "    </tr>\n",
       "    <tr>\n",
       "      <th>2</th>\n",
       "      <td>male</td>\n",
       "      <td>school</td>\n",
       "      <td>5.07</td>\n",
       "    </tr>\n",
       "    <tr>\n",
       "      <th>3</th>\n",
       "      <td>male</td>\n",
       "      <td>school</td>\n",
       "      <td>5.51</td>\n",
       "    </tr>\n",
       "    <tr>\n",
       "      <th>4</th>\n",
       "      <td>male</td>\n",
       "      <td>school</td>\n",
       "      <td>5.94</td>\n",
       "    </tr>\n",
       "  </tbody>\n",
       "</table>\n",
       "</div>"
      ],
      "text/plain": [
       "  gender education_level  score\n",
       "0   male          school   5.51\n",
       "1   male          school   5.65\n",
       "2   male          school   5.07\n",
       "3   male          school   5.51\n",
       "4   male          school   5.94"
      ]
     },
     "execution_count": 2,
     "metadata": {},
     "output_type": "execute_result"
    }
   ],
   "source": [
    "df = pd.read_csv(\"two_way.csv\")\n",
    "df.head()"
   ]
  },
  {
   "cell_type": "markdown",
   "metadata": {},
   "source": [
    "## Summary Statistics"
   ]
  },
  {
   "cell_type": "code",
   "execution_count": 3,
   "metadata": {},
   "outputs": [
    {
     "data": {
      "text/html": [
       "<div>\n",
       "<style scoped>\n",
       "    .dataframe tbody tr th:only-of-type {\n",
       "        vertical-align: middle;\n",
       "    }\n",
       "\n",
       "    .dataframe tbody tr th {\n",
       "        vertical-align: top;\n",
       "    }\n",
       "\n",
       "    .dataframe thead th {\n",
       "        text-align: right;\n",
       "    }\n",
       "</style>\n",
       "<table border=\"1\" class=\"dataframe\">\n",
       "  <thead>\n",
       "    <tr style=\"text-align: right;\">\n",
       "      <th></th>\n",
       "      <th></th>\n",
       "      <th>count</th>\n",
       "      <th>std</th>\n",
       "      <th>mean</th>\n",
       "    </tr>\n",
       "    <tr>\n",
       "      <th>gender</th>\n",
       "      <th>education_level</th>\n",
       "      <th></th>\n",
       "      <th></th>\n",
       "      <th></th>\n",
       "    </tr>\n",
       "  </thead>\n",
       "  <tbody>\n",
       "    <tr>\n",
       "      <th rowspan=\"3\" valign=\"top\">female</th>\n",
       "      <th>college</th>\n",
       "      <td>10</td>\n",
       "      <td>0.474694</td>\n",
       "      <td>6.463000</td>\n",
       "    </tr>\n",
       "    <tr>\n",
       "      <th>school</th>\n",
       "      <td>10</td>\n",
       "      <td>0.474422</td>\n",
       "      <td>5.741000</td>\n",
       "    </tr>\n",
       "    <tr>\n",
       "      <th>university</th>\n",
       "      <td>10</td>\n",
       "      <td>0.937908</td>\n",
       "      <td>8.406000</td>\n",
       "    </tr>\n",
       "    <tr>\n",
       "      <th rowspan=\"3\" valign=\"top\">male</th>\n",
       "      <th>college</th>\n",
       "      <td>9</td>\n",
       "      <td>0.339632</td>\n",
       "      <td>6.223333</td>\n",
       "    </tr>\n",
       "    <tr>\n",
       "      <th>school</th>\n",
       "      <td>9</td>\n",
       "      <td>0.363868</td>\n",
       "      <td>5.426667</td>\n",
       "    </tr>\n",
       "    <tr>\n",
       "      <th>university</th>\n",
       "      <td>10</td>\n",
       "      <td>0.444542</td>\n",
       "      <td>9.292000</td>\n",
       "    </tr>\n",
       "  </tbody>\n",
       "</table>\n",
       "</div>"
      ],
      "text/plain": [
       "                        count       std      mean\n",
       "gender education_level                           \n",
       "female college             10  0.474694  6.463000\n",
       "       school              10  0.474422  5.741000\n",
       "       university          10  0.937908  8.406000\n",
       "male   college              9  0.339632  6.223333\n",
       "       school               9  0.363868  5.426667\n",
       "       university          10  0.444542  9.292000"
      ]
     },
     "execution_count": 3,
     "metadata": {},
     "output_type": "execute_result"
    }
   ],
   "source": [
    "stats = df.groupby(['gender', 'education_level'])['score'].agg(['count', 'std', 'mean'])\n",
    "stats"
   ]
  },
  {
   "cell_type": "markdown",
   "metadata": {},
   "source": [
    "## Boxplot"
   ]
  },
  {
   "cell_type": "code",
   "execution_count": 4,
   "metadata": {
    "scrolled": true
   },
   "outputs": [
    {
     "data": {
      "text/plain": [
       "<AxesSubplot:xlabel='gender', ylabel='score'>"
      ]
     },
     "execution_count": 4,
     "metadata": {},
     "output_type": "execute_result"
    },
    {
     "data": {
      "image/png": "[encoded data removed]",
      "text/plain": [
       "<Figure size 720x360 with 1 Axes>"
      ]
     },
     "metadata": {
      "needs_background": "light"
     },
     "output_type": "display_data"
    }
   ],
   "source": [
    "plt.figure(figsize=(10, 5))\n",
    "sns.boxplot(x='gender', y='score', hue='education_level', data=df, linewidth=1.5)"
   ]
  },
  {
   "cell_type": "markdown",
   "metadata": {},
   "source": [
    "## Interaction plot using Seaborn"
   ]
  },
  {
   "cell_type": "code",
   "execution_count": 5,
   "metadata": {},
   "outputs": [
    {
     "data": {
      "text/plain": [
       "<AxesSubplot:xlabel='education_level', ylabel='score'>"
      ]
     },
     "execution_count": 5,
     "metadata": {},
     "output_type": "execute_result"
    },
    {
     "data": {
      "image/png": "[encoded data removed]",
      "text/plain": [
       "<Figure size 720x360 with 1 Axes>"
      ]
     },
     "metadata": {
      "needs_background": "light"
     },
     "output_type": "display_data"
    }
   ],
   "source": [
    "plt.figure(figsize=(10, 5))\n",
    "ax = sns.pointplot(x='education_level', y='score', hue='gender', data=df)\n",
    "ax"
   ]
  },
  {
   "cell_type": "markdown",
   "metadata": {},
   "source": [
    "# Assumptions"
   ]
  },
  {
   "cell_type": "markdown",
   "metadata": {},
   "source": [
    "### Outliers"
   ]
  },
  {
   "cell_type": "code",
   "execution_count": 6,
   "metadata": {},
   "outputs": [],
   "source": [
    "def outliers(dep, ind1, ind2):\n",
    "    dicts = {'Outliers':{}}\n",
    "    for cat_ind1 in pd.unique(df[ind1]):\n",
    "        for cat_ind2 in pd.unique(df[ind2]):\n",
    "            Q1, Q3 = np.percentile(df[dep][df[ind1] == cat_ind1][df[ind2] == cat_ind2], [25,75])\n",
    "            IQR = Q3-Q1\n",
    "            lower_fence, upper_fence= Q1-(1.5*IQR), Q3+(1.5*IQR)\n",
    "            new_dataset = []\n",
    "            for i in df[dep][df[ind1] == cat_ind1][df[ind2] == cat_ind2]:\n",
    "                if i < lower_fence or i > upper_fence:\n",
    "                    new_dataset.append(i)\n",
    "            dicts['Outliers'][f'{cat_ind1} and {cat_ind2}'] = new_dataset\n",
    "    return pd.DataFrame(dicts)"
   ]
  },
  {
   "cell_type": "code",
   "execution_count": 7,
   "metadata": {},
   "outputs": [
    {
     "data": {
      "text/html": [
       "<div>\n",
       "<style scoped>\n",
       "    .dataframe tbody tr th:only-of-type {\n",
       "        vertical-align: middle;\n",
       "    }\n",
       "\n",
       "    .dataframe tbody tr th {\n",
       "        vertical-align: top;\n",
       "    }\n",
       "\n",
       "    .dataframe thead th {\n",
       "        text-align: right;\n",
       "    }\n",
       "</style>\n",
       "<table border=\"1\" class=\"dataframe\">\n",
       "  <thead>\n",
       "    <tr style=\"text-align: right;\">\n",
       "      <th></th>\n",
       "      <th>Outliers</th>\n",
       "    </tr>\n",
       "  </thead>\n",
       "  <tbody>\n",
       "    <tr>\n",
       "      <th>female and college</th>\n",
       "      <td>[]</td>\n",
       "    </tr>\n",
       "    <tr>\n",
       "      <th>female and school</th>\n",
       "      <td>[]</td>\n",
       "    </tr>\n",
       "    <tr>\n",
       "      <th>female and university</th>\n",
       "      <td>[]</td>\n",
       "    </tr>\n",
       "    <tr>\n",
       "      <th>male and college</th>\n",
       "      <td>[]</td>\n",
       "    </tr>\n",
       "    <tr>\n",
       "      <th>male and school</th>\n",
       "      <td>[]</td>\n",
       "    </tr>\n",
       "    <tr>\n",
       "      <th>male and university</th>\n",
       "      <td>[]</td>\n",
       "    </tr>\n",
       "  </tbody>\n",
       "</table>\n",
       "</div>"
      ],
      "text/plain": [
       "                      Outliers\n",
       "female and college          []\n",
       "female and school           []\n",
       "female and university       []\n",
       "male and college            []\n",
       "male and school             []\n",
       "male and university         []"
      ]
     },
     "execution_count": 7,
     "metadata": {},
     "output_type": "execute_result"
    }
   ],
   "source": [
    "outliers('score', 'gender', 'education_level')"
   ]
  },
  {
   "cell_type": "markdown",
   "metadata": {},
   "source": [
    "### Normality"
   ]
  },
  {
   "cell_type": "code",
   "execution_count": 8,
   "metadata": {},
   "outputs": [
    {
     "name": "stderr",
     "output_type": "stream",
     "text": [
      "C:\\ProgramData\\Anaconda3\\envs\\All\\lib\\site-packages\\statsmodels\\compat\\pandas.py:61: FutureWarning: pandas.Int64Index is deprecated and will be removed from pandas in a future version. Use pandas.Index with the appropriate dtype instead.\n",
      "  from pandas import Int64Index as NumericIndex\n"
     ]
    }
   ],
   "source": [
    "import statsmodels.api as sm\n",
    "from statsmodels.formula.api import ols\n",
    "mod = ols('score ~ gender*education_level', data=df).fit()"
   ]
  },
  {
   "cell_type": "code",
   "execution_count": 9,
   "metadata": {
    "scrolled": true
   },
   "outputs": [
    {
     "data": {
      "text/plain": [
       "0     0.083333\n",
       "1     0.223333\n",
       "2    -0.356667\n",
       "3     0.083333\n",
       "4     0.513333\n",
       "5     0.373333\n",
       "6    -0.206667\n",
       "7    -0.066667\n",
       "8    -0.646667\n",
       "9    -0.213333\n",
       "10   -0.213333\n",
       "11    0.226667\n",
       "12    0.226667\n",
       "13    0.156667\n",
       "14    0.516667\n",
       "15   -0.133333\n",
       "16    0.076667\n",
       "17   -0.643333\n",
       "18   -0.162000\n",
       "19   -0.012000\n",
       "20   -0.452000\n",
       "21   -0.012000\n",
       "22    0.708000\n",
       "23    0.708000\n",
       "24    0.278000\n",
       "25   -0.302000\n",
       "26   -0.162000\n",
       "27   -0.592000\n",
       "28    0.059000\n",
       "29    0.199000\n",
       "30   -0.521000\n",
       "31   -0.091000\n",
       "32    0.639000\n",
       "33    0.639000\n",
       "34    0.349000\n",
       "35   -0.231000\n",
       "36   -0.231000\n",
       "37   -0.811000\n",
       "38    0.057000\n",
       "39    0.207000\n",
       "40   -0.523000\n",
       "41   -0.083000\n",
       "42    0.637000\n",
       "43    0.637000\n",
       "44    0.347000\n",
       "45   -0.233000\n",
       "46   -0.233000\n",
       "47   -0.813000\n",
       "48   -0.146000\n",
       "49    0.004000\n",
       "50    0.724000\n",
       "51    1.164000\n",
       "52    1.014000\n",
       "53    0.434000\n",
       "54    0.144000\n",
       "55   -0.436000\n",
       "56   -1.886000\n",
       "57   -1.016000\n",
       "dtype: float64"
      ]
     },
     "execution_count": 9,
     "metadata": {},
     "output_type": "execute_result"
    }
   ],
   "source": [
    "mod.resid"
   ]
  },
  {
   "cell_type": "code",
   "execution_count": 10,
   "metadata": {},
   "outputs": [
    {
     "data": {
      "text/plain": [
       "ShapiroResult(statistic=0.9678589701652527, pvalue=0.1267320215702057)"
      ]
     },
     "execution_count": 10,
     "metadata": {},
     "output_type": "execute_result"
    }
   ],
   "source": [
    "import scipy.stats as stats\n",
    "stats.shapiro(mod.resid)"
   ]
  },
  {
   "cell_type": "code",
   "execution_count": 11,
   "metadata": {
    "scrolled": true
   },
   "outputs": [
    {
     "data": {
      "image/png": "[encoded data removed]",
      "text/plain": [
       "<Figure size 432x288 with 1 Axes>"
      ]
     },
     "metadata": {
      "needs_background": "light"
     },
     "output_type": "display_data"
    }
   ],
   "source": [
    "import numpy as np\n",
    "import statsmodels.api as sm\n",
    "import scipy.stats as stats\n",
    "import pylab\n",
    "sm.qqplot(mod.resid, line='r')\n",
    "pylab.show()"
   ]
  },
  {
   "cell_type": "code",
   "execution_count": 12,
   "metadata": {},
   "outputs": [],
   "source": [
    "def shapiro(dep, ind1, ind2):\n",
    "    normality = {'Shapiro':{}}\n",
    "    import scipy.stats as stats\n",
    "    for cat_ind1 in pd.unique(df[ind1]):\n",
    "        for cat_ind2 in pd.unique(df[ind2]):\n",
    "            result = stats.shapiro(df[dep][df[ind1] == cat_ind1][df[ind2] == cat_ind2])\n",
    "            normality['Shapiro'][f'{cat_ind1} and {cat_ind2}'] = result\n",
    "    return pd.DataFrame(normality)"
   ]
  },
  {
   "cell_type": "code",
   "execution_count": 13,
   "metadata": {},
   "outputs": [
    {
     "data": {
      "text/html": [
       "<div>\n",
       "<style scoped>\n",
       "    .dataframe tbody tr th:only-of-type {\n",
       "        vertical-align: middle;\n",
       "    }\n",
       "\n",
       "    .dataframe tbody tr th {\n",
       "        vertical-align: top;\n",
       "    }\n",
       "\n",
       "    .dataframe thead th {\n",
       "        text-align: right;\n",
       "    }\n",
       "</style>\n",
       "<table border=\"1\" class=\"dataframe\">\n",
       "  <thead>\n",
       "    <tr style=\"text-align: right;\">\n",
       "      <th></th>\n",
       "      <th>Shapiro</th>\n",
       "    </tr>\n",
       "  </thead>\n",
       "  <tbody>\n",
       "    <tr>\n",
       "      <th>female and college</th>\n",
       "      <td>(0.9629531502723694, 0.8189500570297241)</td>\n",
       "    </tr>\n",
       "    <tr>\n",
       "      <th>female and school</th>\n",
       "      <td>(0.9629152417182922, 0.8185338973999023)</td>\n",
       "    </tr>\n",
       "    <tr>\n",
       "      <th>female and university</th>\n",
       "      <td>(0.9504411816596985, 0.6737228631973267)</td>\n",
       "    </tr>\n",
       "    <tr>\n",
       "      <th>male and college</th>\n",
       "      <td>(0.9581483602523804, 0.7787535786628723)</td>\n",
       "    </tr>\n",
       "    <tr>\n",
       "      <th>male and school</th>\n",
       "      <td>(0.980429470539093, 0.9664469361305237)</td>\n",
       "    </tr>\n",
       "    <tr>\n",
       "      <th>male and university</th>\n",
       "      <td>(0.9157170057296753, 0.3226124942302704)</td>\n",
       "    </tr>\n",
       "  </tbody>\n",
       "</table>\n",
       "</div>"
      ],
      "text/plain": [
       "                                                        Shapiro\n",
       "female and college     (0.9629531502723694, 0.8189500570297241)\n",
       "female and school      (0.9629152417182922, 0.8185338973999023)\n",
       "female and university  (0.9504411816596985, 0.6737228631973267)\n",
       "male and college       (0.9581483602523804, 0.7787535786628723)\n",
       "male and school         (0.980429470539093, 0.9664469361305237)\n",
       "male and university    (0.9157170057296753, 0.3226124942302704)"
      ]
     },
     "execution_count": 13,
     "metadata": {},
     "output_type": "execute_result"
    }
   ],
   "source": [
    "shapiro('score', 'gender', 'education_level')"
   ]
  },
  {
   "cell_type": "markdown",
   "metadata": {},
   "source": [
    "### Homogneity of variance"
   ]
  },
  {
   "cell_type": "code",
   "execution_count": 14,
   "metadata": {},
   "outputs": [],
   "source": [
    "# if normality exists then perform bartlett otherwise levene's tests"
   ]
  },
  {
   "cell_type": "code",
   "execution_count": 15,
   "metadata": {},
   "outputs": [],
   "source": [
    "# Null Hypothesis: the variances are equal across all samples/groups\n",
    "# Alternative Hypothesis:  the variances are not equal across all samples/groups"
   ]
  },
  {
   "cell_type": "code",
   "execution_count": 16,
   "metadata": {},
   "outputs": [],
   "source": [
    "def homogeneity(dep, ind1, ind2):\n",
    "    combinations = []\n",
    "    for gen in pd.unique(df[ind1]):\n",
    "        for edu in pd.unique(df[ind2]):\n",
    "            result = df[dep][df[ind1] == gen][df[ind2] == edu]\n",
    "            combinations.append(result)\n",
    "    from scipy.stats import bartlett\n",
    "    import scipy.stats as stats\n",
    "    stat, p = bartlett(combinations[0], combinations[1], combinations[2], combinations[3], combinations[4], combinations[5])\n",
    "    bstat, bp = stat, p\n",
    "    from scipy.stats import levene\n",
    "    stat, p = levene(combinations[0], combinations[1], combinations[2], combinations[3], combinations[4], combinations[5])\n",
    "    lstat, lp = stat, p\n",
    "    \n",
    "    homo_result = {\n",
    "                'Bartlett': {\n",
    "                    'stat': bstat, \n",
    "                    'p-value': bp, \n",
    "                            },\n",
    "                'Levene': {\n",
    "                    'stat': lstat, \n",
    "                    'p-value': lp, \n",
    "                          }\n",
    "                  }\n",
    "    return pd.DataFrame(homo_result)"
   ]
  },
  {
   "cell_type": "code",
   "execution_count": 17,
   "metadata": {},
   "outputs": [
    {
     "data": {
      "text/html": [
       "<div>\n",
       "<style scoped>\n",
       "    .dataframe tbody tr th:only-of-type {\n",
       "        vertical-align: middle;\n",
       "    }\n",
       "\n",
       "    .dataframe tbody tr th {\n",
       "        vertical-align: top;\n",
       "    }\n",
       "\n",
       "    .dataframe thead th {\n",
       "        text-align: right;\n",
       "    }\n",
       "</style>\n",
       "<table border=\"1\" class=\"dataframe\">\n",
       "  <thead>\n",
       "    <tr style=\"text-align: right;\">\n",
       "      <th></th>\n",
       "      <th>Bartlett</th>\n",
       "      <th>Levene</th>\n",
       "    </tr>\n",
       "  </thead>\n",
       "  <tbody>\n",
       "    <tr>\n",
       "      <th>stat</th>\n",
       "      <td>13.265798</td>\n",
       "      <td>2.197048</td>\n",
       "    </tr>\n",
       "    <tr>\n",
       "      <th>p-value</th>\n",
       "      <td>0.021011</td>\n",
       "      <td>0.068560</td>\n",
       "    </tr>\n",
       "  </tbody>\n",
       "</table>\n",
       "</div>"
      ],
      "text/plain": [
       "          Bartlett    Levene\n",
       "stat     13.265798  2.197048\n",
       "p-value   0.021011  0.068560"
      ]
     },
     "execution_count": 17,
     "metadata": {},
     "output_type": "execute_result"
    }
   ],
   "source": [
    "homogeneity('score', 'gender', 'education_level')"
   ]
  },
  {
   "cell_type": "markdown",
   "metadata": {},
   "source": [
    "## Two-Way ANOVA Computation"
   ]
  },
  {
   "cell_type": "code",
   "execution_count": 18,
   "metadata": {},
   "outputs": [
    {
     "data": {
      "text/html": [
       "<div>\n",
       "<style scoped>\n",
       "    .dataframe tbody tr th:only-of-type {\n",
       "        vertical-align: middle;\n",
       "    }\n",
       "\n",
       "    .dataframe tbody tr th {\n",
       "        vertical-align: top;\n",
       "    }\n",
       "\n",
       "    .dataframe thead th {\n",
       "        text-align: right;\n",
       "    }\n",
       "</style>\n",
       "<table border=\"1\" class=\"dataframe\">\n",
       "  <thead>\n",
       "    <tr style=\"text-align: right;\">\n",
       "      <th></th>\n",
       "      <th>Source</th>\n",
       "      <th>SS</th>\n",
       "      <th>DF</th>\n",
       "      <th>MS</th>\n",
       "      <th>F</th>\n",
       "      <th>p-unc</th>\n",
       "      <th>np2</th>\n",
       "    </tr>\n",
       "  </thead>\n",
       "  <tbody>\n",
       "    <tr>\n",
       "      <th>0</th>\n",
       "      <td>gender</td>\n",
       "      <td>0.225297</td>\n",
       "      <td>1.0</td>\n",
       "      <td>0.225297</td>\n",
       "      <td>0.744721</td>\n",
       "      <td>3.921154e-01</td>\n",
       "      <td>0.014119</td>\n",
       "    </tr>\n",
       "    <tr>\n",
       "      <th>1</th>\n",
       "      <td>education_level</td>\n",
       "      <td>113.684117</td>\n",
       "      <td>2.0</td>\n",
       "      <td>56.842059</td>\n",
       "      <td>187.892103</td>\n",
       "      <td>1.600455e-24</td>\n",
       "      <td>0.878443</td>\n",
       "    </tr>\n",
       "    <tr>\n",
       "      <th>2</th>\n",
       "      <td>gender * education_level</td>\n",
       "      <td>4.439794</td>\n",
       "      <td>2.0</td>\n",
       "      <td>2.219897</td>\n",
       "      <td>7.337895</td>\n",
       "      <td>1.559245e-03</td>\n",
       "      <td>0.220107</td>\n",
       "    </tr>\n",
       "    <tr>\n",
       "      <th>3</th>\n",
       "      <td>Residual</td>\n",
       "      <td>15.731300</td>\n",
       "      <td>52.0</td>\n",
       "      <td>0.302525</td>\n",
       "      <td>NaN</td>\n",
       "      <td>NaN</td>\n",
       "      <td>NaN</td>\n",
       "    </tr>\n",
       "  </tbody>\n",
       "</table>\n",
       "</div>"
      ],
      "text/plain": [
       "                     Source          SS    DF         MS           F  \\\n",
       "0                    gender    0.225297   1.0   0.225297    0.744721   \n",
       "1           education_level  113.684117   2.0  56.842059  187.892103   \n",
       "2  gender * education_level    4.439794   2.0   2.219897    7.337895   \n",
       "3                  Residual   15.731300  52.0   0.302525         NaN   \n",
       "\n",
       "          p-unc       np2  \n",
       "0  3.921154e-01  0.014119  \n",
       "1  1.600455e-24  0.878443  \n",
       "2  1.559245e-03  0.220107  \n",
       "3           NaN       NaN  "
      ]
     },
     "execution_count": 18,
     "metadata": {},
     "output_type": "execute_result"
    }
   ],
   "source": [
    "import pingouin as pg\n",
    "df.anova(dv=\"score\", between=[\"gender\", \"education_level\"])"
   ]
  },
  {
   "cell_type": "markdown",
   "metadata": {},
   "source": [
    "## Post-hoct tests"
   ]
  },
  {
   "cell_type": "markdown",
   "metadata": {},
   "source": [
    "### Procedure for significant two-way interaction"
   ]
  },
  {
   "cell_type": "markdown",
   "metadata": {},
   "source": [
    "#### Compute simple main effects"
   ]
  },
  {
   "cell_type": "code",
   "execution_count": 19,
   "metadata": {},
   "outputs": [],
   "source": [
    "# simple main effect of “education_level” on job satisfaction score"
   ]
  },
  {
   "cell_type": "code",
   "execution_count": 20,
   "metadata": {},
   "outputs": [
    {
     "data": {
      "text/html": [
       "<div>\n",
       "<style scoped>\n",
       "    .dataframe tbody tr th:only-of-type {\n",
       "        vertical-align: middle;\n",
       "    }\n",
       "\n",
       "    .dataframe tbody tr th {\n",
       "        vertical-align: top;\n",
       "    }\n",
       "\n",
       "    .dataframe thead th {\n",
       "        text-align: right;\n",
       "    }\n",
       "</style>\n",
       "<table border=\"1\" class=\"dataframe\">\n",
       "  <thead>\n",
       "    <tr style=\"text-align: right;\">\n",
       "      <th></th>\n",
       "      <th></th>\n",
       "      <th>Source</th>\n",
       "      <th>ddof1</th>\n",
       "      <th>ddof2</th>\n",
       "      <th>F</th>\n",
       "      <th>p-unc</th>\n",
       "      <th>np2</th>\n",
       "    </tr>\n",
       "  </thead>\n",
       "  <tbody>\n",
       "    <tr>\n",
       "      <th>male</th>\n",
       "      <th>0</th>\n",
       "      <td>education_level</td>\n",
       "      <td>2</td>\n",
       "      <td>25</td>\n",
       "      <td>266.343479</td>\n",
       "      <td>1.394341e-17</td>\n",
       "      <td>0.955172</td>\n",
       "    </tr>\n",
       "    <tr>\n",
       "      <th>female</th>\n",
       "      <th>0</th>\n",
       "      <td>education_level</td>\n",
       "      <td>2</td>\n",
       "      <td>27</td>\n",
       "      <td>42.849825</td>\n",
       "      <td>4.192337e-09</td>\n",
       "      <td>0.760425</td>\n",
       "    </tr>\n",
       "  </tbody>\n",
       "</table>\n",
       "</div>"
      ],
      "text/plain": [
       "                   Source  ddof1  ddof2           F         p-unc       np2\n",
       "male   0  education_level      2     25  266.343479  1.394341e-17  0.955172\n",
       "female 0  education_level      2     27   42.849825  4.192337e-09  0.760425"
      ]
     },
     "execution_count": 20,
     "metadata": {},
     "output_type": "execute_result"
    }
   ],
   "source": [
    "male = df[df['gender'] == 'male']\n",
    "female = df[df['gender'] == 'female']\n",
    "\n",
    "dataframes = [male, female]\n",
    "index = ['male', 'female']\n",
    "tables = []\n",
    "for i in dataframes:\n",
    "    anova = pg.anova(dv=\"score\", between='education_level', data=i)    \n",
    "    tables.append(anova)\n",
    "df_anova = pd.concat(tables, keys=index, axis=0)\n",
    "df_anova"
   ]
  },
  {
   "cell_type": "markdown",
   "metadata": {},
   "source": [
    "##### Compute pairwise comparisons"
   ]
  },
  {
   "cell_type": "code",
   "execution_count": 21,
   "metadata": {},
   "outputs": [],
   "source": [
    "# Compare the score of the different education levels by gender levels:"
   ]
  },
  {
   "cell_type": "code",
   "execution_count": 22,
   "metadata": {
    "scrolled": false
   },
   "outputs": [
    {
     "data": {
      "text/html": [
       "<div>\n",
       "<style scoped>\n",
       "    .dataframe tbody tr th:only-of-type {\n",
       "        vertical-align: middle;\n",
       "    }\n",
       "\n",
       "    .dataframe tbody tr th {\n",
       "        vertical-align: top;\n",
       "    }\n",
       "\n",
       "    .dataframe thead th {\n",
       "        text-align: right;\n",
       "    }\n",
       "</style>\n",
       "<table border=\"1\" class=\"dataframe\">\n",
       "  <thead>\n",
       "    <tr style=\"text-align: right;\">\n",
       "      <th></th>\n",
       "      <th>Contrast</th>\n",
       "      <th>gender</th>\n",
       "      <th>A</th>\n",
       "      <th>B</th>\n",
       "      <th>Paired</th>\n",
       "      <th>Parametric</th>\n",
       "      <th>T</th>\n",
       "      <th>dof</th>\n",
       "      <th>alternative</th>\n",
       "      <th>p-unc</th>\n",
       "      <th>p-corr</th>\n",
       "      <th>p-adjust</th>\n",
       "      <th>BF10</th>\n",
       "      <th>hedges</th>\n",
       "    </tr>\n",
       "  </thead>\n",
       "  <tbody>\n",
       "    <tr>\n",
       "      <th>0</th>\n",
       "      <td>gender</td>\n",
       "      <td>-</td>\n",
       "      <td>female</td>\n",
       "      <td>male</td>\n",
       "      <td>False</td>\n",
       "      <td>True</td>\n",
       "      <td>-0.470839</td>\n",
       "      <td>49.769254</td>\n",
       "      <td>two-sided</td>\n",
       "      <td>6.398128e-01</td>\n",
       "      <td>NaN</td>\n",
       "      <td>NaN</td>\n",
       "      <td>0.292</td>\n",
       "      <td>-0.123292</td>\n",
       "    </tr>\n",
       "    <tr>\n",
       "      <th>1</th>\n",
       "      <td>education_level</td>\n",
       "      <td>-</td>\n",
       "      <td>college</td>\n",
       "      <td>school</td>\n",
       "      <td>False</td>\n",
       "      <td>True</td>\n",
       "      <td>5.380710</td>\n",
       "      <td>36.000000</td>\n",
       "      <td>two-sided</td>\n",
       "      <td>4.674699e-06</td>\n",
       "      <td>1.402410e-05</td>\n",
       "      <td>bonf</td>\n",
       "      <td>3128.375</td>\n",
       "      <td>1.709109</td>\n",
       "    </tr>\n",
       "    <tr>\n",
       "      <th>2</th>\n",
       "      <td>education_level</td>\n",
       "      <td>-</td>\n",
       "      <td>college</td>\n",
       "      <td>university</td>\n",
       "      <td>False</td>\n",
       "      <td>True</td>\n",
       "      <td>-11.748040</td>\n",
       "      <td>28.243233</td>\n",
       "      <td>two-sided</td>\n",
       "      <td>2.179360e-12</td>\n",
       "      <td>6.538081e-12</td>\n",
       "      <td>bonf</td>\n",
       "      <td>8.582e+10</td>\n",
       "      <td>-3.629008</td>\n",
       "    </tr>\n",
       "    <tr>\n",
       "      <th>3</th>\n",
       "      <td>education_level</td>\n",
       "      <td>-</td>\n",
       "      <td>school</td>\n",
       "      <td>university</td>\n",
       "      <td>False</td>\n",
       "      <td>True</td>\n",
       "      <td>-15.147156</td>\n",
       "      <td>29.035146</td>\n",
       "      <td>two-sided</td>\n",
       "      <td>2.550292e-15</td>\n",
       "      <td>7.650877e-15</td>\n",
       "      <td>bonf</td>\n",
       "      <td>1.526e+14</td>\n",
       "      <td>-4.682959</td>\n",
       "    </tr>\n",
       "    <tr>\n",
       "      <th>4</th>\n",
       "      <td>gender * education_level</td>\n",
       "      <td>female</td>\n",
       "      <td>college</td>\n",
       "      <td>school</td>\n",
       "      <td>False</td>\n",
       "      <td>True</td>\n",
       "      <td>3.401987</td>\n",
       "      <td>18.000000</td>\n",
       "      <td>two-sided</td>\n",
       "      <td>3.177495e-03</td>\n",
       "      <td>1.906497e-02</td>\n",
       "      <td>bonf</td>\n",
       "      <td>12.191</td>\n",
       "      <td>1.457130</td>\n",
       "    </tr>\n",
       "    <tr>\n",
       "      <th>5</th>\n",
       "      <td>gender * education_level</td>\n",
       "      <td>female</td>\n",
       "      <td>college</td>\n",
       "      <td>university</td>\n",
       "      <td>False</td>\n",
       "      <td>True</td>\n",
       "      <td>-5.845081</td>\n",
       "      <td>18.000000</td>\n",
       "      <td>two-sided</td>\n",
       "      <td>1.550185e-05</td>\n",
       "      <td>9.301110e-05</td>\n",
       "      <td>bonf</td>\n",
       "      <td>967.42</td>\n",
       "      <td>-2.503549</td>\n",
       "    </tr>\n",
       "    <tr>\n",
       "      <th>6</th>\n",
       "      <td>gender * education_level</td>\n",
       "      <td>female</td>\n",
       "      <td>school</td>\n",
       "      <td>university</td>\n",
       "      <td>False</td>\n",
       "      <td>True</td>\n",
       "      <td>-8.017992</td>\n",
       "      <td>18.000000</td>\n",
       "      <td>two-sided</td>\n",
       "      <td>2.373516e-07</td>\n",
       "      <td>1.424110e-06</td>\n",
       "      <td>bonf</td>\n",
       "      <td>3.902e+04</td>\n",
       "      <td>-3.434244</td>\n",
       "    </tr>\n",
       "    <tr>\n",
       "      <th>7</th>\n",
       "      <td>gender * education_level</td>\n",
       "      <td>male</td>\n",
       "      <td>college</td>\n",
       "      <td>school</td>\n",
       "      <td>False</td>\n",
       "      <td>True</td>\n",
       "      <td>4.801656</td>\n",
       "      <td>16.000000</td>\n",
       "      <td>two-sided</td>\n",
       "      <td>1.956651e-04</td>\n",
       "      <td>1.173990e-03</td>\n",
       "      <td>bonf</td>\n",
       "      <td>110.873</td>\n",
       "      <td>2.155736</td>\n",
       "    </tr>\n",
       "    <tr>\n",
       "      <th>8</th>\n",
       "      <td>gender * education_level</td>\n",
       "      <td>male</td>\n",
       "      <td>college</td>\n",
       "      <td>university</td>\n",
       "      <td>False</td>\n",
       "      <td>True</td>\n",
       "      <td>-17.001394</td>\n",
       "      <td>16.603038</td>\n",
       "      <td>two-sided</td>\n",
       "      <td>6.228369e-12</td>\n",
       "      <td>3.737021e-11</td>\n",
       "      <td>bonf</td>\n",
       "      <td>8.988e+08</td>\n",
       "      <td>-7.353399</td>\n",
       "    </tr>\n",
       "    <tr>\n",
       "      <th>9</th>\n",
       "      <td>gender * education_level</td>\n",
       "      <td>male</td>\n",
       "      <td>school</td>\n",
       "      <td>university</td>\n",
       "      <td>False</td>\n",
       "      <td>True</td>\n",
       "      <td>-20.818437</td>\n",
       "      <td>16.869835</td>\n",
       "      <td>two-sided</td>\n",
       "      <td>1.811536e-13</td>\n",
       "      <td>1.086922e-12</td>\n",
       "      <td>bonf</td>\n",
       "      <td>1.94e+10</td>\n",
       "      <td>-9.037093</td>\n",
       "    </tr>\n",
       "  </tbody>\n",
       "</table>\n",
       "</div>"
      ],
      "text/plain": [
       "                   Contrast  gender        A           B Paired  Parametric  \\\n",
       "0                    gender       -   female        male  False        True   \n",
       "1           education_level       -  college      school  False        True   \n",
       "2           education_level       -  college  university  False        True   \n",
       "3           education_level       -   school  university  False        True   \n",
       "4  gender * education_level  female  college      school  False        True   \n",
       "5  gender * education_level  female  college  university  False        True   \n",
       "6  gender * education_level  female   school  university  False        True   \n",
       "7  gender * education_level    male  college      school  False        True   \n",
       "8  gender * education_level    male  college  university  False        True   \n",
       "9  gender * education_level    male   school  university  False        True   \n",
       "\n",
       "           T        dof alternative         p-unc        p-corr p-adjust  \\\n",
       "0  -0.470839  49.769254   two-sided  6.398128e-01           NaN      NaN   \n",
       "1   5.380710  36.000000   two-sided  4.674699e-06  1.402410e-05     bonf   \n",
       "2 -11.748040  28.243233   two-sided  2.179360e-12  6.538081e-12     bonf   \n",
       "3 -15.147156  29.035146   two-sided  2.550292e-15  7.650877e-15     bonf   \n",
       "4   3.401987  18.000000   two-sided  3.177495e-03  1.906497e-02     bonf   \n",
       "5  -5.845081  18.000000   two-sided  1.550185e-05  9.301110e-05     bonf   \n",
       "6  -8.017992  18.000000   two-sided  2.373516e-07  1.424110e-06     bonf   \n",
       "7   4.801656  16.000000   two-sided  1.956651e-04  1.173990e-03     bonf   \n",
       "8 -17.001394  16.603038   two-sided  6.228369e-12  3.737021e-11     bonf   \n",
       "9 -20.818437  16.869835   two-sided  1.811536e-13  1.086922e-12     bonf   \n",
       "\n",
       "        BF10    hedges  \n",
       "0      0.292 -0.123292  \n",
       "1   3128.375  1.709109  \n",
       "2  8.582e+10 -3.629008  \n",
       "3  1.526e+14 -4.682959  \n",
       "4     12.191  1.457130  \n",
       "5     967.42 -2.503549  \n",
       "6  3.902e+04 -3.434244  \n",
       "7    110.873  2.155736  \n",
       "8  8.988e+08 -7.353399  \n",
       "9   1.94e+10 -9.037093  "
      ]
     },
     "execution_count": 22,
     "metadata": {},
     "output_type": "execute_result"
    }
   ],
   "source": [
    "ptest = pg.pairwise_ttests(dv='score', between=['gender', 'education_level'], padjust='bonf', data=df)\n",
    "ptest"
   ]
  },
  {
   "cell_type": "markdown",
   "metadata": {},
   "source": [
    "#### Compute pairwise comparisons"
   ]
  },
  {
   "cell_type": "code",
   "execution_count": 23,
   "metadata": {},
   "outputs": [],
   "source": [
    "# Compare the score of the different gender levels by education levels:"
   ]
  },
  {
   "cell_type": "code",
   "execution_count": 24,
   "metadata": {
    "scrolled": false
   },
   "outputs": [
    {
     "data": {
      "text/html": [
       "<div>\n",
       "<style scoped>\n",
       "    .dataframe tbody tr th:only-of-type {\n",
       "        vertical-align: middle;\n",
       "    }\n",
       "\n",
       "    .dataframe tbody tr th {\n",
       "        vertical-align: top;\n",
       "    }\n",
       "\n",
       "    .dataframe thead th {\n",
       "        text-align: right;\n",
       "    }\n",
       "</style>\n",
       "<table border=\"1\" class=\"dataframe\">\n",
       "  <thead>\n",
       "    <tr style=\"text-align: right;\">\n",
       "      <th></th>\n",
       "      <th>Contrast</th>\n",
       "      <th>education_level</th>\n",
       "      <th>A</th>\n",
       "      <th>B</th>\n",
       "      <th>Paired</th>\n",
       "      <th>Parametric</th>\n",
       "      <th>T</th>\n",
       "      <th>dof</th>\n",
       "      <th>alternative</th>\n",
       "      <th>p-unc</th>\n",
       "      <th>p-corr</th>\n",
       "      <th>p-adjust</th>\n",
       "      <th>BF10</th>\n",
       "      <th>hedges</th>\n",
       "    </tr>\n",
       "  </thead>\n",
       "  <tbody>\n",
       "    <tr>\n",
       "      <th>0</th>\n",
       "      <td>education_level</td>\n",
       "      <td>-</td>\n",
       "      <td>college</td>\n",
       "      <td>school</td>\n",
       "      <td>False</td>\n",
       "      <td>True</td>\n",
       "      <td>5.380710</td>\n",
       "      <td>36.000000</td>\n",
       "      <td>two-sided</td>\n",
       "      <td>4.674699e-06</td>\n",
       "      <td>1.402410e-05</td>\n",
       "      <td>bonf</td>\n",
       "      <td>3128.375</td>\n",
       "      <td>1.709109</td>\n",
       "    </tr>\n",
       "    <tr>\n",
       "      <th>1</th>\n",
       "      <td>education_level</td>\n",
       "      <td>-</td>\n",
       "      <td>college</td>\n",
       "      <td>university</td>\n",
       "      <td>False</td>\n",
       "      <td>True</td>\n",
       "      <td>-11.748040</td>\n",
       "      <td>28.243233</td>\n",
       "      <td>two-sided</td>\n",
       "      <td>2.179360e-12</td>\n",
       "      <td>6.538081e-12</td>\n",
       "      <td>bonf</td>\n",
       "      <td>8.582e+10</td>\n",
       "      <td>-3.629008</td>\n",
       "    </tr>\n",
       "    <tr>\n",
       "      <th>2</th>\n",
       "      <td>education_level</td>\n",
       "      <td>-</td>\n",
       "      <td>school</td>\n",
       "      <td>university</td>\n",
       "      <td>False</td>\n",
       "      <td>True</td>\n",
       "      <td>-15.147156</td>\n",
       "      <td>29.035146</td>\n",
       "      <td>two-sided</td>\n",
       "      <td>2.550292e-15</td>\n",
       "      <td>7.650877e-15</td>\n",
       "      <td>bonf</td>\n",
       "      <td>1.526e+14</td>\n",
       "      <td>-4.682959</td>\n",
       "    </tr>\n",
       "    <tr>\n",
       "      <th>3</th>\n",
       "      <td>gender</td>\n",
       "      <td>-</td>\n",
       "      <td>female</td>\n",
       "      <td>male</td>\n",
       "      <td>False</td>\n",
       "      <td>True</td>\n",
       "      <td>-0.470839</td>\n",
       "      <td>49.769254</td>\n",
       "      <td>two-sided</td>\n",
       "      <td>6.398128e-01</td>\n",
       "      <td>NaN</td>\n",
       "      <td>NaN</td>\n",
       "      <td>0.292</td>\n",
       "      <td>-0.123292</td>\n",
       "    </tr>\n",
       "    <tr>\n",
       "      <th>4</th>\n",
       "      <td>education_level * gender</td>\n",
       "      <td>college</td>\n",
       "      <td>female</td>\n",
       "      <td>male</td>\n",
       "      <td>False</td>\n",
       "      <td>True</td>\n",
       "      <td>1.274712</td>\n",
       "      <td>16.239360</td>\n",
       "      <td>two-sided</td>\n",
       "      <td>2.203489e-01</td>\n",
       "      <td>6.610468e-01</td>\n",
       "      <td>bonf</td>\n",
       "      <td>0.705</td>\n",
       "      <td>0.549499</td>\n",
       "    </tr>\n",
       "    <tr>\n",
       "      <th>5</th>\n",
       "      <td>education_level * gender</td>\n",
       "      <td>school</td>\n",
       "      <td>female</td>\n",
       "      <td>male</td>\n",
       "      <td>False</td>\n",
       "      <td>True</td>\n",
       "      <td>1.629331</td>\n",
       "      <td>16.621432</td>\n",
       "      <td>two-sided</td>\n",
       "      <td>1.220461e-01</td>\n",
       "      <td>3.661384e-01</td>\n",
       "      <td>bonf</td>\n",
       "      <td>0.984</td>\n",
       "      <td>0.704856</td>\n",
       "    </tr>\n",
       "    <tr>\n",
       "      <th>6</th>\n",
       "      <td>education_level * gender</td>\n",
       "      <td>university</td>\n",
       "      <td>female</td>\n",
       "      <td>male</td>\n",
       "      <td>False</td>\n",
       "      <td>True</td>\n",
       "      <td>-2.699402</td>\n",
       "      <td>18.000000</td>\n",
       "      <td>two-sided</td>\n",
       "      <td>1.467027e-02</td>\n",
       "      <td>4.401081e-02</td>\n",
       "      <td>bonf</td>\n",
       "      <td>3.938</td>\n",
       "      <td>-1.156201</td>\n",
       "    </tr>\n",
       "  </tbody>\n",
       "</table>\n",
       "</div>"
      ],
      "text/plain": [
       "                   Contrast education_level        A           B Paired  \\\n",
       "0           education_level               -  college      school  False   \n",
       "1           education_level               -  college  university  False   \n",
       "2           education_level               -   school  university  False   \n",
       "3                    gender               -   female        male  False   \n",
       "4  education_level * gender         college   female        male  False   \n",
       "5  education_level * gender          school   female        male  False   \n",
       "6  education_level * gender      university   female        male  False   \n",
       "\n",
       "   Parametric          T        dof alternative         p-unc        p-corr  \\\n",
       "0        True   5.380710  36.000000   two-sided  4.674699e-06  1.402410e-05   \n",
       "1        True -11.748040  28.243233   two-sided  2.179360e-12  6.538081e-12   \n",
       "2        True -15.147156  29.035146   two-sided  2.550292e-15  7.650877e-15   \n",
       "3        True  -0.470839  49.769254   two-sided  6.398128e-01           NaN   \n",
       "4        True   1.274712  16.239360   two-sided  2.203489e-01  6.610468e-01   \n",
       "5        True   1.629331  16.621432   two-sided  1.220461e-01  3.661384e-01   \n",
       "6        True  -2.699402  18.000000   two-sided  1.467027e-02  4.401081e-02   \n",
       "\n",
       "  p-adjust       BF10    hedges  \n",
       "0     bonf   3128.375  1.709109  \n",
       "1     bonf  8.582e+10 -3.629008  \n",
       "2     bonf  1.526e+14 -4.682959  \n",
       "3      NaN      0.292 -0.123292  \n",
       "4     bonf      0.705  0.549499  \n",
       "5     bonf      0.984  0.704856  \n",
       "6     bonf      3.938 -1.156201  "
      ]
     },
     "execution_count": 24,
     "metadata": {},
     "output_type": "execute_result"
    }
   ],
   "source": [
    "ptest = pg.pairwise_ttests(dv='score', between=['education_level', 'gender'], padjust='bonf', data=df)\n",
    "ptest"
   ]
  },
  {
   "cell_type": "markdown",
   "metadata": {},
   "source": [
    "### Procedure for non-significant two-way interaction"
   ]
  },
  {
   "cell_type": "markdown",
   "metadata": {},
   "source": [
    "#### Compute Main effects"
   ]
  },
  {
   "cell_type": "code",
   "execution_count": 25,
   "metadata": {},
   "outputs": [],
   "source": [
    "# Inspect main effects"
   ]
  },
  {
   "cell_type": "code",
   "execution_count": 26,
   "metadata": {},
   "outputs": [
    {
     "data": {
      "text/html": [
       "<div>\n",
       "<style scoped>\n",
       "    .dataframe tbody tr th:only-of-type {\n",
       "        vertical-align: middle;\n",
       "    }\n",
       "\n",
       "    .dataframe tbody tr th {\n",
       "        vertical-align: top;\n",
       "    }\n",
       "\n",
       "    .dataframe thead th {\n",
       "        text-align: right;\n",
       "    }\n",
       "</style>\n",
       "<table border=\"1\" class=\"dataframe\">\n",
       "  <thead>\n",
       "    <tr style=\"text-align: right;\">\n",
       "      <th></th>\n",
       "      <th>Source</th>\n",
       "      <th>SS</th>\n",
       "      <th>DF</th>\n",
       "      <th>MS</th>\n",
       "      <th>F</th>\n",
       "      <th>p-unc</th>\n",
       "      <th>np2</th>\n",
       "    </tr>\n",
       "  </thead>\n",
       "  <tbody>\n",
       "    <tr>\n",
       "      <th>0</th>\n",
       "      <td>gender</td>\n",
       "      <td>0.225297</td>\n",
       "      <td>1.0</td>\n",
       "      <td>0.225297</td>\n",
       "      <td>0.744721</td>\n",
       "      <td>3.921154e-01</td>\n",
       "      <td>0.014119</td>\n",
       "    </tr>\n",
       "    <tr>\n",
       "      <th>1</th>\n",
       "      <td>education_level</td>\n",
       "      <td>113.684117</td>\n",
       "      <td>2.0</td>\n",
       "      <td>56.842059</td>\n",
       "      <td>187.892103</td>\n",
       "      <td>1.600455e-24</td>\n",
       "      <td>0.878443</td>\n",
       "    </tr>\n",
       "    <tr>\n",
       "      <th>2</th>\n",
       "      <td>gender * education_level</td>\n",
       "      <td>4.439794</td>\n",
       "      <td>2.0</td>\n",
       "      <td>2.219897</td>\n",
       "      <td>7.337895</td>\n",
       "      <td>1.559245e-03</td>\n",
       "      <td>0.220107</td>\n",
       "    </tr>\n",
       "    <tr>\n",
       "      <th>3</th>\n",
       "      <td>Residual</td>\n",
       "      <td>15.731300</td>\n",
       "      <td>52.0</td>\n",
       "      <td>0.302525</td>\n",
       "      <td>NaN</td>\n",
       "      <td>NaN</td>\n",
       "      <td>NaN</td>\n",
       "    </tr>\n",
       "  </tbody>\n",
       "</table>\n",
       "</div>"
      ],
      "text/plain": [
       "                     Source          SS    DF         MS           F  \\\n",
       "0                    gender    0.225297   1.0   0.225297    0.744721   \n",
       "1           education_level  113.684117   2.0  56.842059  187.892103   \n",
       "2  gender * education_level    4.439794   2.0   2.219897    7.337895   \n",
       "3                  Residual   15.731300  52.0   0.302525         NaN   \n",
       "\n",
       "          p-unc       np2  \n",
       "0  3.921154e-01  0.014119  \n",
       "1  1.600455e-24  0.878443  \n",
       "2  1.559245e-03  0.220107  \n",
       "3           NaN       NaN  "
      ]
     },
     "execution_count": 26,
     "metadata": {},
     "output_type": "execute_result"
    }
   ],
   "source": [
    "import pingouin as pg\n",
    "df.anova(dv=\"score\", between=[\"gender\", \"education_level\"])"
   ]
  },
  {
   "cell_type": "markdown",
   "metadata": {},
   "source": [
    "#### Compute pairwise comparisons"
   ]
  },
  {
   "cell_type": "code",
   "execution_count": 27,
   "metadata": {},
   "outputs": [],
   "source": [
    "# pairwise comparisons between education level groups to determine which groups are significantly different bcz as we saw the education_level is not significant in anova results and also the interaction aswell"
   ]
  },
  {
   "cell_type": "code",
   "execution_count": 28,
   "metadata": {
    "scrolled": false
   },
   "outputs": [
    {
     "data": {
      "text/html": [
       "<div>\n",
       "<style scoped>\n",
       "    .dataframe tbody tr th:only-of-type {\n",
       "        vertical-align: middle;\n",
       "    }\n",
       "\n",
       "    .dataframe tbody tr th {\n",
       "        vertical-align: top;\n",
       "    }\n",
       "\n",
       "    .dataframe thead th {\n",
       "        text-align: right;\n",
       "    }\n",
       "</style>\n",
       "<table border=\"1\" class=\"dataframe\">\n",
       "  <thead>\n",
       "    <tr style=\"text-align: right;\">\n",
       "      <th></th>\n",
       "      <th>Contrast</th>\n",
       "      <th>A</th>\n",
       "      <th>B</th>\n",
       "      <th>Paired</th>\n",
       "      <th>Parametric</th>\n",
       "      <th>T</th>\n",
       "      <th>dof</th>\n",
       "      <th>alternative</th>\n",
       "      <th>p-unc</th>\n",
       "      <th>p-corr</th>\n",
       "      <th>p-adjust</th>\n",
       "      <th>BF10</th>\n",
       "      <th>hedges</th>\n",
       "    </tr>\n",
       "  </thead>\n",
       "  <tbody>\n",
       "    <tr>\n",
       "      <th>0</th>\n",
       "      <td>education_level</td>\n",
       "      <td>college</td>\n",
       "      <td>school</td>\n",
       "      <td>False</td>\n",
       "      <td>True</td>\n",
       "      <td>5.380710</td>\n",
       "      <td>36.000000</td>\n",
       "      <td>two-sided</td>\n",
       "      <td>4.674699e-06</td>\n",
       "      <td>1.402410e-05</td>\n",
       "      <td>bonf</td>\n",
       "      <td>3128.375</td>\n",
       "      <td>1.709109</td>\n",
       "    </tr>\n",
       "    <tr>\n",
       "      <th>1</th>\n",
       "      <td>education_level</td>\n",
       "      <td>college</td>\n",
       "      <td>university</td>\n",
       "      <td>False</td>\n",
       "      <td>True</td>\n",
       "      <td>-11.748040</td>\n",
       "      <td>28.243233</td>\n",
       "      <td>two-sided</td>\n",
       "      <td>2.179360e-12</td>\n",
       "      <td>6.538081e-12</td>\n",
       "      <td>bonf</td>\n",
       "      <td>8.582e+10</td>\n",
       "      <td>-3.629008</td>\n",
       "    </tr>\n",
       "    <tr>\n",
       "      <th>2</th>\n",
       "      <td>education_level</td>\n",
       "      <td>school</td>\n",
       "      <td>university</td>\n",
       "      <td>False</td>\n",
       "      <td>True</td>\n",
       "      <td>-15.147156</td>\n",
       "      <td>29.035146</td>\n",
       "      <td>two-sided</td>\n",
       "      <td>2.550292e-15</td>\n",
       "      <td>7.650877e-15</td>\n",
       "      <td>bonf</td>\n",
       "      <td>1.526e+14</td>\n",
       "      <td>-4.682959</td>\n",
       "    </tr>\n",
       "  </tbody>\n",
       "</table>\n",
       "</div>"
      ],
      "text/plain": [
       "          Contrast        A           B  Paired  Parametric          T  \\\n",
       "0  education_level  college      school   False        True   5.380710   \n",
       "1  education_level  college  university   False        True -11.748040   \n",
       "2  education_level   school  university   False        True -15.147156   \n",
       "\n",
       "         dof alternative         p-unc        p-corr p-adjust       BF10  \\\n",
       "0  36.000000   two-sided  4.674699e-06  1.402410e-05     bonf   3128.375   \n",
       "1  28.243233   two-sided  2.179360e-12  6.538081e-12     bonf  8.582e+10   \n",
       "2  29.035146   two-sided  2.550292e-15  7.650877e-15     bonf  1.526e+14   \n",
       "\n",
       "     hedges  \n",
       "0  1.709109  \n",
       "1 -3.629008  \n",
       "2 -4.682959  "
      ]
     },
     "execution_count": 28,
     "metadata": {},
     "output_type": "execute_result"
    }
   ],
   "source": [
    "df.pairwise_ttests(dv='score', between=['education_level'], padjust='bonf')"
   ]
  },
  {
   "cell_type": "markdown",
   "metadata": {},
   "source": [
    "## Report"
   ]
  },
  {
   "cell_type": "code",
   "execution_count": 29,
   "metadata": {
    "scrolled": false
   },
   "outputs": [
    {
     "name": "stdout",
     "output_type": "stream",
     "text": [
      "p-value annotation legend:\n",
      "      ns: p <= 1.00e+00\n",
      "       *: 1.00e-02 < p <= 5.00e-02\n",
      "      **: 1.00e-03 < p <= 1.00e-02\n",
      "     ***: 1.00e-04 < p <= 1.00e-03\n",
      "    ****: p <= 1.00e-04\n",
      "\n",
      "female_college vs. female_university: Custom statistical test, P_val:9.301e-05\n",
      "male_school vs. male_college: Custom statistical test, P_val:1.174e-03\n",
      "male_college vs. male_university: Custom statistical test, P_val:3.737e-11\n",
      "female_school vs. female_college: Custom statistical test, P_val:1.906e-02\n",
      "female_school vs. female_university: Custom statistical test, P_val:1.424e-06\n",
      "male_school vs. male_university: Custom statistical test, P_val:1.087e-12\n"
     ]
    },
    {
     "data": {
      "image/png": "[encoded data removed]",
      "text/plain": [
       "<Figure size 1080x576 with 1 Axes>"
      ]
     },
     "metadata": {
      "needs_background": "light"
     },
     "output_type": "display_data"
    }
   ],
   "source": [
    "from statannotations.Annotator import Annotator\n",
    "\n",
    "# subcat_palette = sns.color_palette(\"YlGnBu\", n_colors=3)\n",
    "\n",
    "education_level = [\"school\", \"college\", \"university\"]\n",
    "gender = ['male', 'female']\n",
    "\n",
    "pvalues = [1.173990e-03, 3.737021e-11, 1.086922e-12, 1.906497e-02, 9.301110e-05, 1.424110e-06]\n",
    "\n",
    "# Putting the parameters in a dictionary avoids code duplication\n",
    "# since we use the same for `sns.boxplot` and `Annotator` calls..\n",
    "pairs = [\n",
    "    [('male', 'college'), ('male', 'school')],\n",
    "    [('male', 'college'), ('male', 'university')],\n",
    "    [('male', 'school'), ('male', 'university')],\n",
    "    \n",
    "    [('female', 'college'), ('female', 'school')],\n",
    "    [('female', 'college'), ('female', 'university')],\n",
    "    [('female', 'school'), ('female', 'university')],\n",
    "]\n",
    "\n",
    "\n",
    "plotting_parameters = {\n",
    "    'data': df,\n",
    "    'x': 'gender',\n",
    "    'y': 'score',\n",
    "    \"order\": gender,\n",
    "    \"hue\": \"education_level\",\n",
    "    \"hue_order\": education_level,\n",
    "#     \"palette\": subcat_palette\n",
    "}\n",
    "\n",
    "formatted_pvalues = [f\"p={p:.2e}\" for p in pvalues]\n",
    "with sns.plotting_context('notebook', font_scale = 1.4):\n",
    "\n",
    "    from matplotlib import pyplot as plt\n",
    "    plt.figure(figsize=(15,8))\n",
    "    \n",
    "    # Plot with seaborn\n",
    "    ax = sns.boxplot(**plotting_parameters)\n",
    "\n",
    "    # Add annotations\n",
    "    annotator = Annotator(ax, pairs, **plotting_parameters)\n",
    "    annotator.set_pvalues(pvalues)\n",
    "    annotator.annotate()\n",
    "\n",
    "    plt.show()"
   ]
  }
 ],
 "metadata": {
  "kernelspec": {
   "display_name": "Python 3 (ipykernel)",
   "language": "python",
   "name": "python3"
  },
  "language_info": {
   "codemirror_mode": {
    "name": "ipython",
    "version": 3
   },
   "file_extension": ".py",
   "mimetype": "text/x-python",
   "name": "python",
   "nbconvert_exporter": "python",
   "pygments_lexer": "ipython3",
   "version": "3.9.7"
  }
 },
 "nbformat": 4,
 "nbformat_minor": 2
}
