{
 "cells": [
  {
   "cell_type": "code",
   "execution_count": 1,
   "metadata": {
    "scrolled": true
   },
   "outputs": [],
   "source": [
    "import pandas as pd\n",
    "import numpy as np\n",
    "import seaborn as sns\n",
    "import matplotlib.pyplot as plt"
   ]
  },
  {
   "cell_type": "code",
   "execution_count": 2,
   "metadata": {},
   "outputs": [
    {
     "data": {
      "text/html": [
       "<div>\n",
       "<style scoped>\n",
       "    .dataframe tbody tr th:only-of-type {\n",
       "        vertical-align: middle;\n",
       "    }\n",
       "\n",
       "    .dataframe tbody tr th {\n",
       "        vertical-align: top;\n",
       "    }\n",
       "\n",
       "    .dataframe thead th {\n",
       "        text-align: right;\n",
       "    }\n",
       "</style>\n",
       "<table border=\"1\" class=\"dataframe\">\n",
       "  <thead>\n",
       "    <tr style=\"text-align: right;\">\n",
       "      <th></th>\n",
       "      <th>id</th>\n",
       "      <th>treatment</th>\n",
       "      <th>time</th>\n",
       "      <th>score</th>\n",
       "    </tr>\n",
       "  </thead>\n",
       "  <tbody>\n",
       "    <tr>\n",
       "      <th>0</th>\n",
       "      <td>1</td>\n",
       "      <td>ctr</td>\n",
       "      <td>t1</td>\n",
       "      <td>83</td>\n",
       "    </tr>\n",
       "    <tr>\n",
       "      <th>1</th>\n",
       "      <td>2</td>\n",
       "      <td>ctr</td>\n",
       "      <td>t1</td>\n",
       "      <td>97</td>\n",
       "    </tr>\n",
       "    <tr>\n",
       "      <th>2</th>\n",
       "      <td>3</td>\n",
       "      <td>ctr</td>\n",
       "      <td>t1</td>\n",
       "      <td>93</td>\n",
       "    </tr>\n",
       "    <tr>\n",
       "      <th>3</th>\n",
       "      <td>4</td>\n",
       "      <td>ctr</td>\n",
       "      <td>t1</td>\n",
       "      <td>92</td>\n",
       "    </tr>\n",
       "    <tr>\n",
       "      <th>4</th>\n",
       "      <td>5</td>\n",
       "      <td>ctr</td>\n",
       "      <td>t1</td>\n",
       "      <td>77</td>\n",
       "    </tr>\n",
       "  </tbody>\n",
       "</table>\n",
       "</div>"
      ],
      "text/plain": [
       "   id treatment time  score\n",
       "0   1       ctr   t1     83\n",
       "1   2       ctr   t1     97\n",
       "2   3       ctr   t1     93\n",
       "3   4       ctr   t1     92\n",
       "4   5       ctr   t1     77"
      ]
     },
     "execution_count": 2,
     "metadata": {},
     "output_type": "execute_result"
    }
   ],
   "source": [
    "df = pd.read_csv(\"two_way_repeated.csv\")\n",
    "df.head()"
   ]
  },
  {
   "cell_type": "markdown",
   "metadata": {},
   "source": [
    "## Summary Statistics"
   ]
  },
  {
   "cell_type": "code",
   "execution_count": 3,
   "metadata": {},
   "outputs": [
    {
     "data": {
      "text/html": [
       "<div>\n",
       "<style scoped>\n",
       "    .dataframe tbody tr th:only-of-type {\n",
       "        vertical-align: middle;\n",
       "    }\n",
       "\n",
       "    .dataframe tbody tr th {\n",
       "        vertical-align: top;\n",
       "    }\n",
       "\n",
       "    .dataframe thead th {\n",
       "        text-align: right;\n",
       "    }\n",
       "</style>\n",
       "<table border=\"1\" class=\"dataframe\">\n",
       "  <thead>\n",
       "    <tr style=\"text-align: right;\">\n",
       "      <th></th>\n",
       "      <th></th>\n",
       "      <th>count</th>\n",
       "      <th>std</th>\n",
       "      <th>mean</th>\n",
       "    </tr>\n",
       "    <tr>\n",
       "      <th>treatment</th>\n",
       "      <th>time</th>\n",
       "      <th></th>\n",
       "      <th></th>\n",
       "      <th></th>\n",
       "    </tr>\n",
       "  </thead>\n",
       "  <tbody>\n",
       "    <tr>\n",
       "      <th rowspan=\"3\" valign=\"top\">Diet</th>\n",
       "      <th>t1</th>\n",
       "      <td>12</td>\n",
       "      <td>7.621242</td>\n",
       "      <td>87.583333</td>\n",
       "    </tr>\n",
       "    <tr>\n",
       "      <th>t2</th>\n",
       "      <td>12</td>\n",
       "      <td>7.420283</td>\n",
       "      <td>87.833333</td>\n",
       "    </tr>\n",
       "    <tr>\n",
       "      <th>t3</th>\n",
       "      <td>12</td>\n",
       "      <td>8.138945</td>\n",
       "      <td>87.666667</td>\n",
       "    </tr>\n",
       "    <tr>\n",
       "      <th rowspan=\"3\" valign=\"top\">ctr</th>\n",
       "      <th>t1</th>\n",
       "      <td>12</td>\n",
       "      <td>8.079154</td>\n",
       "      <td>88.000000</td>\n",
       "    </tr>\n",
       "    <tr>\n",
       "      <th>t2</th>\n",
       "      <td>12</td>\n",
       "      <td>10.232154</td>\n",
       "      <td>83.833333</td>\n",
       "    </tr>\n",
       "    <tr>\n",
       "      <th>t3</th>\n",
       "      <td>12</td>\n",
       "      <td>10.542842</td>\n",
       "      <td>78.666667</td>\n",
       "    </tr>\n",
       "  </tbody>\n",
       "</table>\n",
       "</div>"
      ],
      "text/plain": [
       "                count        std       mean\n",
       "treatment time                             \n",
       "Diet      t1       12   7.621242  87.583333\n",
       "          t2       12   7.420283  87.833333\n",
       "          t3       12   8.138945  87.666667\n",
       "ctr       t1       12   8.079154  88.000000\n",
       "          t2       12  10.232154  83.833333\n",
       "          t3       12  10.542842  78.666667"
      ]
     },
     "execution_count": 3,
     "metadata": {},
     "output_type": "execute_result"
    }
   ],
   "source": [
    "stats = df.groupby(['treatment', 'time'])['score'].agg(['count', 'std', 'mean'])\n",
    "stats"
   ]
  },
  {
   "cell_type": "markdown",
   "metadata": {},
   "source": [
    "## Boxplot"
   ]
  },
  {
   "cell_type": "code",
   "execution_count": 4,
   "metadata": {
    "scrolled": true
   },
   "outputs": [
    {
     "data": {
      "text/plain": [
       "<AxesSubplot:xlabel='time', ylabel='score'>"
      ]
     },
     "execution_count": 4,
     "metadata": {},
     "output_type": "execute_result"
    },
    {
     "data": {
      "image/png": "[encoded data removed]",
      "text/plain": [
       "<Figure size 720x360 with 1 Axes>"
      ]
     },
     "metadata": {
      "needs_background": "light"
     },
     "output_type": "display_data"
    }
   ],
   "source": [
    "plt.figure(figsize=(10, 5))\n",
    "sns.boxplot(x='time', y='score', hue='treatment', data=df, linewidth=1.5)"
   ]
  },
  {
   "cell_type": "markdown",
   "metadata": {},
   "source": [
    "## Interaction plot using Seaborn"
   ]
  },
  {
   "cell_type": "code",
   "execution_count": 5,
   "metadata": {},
   "outputs": [
    {
     "data": {
      "text/plain": [
       "<AxesSubplot:xlabel='time', ylabel='score'>"
      ]
     },
     "execution_count": 5,
     "metadata": {},
     "output_type": "execute_result"
    },
    {
     "data": {
      "image/png": "[encoded data removed]",
      "text/plain": [
       "<Figure size 720x360 with 1 Axes>"
      ]
     },
     "metadata": {
      "needs_background": "light"
     },
     "output_type": "display_data"
    }
   ],
   "source": [
    "plt.figure(figsize=(10, 5))\n",
    "ax = sns.pointplot(x='time', y='score', hue='treatment', data=df)\n",
    "ax"
   ]
  },
  {
   "cell_type": "markdown",
   "metadata": {},
   "source": [
    "# Assumptions"
   ]
  },
  {
   "cell_type": "markdown",
   "metadata": {},
   "source": [
    "### Outliers"
   ]
  },
  {
   "cell_type": "code",
   "execution_count": 6,
   "metadata": {},
   "outputs": [],
   "source": [
    "def outliers(dep, ind1, ind2):\n",
    "    dicts = {'Outliers':{}}\n",
    "    for cat_ind1 in pd.unique(df[ind1]):\n",
    "        for cat_ind2 in pd.unique(df[ind2]):\n",
    "            Q1, Q3 = np.percentile(df[dep][df[ind1] == cat_ind1][df[ind2] == cat_ind2], [25,75])\n",
    "            IQR = Q3-Q1\n",
    "            lower_fence, upper_fence= Q1-(1.5*IQR), Q3+(1.5*IQR)\n",
    "            new_dataset = []\n",
    "            for i in df[dep][df[ind1] == cat_ind1][df[ind2] == cat_ind2]:\n",
    "                if i < lower_fence or i > upper_fence:\n",
    "                    new_dataset.append(i)\n",
    "            dicts['Outliers'][f'{cat_ind1} and {cat_ind2}'] = new_dataset\n",
    "    return pd.DataFrame(dicts)"
   ]
  },
  {
   "cell_type": "code",
   "execution_count": 7,
   "metadata": {},
   "outputs": [
    {
     "data": {
      "text/html": [
       "<div>\n",
       "<style scoped>\n",
       "    .dataframe tbody tr th:only-of-type {\n",
       "        vertical-align: middle;\n",
       "    }\n",
       "\n",
       "    .dataframe tbody tr th {\n",
       "        vertical-align: top;\n",
       "    }\n",
       "\n",
       "    .dataframe thead th {\n",
       "        text-align: right;\n",
       "    }\n",
       "</style>\n",
       "<table border=\"1\" class=\"dataframe\">\n",
       "  <thead>\n",
       "    <tr style=\"text-align: right;\">\n",
       "      <th></th>\n",
       "      <th>Outliers</th>\n",
       "    </tr>\n",
       "  </thead>\n",
       "  <tbody>\n",
       "    <tr>\n",
       "      <th>t1 and Diet</th>\n",
       "      <td>[]</td>\n",
       "    </tr>\n",
       "    <tr>\n",
       "      <th>t1 and ctr</th>\n",
       "      <td>[]</td>\n",
       "    </tr>\n",
       "    <tr>\n",
       "      <th>t2 and Diet</th>\n",
       "      <td>[]</td>\n",
       "    </tr>\n",
       "    <tr>\n",
       "      <th>t2 and ctr</th>\n",
       "      <td>[]</td>\n",
       "    </tr>\n",
       "    <tr>\n",
       "      <th>t3 and Diet</th>\n",
       "      <td>[]</td>\n",
       "    </tr>\n",
       "    <tr>\n",
       "      <th>t3 and ctr</th>\n",
       "      <td>[]</td>\n",
       "    </tr>\n",
       "  </tbody>\n",
       "</table>\n",
       "</div>"
      ],
      "text/plain": [
       "            Outliers\n",
       "t1 and Diet       []\n",
       "t1 and ctr        []\n",
       "t2 and Diet       []\n",
       "t2 and ctr        []\n",
       "t3 and Diet       []\n",
       "t3 and ctr        []"
      ]
     },
     "execution_count": 7,
     "metadata": {},
     "output_type": "execute_result"
    }
   ],
   "source": [
    "outliers('score', 'time', 'treatment')"
   ]
  },
  {
   "cell_type": "markdown",
   "metadata": {},
   "source": [
    "### Normality"
   ]
  },
  {
   "cell_type": "code",
   "execution_count": 8,
   "metadata": {},
   "outputs": [],
   "source": [
    "def shapiro(dep, ind1, ind2):\n",
    "    normality = {'Shapiro':{}}\n",
    "    import scipy.stats as stats\n",
    "    for cat_ind1 in pd.unique(df[ind1]):\n",
    "        for cat_ind2 in pd.unique(df[ind2]):\n",
    "            result = stats.shapiro(df[dep][df[ind1] == cat_ind1][df[ind2] == cat_ind2])\n",
    "            normality['Shapiro'][f'{cat_ind1} and {cat_ind2}'] = result\n",
    "    return pd.DataFrame(normality)"
   ]
  },
  {
   "cell_type": "code",
   "execution_count": 9,
   "metadata": {},
   "outputs": [
    {
     "data": {
      "text/html": [
       "<div>\n",
       "<style scoped>\n",
       "    .dataframe tbody tr th:only-of-type {\n",
       "        vertical-align: middle;\n",
       "    }\n",
       "\n",
       "    .dataframe tbody tr th {\n",
       "        vertical-align: top;\n",
       "    }\n",
       "\n",
       "    .dataframe thead th {\n",
       "        text-align: right;\n",
       "    }\n",
       "</style>\n",
       "<table border=\"1\" class=\"dataframe\">\n",
       "  <thead>\n",
       "    <tr style=\"text-align: right;\">\n",
       "      <th></th>\n",
       "      <th>Shapiro</th>\n",
       "    </tr>\n",
       "  </thead>\n",
       "  <tbody>\n",
       "    <tr>\n",
       "      <th>t1 and Diet</th>\n",
       "      <td>(0.9191142320632935, 0.27866238355636597)</td>\n",
       "    </tr>\n",
       "    <tr>\n",
       "      <th>t1 and ctr</th>\n",
       "      <td>(0.8282107710838318, 0.019966181367635727)</td>\n",
       "    </tr>\n",
       "    <tr>\n",
       "      <th>t2 and Diet</th>\n",
       "      <td>(0.9234678149223328, 0.3159623146057129)</td>\n",
       "    </tr>\n",
       "    <tr>\n",
       "      <th>t2 and ctr</th>\n",
       "      <td>(0.8681047558784485, 0.06183488667011261)</td>\n",
       "    </tr>\n",
       "    <tr>\n",
       "      <th>t3 and Diet</th>\n",
       "      <td>(0.8858128786087036, 0.10407914966344833)</td>\n",
       "    </tr>\n",
       "    <tr>\n",
       "      <th>t3 and ctr</th>\n",
       "      <td>(0.8868127465248108, 0.10720895975828171)</td>\n",
       "    </tr>\n",
       "  </tbody>\n",
       "</table>\n",
       "</div>"
      ],
      "text/plain": [
       "                                                Shapiro\n",
       "t1 and Diet   (0.9191142320632935, 0.27866238355636597)\n",
       "t1 and ctr   (0.8282107710838318, 0.019966181367635727)\n",
       "t2 and Diet    (0.9234678149223328, 0.3159623146057129)\n",
       "t2 and ctr    (0.8681047558784485, 0.06183488667011261)\n",
       "t3 and Diet   (0.8858128786087036, 0.10407914966344833)\n",
       "t3 and ctr    (0.8868127465248108, 0.10720895975828171)"
      ]
     },
     "execution_count": 9,
     "metadata": {},
     "output_type": "execute_result"
    }
   ],
   "source": [
    "shapiro('score', 'time', 'treatment')"
   ]
  },
  {
   "cell_type": "markdown",
   "metadata": {},
   "source": [
    "## Two-Way ANOVA Computation"
   ]
  },
  {
   "cell_type": "code",
   "execution_count": 10,
   "metadata": {},
   "outputs": [
    {
     "data": {
      "text/html": [
       "<div>\n",
       "<style scoped>\n",
       "    .dataframe tbody tr th:only-of-type {\n",
       "        vertical-align: middle;\n",
       "    }\n",
       "\n",
       "    .dataframe tbody tr th {\n",
       "        vertical-align: top;\n",
       "    }\n",
       "\n",
       "    .dataframe thead th {\n",
       "        text-align: right;\n",
       "    }\n",
       "</style>\n",
       "<table border=\"1\" class=\"dataframe\">\n",
       "  <thead>\n",
       "    <tr style=\"text-align: right;\">\n",
       "      <th></th>\n",
       "      <th>Source</th>\n",
       "      <th>SS</th>\n",
       "      <th>ddof1</th>\n",
       "      <th>ddof2</th>\n",
       "      <th>MS</th>\n",
       "      <th>F</th>\n",
       "      <th>p-unc</th>\n",
       "      <th>p-GG-corr</th>\n",
       "      <th>np2</th>\n",
       "      <th>eps</th>\n",
       "    </tr>\n",
       "  </thead>\n",
       "  <tbody>\n",
       "    <tr>\n",
       "      <th>0</th>\n",
       "      <td>treatment</td>\n",
       "      <td>316.68</td>\n",
       "      <td>1</td>\n",
       "      <td>11</td>\n",
       "      <td>316.68</td>\n",
       "      <td>15.54</td>\n",
       "      <td>0.0</td>\n",
       "      <td>0.0</td>\n",
       "      <td>0.59</td>\n",
       "      <td>1.00</td>\n",
       "    </tr>\n",
       "    <tr>\n",
       "      <th>1</th>\n",
       "      <td>time</td>\n",
       "      <td>258.69</td>\n",
       "      <td>2</td>\n",
       "      <td>22</td>\n",
       "      <td>129.35</td>\n",
       "      <td>27.37</td>\n",
       "      <td>0.0</td>\n",
       "      <td>0.0</td>\n",
       "      <td>0.71</td>\n",
       "      <td>0.65</td>\n",
       "    </tr>\n",
       "    <tr>\n",
       "      <th>2</th>\n",
       "      <td>treatment * time</td>\n",
       "      <td>266.36</td>\n",
       "      <td>2</td>\n",
       "      <td>22</td>\n",
       "      <td>133.18</td>\n",
       "      <td>30.42</td>\n",
       "      <td>0.0</td>\n",
       "      <td>0.0</td>\n",
       "      <td>0.73</td>\n",
       "      <td>0.72</td>\n",
       "    </tr>\n",
       "  </tbody>\n",
       "</table>\n",
       "</div>"
      ],
      "text/plain": [
       "             Source      SS  ddof1  ddof2      MS      F  p-unc  p-GG-corr  \\\n",
       "0         treatment  316.68      1     11  316.68  15.54    0.0        0.0   \n",
       "1              time  258.69      2     22  129.35  27.37    0.0        0.0   \n",
       "2  treatment * time  266.36      2     22  133.18  30.42    0.0        0.0   \n",
       "\n",
       "    np2   eps  \n",
       "0  0.59  1.00  \n",
       "1  0.71  0.65  \n",
       "2  0.73  0.72  "
      ]
     },
     "execution_count": 10,
     "metadata": {},
     "output_type": "execute_result"
    }
   ],
   "source": [
    "import pingouin as pg\n",
    "aov = pg.rm_anova(dv='score', within=['treatment', 'time'], subject='id', data=df, detailed=True)\n",
    "aov.round(2)"
   ]
  },
  {
   "cell_type": "markdown",
   "metadata": {},
   "source": [
    "## Post-hoct tests"
   ]
  },
  {
   "cell_type": "markdown",
   "metadata": {},
   "source": [
    "### Procedure for significant two-way interaction"
   ]
  },
  {
   "cell_type": "markdown",
   "metadata": {},
   "source": [
    "#### Compute simple main effects"
   ]
  },
  {
   "cell_type": "code",
   "execution_count": 11,
   "metadata": {},
   "outputs": [],
   "source": [
    "# Effect of treatment at each time point"
   ]
  },
  {
   "cell_type": "code",
   "execution_count": 12,
   "metadata": {},
   "outputs": [],
   "source": [
    "t1 = df[df['time'] == 't1']\n",
    "t2 = df[df['time'] == 't2']\n",
    "t3 = df[df['time'] == 't3']"
   ]
  },
  {
   "cell_type": "code",
   "execution_count": 13,
   "metadata": {},
   "outputs": [
    {
     "data": {
      "text/html": [
       "<div>\n",
       "<style scoped>\n",
       "    .dataframe tbody tr th:only-of-type {\n",
       "        vertical-align: middle;\n",
       "    }\n",
       "\n",
       "    .dataframe tbody tr th {\n",
       "        vertical-align: top;\n",
       "    }\n",
       "\n",
       "    .dataframe thead th {\n",
       "        text-align: right;\n",
       "    }\n",
       "</style>\n",
       "<table border=\"1\" class=\"dataframe\">\n",
       "  <thead>\n",
       "    <tr style=\"text-align: right;\">\n",
       "      <th></th>\n",
       "      <th>Source</th>\n",
       "      <th>ddof1</th>\n",
       "      <th>ddof2</th>\n",
       "      <th>F</th>\n",
       "      <th>p-unc</th>\n",
       "      <th>np2</th>\n",
       "      <th>eps</th>\n",
       "    </tr>\n",
       "  </thead>\n",
       "  <tbody>\n",
       "    <tr>\n",
       "      <th>0</th>\n",
       "      <td>treatment</td>\n",
       "      <td>1</td>\n",
       "      <td>11</td>\n",
       "      <td>9.026</td>\n",
       "      <td>0.012</td>\n",
       "      <td>0.451</td>\n",
       "      <td>1.0</td>\n",
       "    </tr>\n",
       "  </tbody>\n",
       "</table>\n",
       "</div>"
      ],
      "text/plain": [
       "      Source  ddof1  ddof2      F  p-unc    np2  eps\n",
       "0  treatment      1     11  9.026  0.012  0.451  1.0"
      ]
     },
     "execution_count": 13,
     "metadata": {},
     "output_type": "execute_result"
    }
   ],
   "source": [
    "pg.rm_anova(dv=\"score\", within='treatment', subject='id', data=t2).round(3)"
   ]
  },
  {
   "cell_type": "code",
   "execution_count": 14,
   "metadata": {},
   "outputs": [
    {
     "data": {
      "text/html": [
       "<div>\n",
       "<style scoped>\n",
       "    .dataframe tbody tr th:only-of-type {\n",
       "        vertical-align: middle;\n",
       "    }\n",
       "\n",
       "    .dataframe tbody tr th {\n",
       "        vertical-align: top;\n",
       "    }\n",
       "\n",
       "    .dataframe thead th {\n",
       "        text-align: right;\n",
       "    }\n",
       "</style>\n",
       "<table border=\"1\" class=\"dataframe\">\n",
       "  <thead>\n",
       "    <tr style=\"text-align: right;\">\n",
       "      <th></th>\n",
       "      <th>Source</th>\n",
       "      <th>ddof1</th>\n",
       "      <th>ddof2</th>\n",
       "      <th>F</th>\n",
       "      <th>p-unc</th>\n",
       "      <th>np2</th>\n",
       "      <th>eps</th>\n",
       "    </tr>\n",
       "  </thead>\n",
       "  <tbody>\n",
       "    <tr>\n",
       "      <th>0</th>\n",
       "      <td>treatment</td>\n",
       "      <td>1</td>\n",
       "      <td>11</td>\n",
       "      <td>9.026</td>\n",
       "      <td>0.012</td>\n",
       "      <td>0.451</td>\n",
       "      <td>1.0</td>\n",
       "    </tr>\n",
       "  </tbody>\n",
       "</table>\n",
       "</div>"
      ],
      "text/plain": [
       "      Source  ddof1  ddof2      F  p-unc    np2  eps\n",
       "0  treatment      1     11  9.026  0.012  0.451  1.0"
      ]
     },
     "execution_count": 14,
     "metadata": {},
     "output_type": "execute_result"
    }
   ],
   "source": [
    "pg.rm_anova(dv=\"score\", within='treatment', subject='id', data=t2).round(3)"
   ]
  },
  {
   "cell_type": "code",
   "execution_count": 15,
   "metadata": {
    "scrolled": true
   },
   "outputs": [
    {
     "data": {
      "text/html": [
       "<div>\n",
       "<style scoped>\n",
       "    .dataframe tbody tr th:only-of-type {\n",
       "        vertical-align: middle;\n",
       "    }\n",
       "\n",
       "    .dataframe tbody tr th {\n",
       "        vertical-align: top;\n",
       "    }\n",
       "\n",
       "    .dataframe thead th {\n",
       "        text-align: right;\n",
       "    }\n",
       "</style>\n",
       "<table border=\"1\" class=\"dataframe\">\n",
       "  <thead>\n",
       "    <tr style=\"text-align: right;\">\n",
       "      <th></th>\n",
       "      <th>Source</th>\n",
       "      <th>ddof1</th>\n",
       "      <th>ddof2</th>\n",
       "      <th>F</th>\n",
       "      <th>p-unc</th>\n",
       "      <th>np2</th>\n",
       "      <th>eps</th>\n",
       "    </tr>\n",
       "  </thead>\n",
       "  <tbody>\n",
       "    <tr>\n",
       "      <th>0</th>\n",
       "      <td>treatment</td>\n",
       "      <td>1</td>\n",
       "      <td>11</td>\n",
       "      <td>30.902</td>\n",
       "      <td>0.0</td>\n",
       "      <td>0.737</td>\n",
       "      <td>1.0</td>\n",
       "    </tr>\n",
       "  </tbody>\n",
       "</table>\n",
       "</div>"
      ],
      "text/plain": [
       "      Source  ddof1  ddof2       F  p-unc    np2  eps\n",
       "0  treatment      1     11  30.902    0.0  0.737  1.0"
      ]
     },
     "execution_count": 15,
     "metadata": {},
     "output_type": "execute_result"
    }
   ],
   "source": [
    "pg.rm_anova(dv=\"score\", within='treatment', subject='id', data=t3).round(3)"
   ]
  },
  {
   "cell_type": "markdown",
   "metadata": {},
   "source": [
    "#### Compute simple main effects"
   ]
  },
  {
   "cell_type": "code",
   "execution_count": 16,
   "metadata": {},
   "outputs": [],
   "source": [
    "# Effect of time at each level of treatment"
   ]
  },
  {
   "cell_type": "code",
   "execution_count": 17,
   "metadata": {},
   "outputs": [],
   "source": [
    "ctr = df[df['treatment'] == 'ctr']\n",
    "Diet = df[df['treatment'] == 'Diet']"
   ]
  },
  {
   "cell_type": "code",
   "execution_count": 18,
   "metadata": {},
   "outputs": [
    {
     "data": {
      "text/html": [
       "<div>\n",
       "<style scoped>\n",
       "    .dataframe tbody tr th:only-of-type {\n",
       "        vertical-align: middle;\n",
       "    }\n",
       "\n",
       "    .dataframe tbody tr th {\n",
       "        vertical-align: top;\n",
       "    }\n",
       "\n",
       "    .dataframe thead th {\n",
       "        text-align: right;\n",
       "    }\n",
       "</style>\n",
       "<table border=\"1\" class=\"dataframe\">\n",
       "  <thead>\n",
       "    <tr style=\"text-align: right;\">\n",
       "      <th></th>\n",
       "      <th>Source</th>\n",
       "      <th>ddof1</th>\n",
       "      <th>ddof2</th>\n",
       "      <th>F</th>\n",
       "      <th>p-unc</th>\n",
       "      <th>np2</th>\n",
       "      <th>eps</th>\n",
       "    </tr>\n",
       "  </thead>\n",
       "  <tbody>\n",
       "    <tr>\n",
       "      <th>0</th>\n",
       "      <td>time</td>\n",
       "      <td>2</td>\n",
       "      <td>22</td>\n",
       "      <td>39.711</td>\n",
       "      <td>0.0</td>\n",
       "      <td>0.783</td>\n",
       "      <td>0.693</td>\n",
       "    </tr>\n",
       "  </tbody>\n",
       "</table>\n",
       "</div>"
      ],
      "text/plain": [
       "  Source  ddof1  ddof2       F  p-unc    np2    eps\n",
       "0   time      2     22  39.711    0.0  0.783  0.693"
      ]
     },
     "execution_count": 18,
     "metadata": {},
     "output_type": "execute_result"
    }
   ],
   "source": [
    "pg.rm_anova(dv=\"score\", within='time', subject='id', data=ctr).round(3)"
   ]
  },
  {
   "cell_type": "code",
   "execution_count": 19,
   "metadata": {},
   "outputs": [
    {
     "data": {
      "text/html": [
       "<div>\n",
       "<style scoped>\n",
       "    .dataframe tbody tr th:only-of-type {\n",
       "        vertical-align: middle;\n",
       "    }\n",
       "\n",
       "    .dataframe tbody tr th {\n",
       "        vertical-align: top;\n",
       "    }\n",
       "\n",
       "    .dataframe thead th {\n",
       "        text-align: right;\n",
       "    }\n",
       "</style>\n",
       "<table border=\"1\" class=\"dataframe\">\n",
       "  <thead>\n",
       "    <tr style=\"text-align: right;\">\n",
       "      <th></th>\n",
       "      <th>Source</th>\n",
       "      <th>ddof1</th>\n",
       "      <th>ddof2</th>\n",
       "      <th>F</th>\n",
       "      <th>p-unc</th>\n",
       "      <th>np2</th>\n",
       "      <th>eps</th>\n",
       "    </tr>\n",
       "  </thead>\n",
       "  <tbody>\n",
       "    <tr>\n",
       "      <th>0</th>\n",
       "      <td>time</td>\n",
       "      <td>2</td>\n",
       "      <td>22</td>\n",
       "      <td>0.078</td>\n",
       "      <td>0.925</td>\n",
       "      <td>0.007</td>\n",
       "      <td>0.71</td>\n",
       "    </tr>\n",
       "  </tbody>\n",
       "</table>\n",
       "</div>"
      ],
      "text/plain": [
       "  Source  ddof1  ddof2      F  p-unc    np2   eps\n",
       "0   time      2     22  0.078  0.925  0.007  0.71"
      ]
     },
     "execution_count": 19,
     "metadata": {},
     "output_type": "execute_result"
    }
   ],
   "source": [
    "pg.rm_anova(dv=\"score\", within='time', subject='id', data=Diet).round(3)"
   ]
  },
  {
   "cell_type": "markdown",
   "metadata": {},
   "source": [
    "#### Compute pairwise comparisons"
   ]
  },
  {
   "cell_type": "code",
   "execution_count": 20,
   "metadata": {},
   "outputs": [],
   "source": [
    "# Pairwise comparisons between treatment groups"
   ]
  },
  {
   "cell_type": "code",
   "execution_count": 21,
   "metadata": {},
   "outputs": [],
   "source": [
    "t1 = df[df['time'] == 't1']\n",
    "t2 = df[df['time'] == 't2']\n",
    "t3 = df[df['time'] == 't3']"
   ]
  },
  {
   "cell_type": "code",
   "execution_count": 22,
   "metadata": {},
   "outputs": [
    {
     "data": {
      "text/html": [
       "<div>\n",
       "<style scoped>\n",
       "    .dataframe tbody tr th:only-of-type {\n",
       "        vertical-align: middle;\n",
       "    }\n",
       "\n",
       "    .dataframe tbody tr th {\n",
       "        vertical-align: top;\n",
       "    }\n",
       "\n",
       "    .dataframe thead th {\n",
       "        text-align: right;\n",
       "    }\n",
       "</style>\n",
       "<table border=\"1\" class=\"dataframe\">\n",
       "  <thead>\n",
       "    <tr style=\"text-align: right;\">\n",
       "      <th></th>\n",
       "      <th>Contrast</th>\n",
       "      <th>A</th>\n",
       "      <th>B</th>\n",
       "      <th>Paired</th>\n",
       "      <th>Parametric</th>\n",
       "      <th>T</th>\n",
       "      <th>dof</th>\n",
       "      <th>alternative</th>\n",
       "      <th>p-unc</th>\n",
       "      <th>BF10</th>\n",
       "      <th>hedges</th>\n",
       "    </tr>\n",
       "  </thead>\n",
       "  <tbody>\n",
       "    <tr>\n",
       "      <th>0</th>\n",
       "      <td>treatment</td>\n",
       "      <td>Diet</td>\n",
       "      <td>ctr</td>\n",
       "      <td>True</td>\n",
       "      <td>True</td>\n",
       "      <td>-0.613</td>\n",
       "      <td>11.0</td>\n",
       "      <td>two-sided</td>\n",
       "      <td>0.552</td>\n",
       "      <td>0.338</td>\n",
       "      <td>-0.051</td>\n",
       "    </tr>\n",
       "  </tbody>\n",
       "</table>\n",
       "</div>"
      ],
      "text/plain": [
       "    Contrast     A    B  Paired  Parametric      T   dof alternative  p-unc  \\\n",
       "0  treatment  Diet  ctr    True        True -0.613  11.0   two-sided  0.552   \n",
       "\n",
       "    BF10  hedges  \n",
       "0  0.338  -0.051  "
      ]
     },
     "execution_count": 22,
     "metadata": {},
     "output_type": "execute_result"
    }
   ],
   "source": [
    "pg.pairwise_ttests(dv='score', within=['treatment'], subject='id',  padjust='bonf', data=t1).round(3)"
   ]
  },
  {
   "cell_type": "code",
   "execution_count": 23,
   "metadata": {},
   "outputs": [
    {
     "data": {
      "text/html": [
       "<div>\n",
       "<style scoped>\n",
       "    .dataframe tbody tr th:only-of-type {\n",
       "        vertical-align: middle;\n",
       "    }\n",
       "\n",
       "    .dataframe tbody tr th {\n",
       "        vertical-align: top;\n",
       "    }\n",
       "\n",
       "    .dataframe thead th {\n",
       "        text-align: right;\n",
       "    }\n",
       "</style>\n",
       "<table border=\"1\" class=\"dataframe\">\n",
       "  <thead>\n",
       "    <tr style=\"text-align: right;\">\n",
       "      <th></th>\n",
       "      <th>Contrast</th>\n",
       "      <th>A</th>\n",
       "      <th>B</th>\n",
       "      <th>Paired</th>\n",
       "      <th>Parametric</th>\n",
       "      <th>T</th>\n",
       "      <th>dof</th>\n",
       "      <th>alternative</th>\n",
       "      <th>p-unc</th>\n",
       "      <th>BF10</th>\n",
       "      <th>hedges</th>\n",
       "    </tr>\n",
       "  </thead>\n",
       "  <tbody>\n",
       "    <tr>\n",
       "      <th>0</th>\n",
       "      <td>treatment</td>\n",
       "      <td>Diet</td>\n",
       "      <td>ctr</td>\n",
       "      <td>True</td>\n",
       "      <td>True</td>\n",
       "      <td>3.004</td>\n",
       "      <td>11.0</td>\n",
       "      <td>two-sided</td>\n",
       "      <td>0.012</td>\n",
       "      <td>5.11</td>\n",
       "      <td>0.432</td>\n",
       "    </tr>\n",
       "  </tbody>\n",
       "</table>\n",
       "</div>"
      ],
      "text/plain": [
       "    Contrast     A    B  Paired  Parametric      T   dof alternative  p-unc  \\\n",
       "0  treatment  Diet  ctr    True        True  3.004  11.0   two-sided  0.012   \n",
       "\n",
       "   BF10  hedges  \n",
       "0  5.11   0.432  "
      ]
     },
     "execution_count": 23,
     "metadata": {},
     "output_type": "execute_result"
    }
   ],
   "source": [
    "pg.pairwise_ttests(dv='score', within=['treatment'], subject='id',  padjust='bonf', data=t2).round(3)"
   ]
  },
  {
   "cell_type": "code",
   "execution_count": 24,
   "metadata": {},
   "outputs": [
    {
     "data": {
      "text/html": [
       "<div>\n",
       "<style scoped>\n",
       "    .dataframe tbody tr th:only-of-type {\n",
       "        vertical-align: middle;\n",
       "    }\n",
       "\n",
       "    .dataframe tbody tr th {\n",
       "        vertical-align: top;\n",
       "    }\n",
       "\n",
       "    .dataframe thead th {\n",
       "        text-align: right;\n",
       "    }\n",
       "</style>\n",
       "<table border=\"1\" class=\"dataframe\">\n",
       "  <thead>\n",
       "    <tr style=\"text-align: right;\">\n",
       "      <th></th>\n",
       "      <th>Contrast</th>\n",
       "      <th>A</th>\n",
       "      <th>B</th>\n",
       "      <th>Paired</th>\n",
       "      <th>Parametric</th>\n",
       "      <th>T</th>\n",
       "      <th>dof</th>\n",
       "      <th>alternative</th>\n",
       "      <th>p-unc</th>\n",
       "      <th>BF10</th>\n",
       "      <th>hedges</th>\n",
       "    </tr>\n",
       "  </thead>\n",
       "  <tbody>\n",
       "    <tr>\n",
       "      <th>0</th>\n",
       "      <td>treatment</td>\n",
       "      <td>Diet</td>\n",
       "      <td>ctr</td>\n",
       "      <td>True</td>\n",
       "      <td>True</td>\n",
       "      <td>5.559</td>\n",
       "      <td>11.0</td>\n",
       "      <td>two-sided</td>\n",
       "      <td>0.0</td>\n",
       "      <td>181.839</td>\n",
       "      <td>0.923</td>\n",
       "    </tr>\n",
       "  </tbody>\n",
       "</table>\n",
       "</div>"
      ],
      "text/plain": [
       "    Contrast     A    B  Paired  Parametric      T   dof alternative  p-unc  \\\n",
       "0  treatment  Diet  ctr    True        True  5.559  11.0   two-sided    0.0   \n",
       "\n",
       "      BF10  hedges  \n",
       "0  181.839   0.923  "
      ]
     },
     "execution_count": 24,
     "metadata": {},
     "output_type": "execute_result"
    }
   ],
   "source": [
    "pg.pairwise_ttests(dv='score', within=['treatment'], subject='id',  padjust='bonf', data=t3).round(3)"
   ]
  },
  {
   "cell_type": "markdown",
   "metadata": {},
   "source": [
    "#### Compute pairwise comparisons"
   ]
  },
  {
   "cell_type": "code",
   "execution_count": 25,
   "metadata": {},
   "outputs": [],
   "source": [
    "# Pairwise comparisons between treatment points"
   ]
  },
  {
   "cell_type": "code",
   "execution_count": 26,
   "metadata": {
    "scrolled": false
   },
   "outputs": [
    {
     "data": {
      "text/html": [
       "<div>\n",
       "<style scoped>\n",
       "    .dataframe tbody tr th:only-of-type {\n",
       "        vertical-align: middle;\n",
       "    }\n",
       "\n",
       "    .dataframe tbody tr th {\n",
       "        vertical-align: top;\n",
       "    }\n",
       "\n",
       "    .dataframe thead th {\n",
       "        text-align: right;\n",
       "    }\n",
       "</style>\n",
       "<table border=\"1\" class=\"dataframe\">\n",
       "  <thead>\n",
       "    <tr style=\"text-align: right;\">\n",
       "      <th></th>\n",
       "      <th>Contrast</th>\n",
       "      <th>time</th>\n",
       "      <th>A</th>\n",
       "      <th>B</th>\n",
       "      <th>Paired</th>\n",
       "      <th>Parametric</th>\n",
       "      <th>T</th>\n",
       "      <th>dof</th>\n",
       "      <th>alternative</th>\n",
       "      <th>p-unc</th>\n",
       "      <th>p-corr</th>\n",
       "      <th>p-adjust</th>\n",
       "      <th>BF10</th>\n",
       "      <th>hedges</th>\n",
       "    </tr>\n",
       "  </thead>\n",
       "  <tbody>\n",
       "    <tr>\n",
       "      <th>0</th>\n",
       "      <td>time</td>\n",
       "      <td>-</td>\n",
       "      <td>t1</td>\n",
       "      <td>t2</td>\n",
       "      <td>True</td>\n",
       "      <td>True</td>\n",
       "      <td>4.352</td>\n",
       "      <td>11.0</td>\n",
       "      <td>two-sided</td>\n",
       "      <td>0.001</td>\n",
       "      <td>0.003</td>\n",
       "      <td>bonf</td>\n",
       "      <td>35.556</td>\n",
       "      <td>0.230</td>\n",
       "    </tr>\n",
       "    <tr>\n",
       "      <th>1</th>\n",
       "      <td>time</td>\n",
       "      <td>-</td>\n",
       "      <td>t1</td>\n",
       "      <td>t3</td>\n",
       "      <td>True</td>\n",
       "      <td>True</td>\n",
       "      <td>5.631</td>\n",
       "      <td>11.0</td>\n",
       "      <td>two-sided</td>\n",
       "      <td>0.000</td>\n",
       "      <td>0.000</td>\n",
       "      <td>bonf</td>\n",
       "      <td>199.418</td>\n",
       "      <td>0.532</td>\n",
       "    </tr>\n",
       "    <tr>\n",
       "      <th>2</th>\n",
       "      <td>time</td>\n",
       "      <td>-</td>\n",
       "      <td>t2</td>\n",
       "      <td>t3</td>\n",
       "      <td>True</td>\n",
       "      <td>True</td>\n",
       "      <td>4.834</td>\n",
       "      <td>11.0</td>\n",
       "      <td>two-sided</td>\n",
       "      <td>0.001</td>\n",
       "      <td>0.002</td>\n",
       "      <td>bonf</td>\n",
       "      <td>69.395</td>\n",
       "      <td>0.292</td>\n",
       "    </tr>\n",
       "    <tr>\n",
       "      <th>3</th>\n",
       "      <td>treatment</td>\n",
       "      <td>-</td>\n",
       "      <td>Diet</td>\n",
       "      <td>ctr</td>\n",
       "      <td>True</td>\n",
       "      <td>True</td>\n",
       "      <td>3.942</td>\n",
       "      <td>11.0</td>\n",
       "      <td>two-sided</td>\n",
       "      <td>0.002</td>\n",
       "      <td>NaN</td>\n",
       "      <td>NaN</td>\n",
       "      <td>19.857</td>\n",
       "      <td>0.472</td>\n",
       "    </tr>\n",
       "    <tr>\n",
       "      <th>4</th>\n",
       "      <td>time * treatment</td>\n",
       "      <td>t1</td>\n",
       "      <td>Diet</td>\n",
       "      <td>ctr</td>\n",
       "      <td>True</td>\n",
       "      <td>True</td>\n",
       "      <td>-0.613</td>\n",
       "      <td>11.0</td>\n",
       "      <td>two-sided</td>\n",
       "      <td>0.552</td>\n",
       "      <td>1.000</td>\n",
       "      <td>bonf</td>\n",
       "      <td>0.338</td>\n",
       "      <td>-0.051</td>\n",
       "    </tr>\n",
       "    <tr>\n",
       "      <th>5</th>\n",
       "      <td>time * treatment</td>\n",
       "      <td>t2</td>\n",
       "      <td>Diet</td>\n",
       "      <td>ctr</td>\n",
       "      <td>True</td>\n",
       "      <td>True</td>\n",
       "      <td>3.004</td>\n",
       "      <td>11.0</td>\n",
       "      <td>two-sided</td>\n",
       "      <td>0.012</td>\n",
       "      <td>0.036</td>\n",
       "      <td>bonf</td>\n",
       "      <td>5.11</td>\n",
       "      <td>0.432</td>\n",
       "    </tr>\n",
       "    <tr>\n",
       "      <th>6</th>\n",
       "      <td>time * treatment</td>\n",
       "      <td>t3</td>\n",
       "      <td>Diet</td>\n",
       "      <td>ctr</td>\n",
       "      <td>True</td>\n",
       "      <td>True</td>\n",
       "      <td>5.559</td>\n",
       "      <td>11.0</td>\n",
       "      <td>two-sided</td>\n",
       "      <td>0.000</td>\n",
       "      <td>0.001</td>\n",
       "      <td>bonf</td>\n",
       "      <td>181.839</td>\n",
       "      <td>0.923</td>\n",
       "    </tr>\n",
       "  </tbody>\n",
       "</table>\n",
       "</div>"
      ],
      "text/plain": [
       "           Contrast time     A    B Paired  Parametric      T   dof  \\\n",
       "0              time    -    t1   t2   True        True  4.352  11.0   \n",
       "1              time    -    t1   t3   True        True  5.631  11.0   \n",
       "2              time    -    t2   t3   True        True  4.834  11.0   \n",
       "3         treatment    -  Diet  ctr   True        True  3.942  11.0   \n",
       "4  time * treatment   t1  Diet  ctr   True        True -0.613  11.0   \n",
       "5  time * treatment   t2  Diet  ctr   True        True  3.004  11.0   \n",
       "6  time * treatment   t3  Diet  ctr   True        True  5.559  11.0   \n",
       "\n",
       "  alternative  p-unc  p-corr p-adjust     BF10  hedges  \n",
       "0   two-sided  0.001   0.003     bonf   35.556   0.230  \n",
       "1   two-sided  0.000   0.000     bonf  199.418   0.532  \n",
       "2   two-sided  0.001   0.002     bonf   69.395   0.292  \n",
       "3   two-sided  0.002     NaN      NaN   19.857   0.472  \n",
       "4   two-sided  0.552   1.000     bonf    0.338  -0.051  \n",
       "5   two-sided  0.012   0.036     bonf     5.11   0.432  \n",
       "6   two-sided  0.000   0.001     bonf  181.839   0.923  "
      ]
     },
     "execution_count": 26,
     "metadata": {},
     "output_type": "execute_result"
    }
   ],
   "source": [
    "pg.pairwise_ttests(dv='score', within=['time', 'treatment'], subject='id',  padjust='bonf', data=df).round(3)"
   ]
  },
  {
   "cell_type": "markdown",
   "metadata": {},
   "source": [
    "#### Compute pairwise comparisons"
   ]
  },
  {
   "cell_type": "code",
   "execution_count": 27,
   "metadata": {},
   "outputs": [],
   "source": [
    "# Pairwise comparisons between time points"
   ]
  },
  {
   "cell_type": "code",
   "execution_count": 28,
   "metadata": {},
   "outputs": [
    {
     "data": {
      "text/html": [
       "<div>\n",
       "<style scoped>\n",
       "    .dataframe tbody tr th:only-of-type {\n",
       "        vertical-align: middle;\n",
       "    }\n",
       "\n",
       "    .dataframe tbody tr th {\n",
       "        vertical-align: top;\n",
       "    }\n",
       "\n",
       "    .dataframe thead th {\n",
       "        text-align: right;\n",
       "    }\n",
       "</style>\n",
       "<table border=\"1\" class=\"dataframe\">\n",
       "  <thead>\n",
       "    <tr style=\"text-align: right;\">\n",
       "      <th></th>\n",
       "      <th>Contrast</th>\n",
       "      <th>treatment</th>\n",
       "      <th>A</th>\n",
       "      <th>B</th>\n",
       "      <th>Paired</th>\n",
       "      <th>Parametric</th>\n",
       "      <th>T</th>\n",
       "      <th>dof</th>\n",
       "      <th>alternative</th>\n",
       "      <th>p-unc</th>\n",
       "      <th>p-corr</th>\n",
       "      <th>p-adjust</th>\n",
       "      <th>BF10</th>\n",
       "      <th>hedges</th>\n",
       "    </tr>\n",
       "  </thead>\n",
       "  <tbody>\n",
       "    <tr>\n",
       "      <th>0</th>\n",
       "      <td>treatment</td>\n",
       "      <td>-</td>\n",
       "      <td>Diet</td>\n",
       "      <td>ctr</td>\n",
       "      <td>True</td>\n",
       "      <td>True</td>\n",
       "      <td>3.942</td>\n",
       "      <td>11.0</td>\n",
       "      <td>two-sided</td>\n",
       "      <td>0.002</td>\n",
       "      <td>NaN</td>\n",
       "      <td>NaN</td>\n",
       "      <td>19.857</td>\n",
       "      <td>0.472</td>\n",
       "    </tr>\n",
       "    <tr>\n",
       "      <th>1</th>\n",
       "      <td>time</td>\n",
       "      <td>-</td>\n",
       "      <td>t1</td>\n",
       "      <td>t2</td>\n",
       "      <td>True</td>\n",
       "      <td>True</td>\n",
       "      <td>4.352</td>\n",
       "      <td>11.0</td>\n",
       "      <td>two-sided</td>\n",
       "      <td>0.001</td>\n",
       "      <td>0.003</td>\n",
       "      <td>bonf</td>\n",
       "      <td>35.556</td>\n",
       "      <td>0.230</td>\n",
       "    </tr>\n",
       "    <tr>\n",
       "      <th>2</th>\n",
       "      <td>time</td>\n",
       "      <td>-</td>\n",
       "      <td>t1</td>\n",
       "      <td>t3</td>\n",
       "      <td>True</td>\n",
       "      <td>True</td>\n",
       "      <td>5.631</td>\n",
       "      <td>11.0</td>\n",
       "      <td>two-sided</td>\n",
       "      <td>0.000</td>\n",
       "      <td>0.000</td>\n",
       "      <td>bonf</td>\n",
       "      <td>199.418</td>\n",
       "      <td>0.532</td>\n",
       "    </tr>\n",
       "    <tr>\n",
       "      <th>3</th>\n",
       "      <td>time</td>\n",
       "      <td>-</td>\n",
       "      <td>t2</td>\n",
       "      <td>t3</td>\n",
       "      <td>True</td>\n",
       "      <td>True</td>\n",
       "      <td>4.834</td>\n",
       "      <td>11.0</td>\n",
       "      <td>two-sided</td>\n",
       "      <td>0.001</td>\n",
       "      <td>0.002</td>\n",
       "      <td>bonf</td>\n",
       "      <td>69.395</td>\n",
       "      <td>0.292</td>\n",
       "    </tr>\n",
       "    <tr>\n",
       "      <th>4</th>\n",
       "      <td>treatment * time</td>\n",
       "      <td>Diet</td>\n",
       "      <td>t1</td>\n",
       "      <td>t2</td>\n",
       "      <td>True</td>\n",
       "      <td>True</td>\n",
       "      <td>-0.522</td>\n",
       "      <td>11.0</td>\n",
       "      <td>two-sided</td>\n",
       "      <td>0.612</td>\n",
       "      <td>1.000</td>\n",
       "      <td>bonf</td>\n",
       "      <td>0.323</td>\n",
       "      <td>-0.032</td>\n",
       "    </tr>\n",
       "    <tr>\n",
       "      <th>5</th>\n",
       "      <td>treatment * time</td>\n",
       "      <td>Diet</td>\n",
       "      <td>t1</td>\n",
       "      <td>t3</td>\n",
       "      <td>True</td>\n",
       "      <td>True</td>\n",
       "      <td>-0.102</td>\n",
       "      <td>11.0</td>\n",
       "      <td>two-sided</td>\n",
       "      <td>0.921</td>\n",
       "      <td>1.000</td>\n",
       "      <td>bonf</td>\n",
       "      <td>0.289</td>\n",
       "      <td>-0.010</td>\n",
       "    </tr>\n",
       "    <tr>\n",
       "      <th>6</th>\n",
       "      <td>treatment * time</td>\n",
       "      <td>Diet</td>\n",
       "      <td>t2</td>\n",
       "      <td>t3</td>\n",
       "      <td>True</td>\n",
       "      <td>True</td>\n",
       "      <td>0.283</td>\n",
       "      <td>11.0</td>\n",
       "      <td>two-sided</td>\n",
       "      <td>0.782</td>\n",
       "      <td>1.000</td>\n",
       "      <td>bonf</td>\n",
       "      <td>0.298</td>\n",
       "      <td>0.021</td>\n",
       "    </tr>\n",
       "    <tr>\n",
       "      <th>7</th>\n",
       "      <td>treatment * time</td>\n",
       "      <td>ctr</td>\n",
       "      <td>t1</td>\n",
       "      <td>t2</td>\n",
       "      <td>True</td>\n",
       "      <td>True</td>\n",
       "      <td>4.530</td>\n",
       "      <td>11.0</td>\n",
       "      <td>two-sided</td>\n",
       "      <td>0.001</td>\n",
       "      <td>0.005</td>\n",
       "      <td>bonf</td>\n",
       "      <td>45.632</td>\n",
       "      <td>0.436</td>\n",
       "    </tr>\n",
       "    <tr>\n",
       "      <th>8</th>\n",
       "      <td>treatment * time</td>\n",
       "      <td>ctr</td>\n",
       "      <td>t1</td>\n",
       "      <td>t3</td>\n",
       "      <td>True</td>\n",
       "      <td>True</td>\n",
       "      <td>6.912</td>\n",
       "      <td>11.0</td>\n",
       "      <td>two-sided</td>\n",
       "      <td>0.000</td>\n",
       "      <td>0.000</td>\n",
       "      <td>bonf</td>\n",
       "      <td>949.978</td>\n",
       "      <td>0.959</td>\n",
       "    </tr>\n",
       "    <tr>\n",
       "      <th>9</th>\n",
       "      <td>treatment * time</td>\n",
       "      <td>ctr</td>\n",
       "      <td>t2</td>\n",
       "      <td>t3</td>\n",
       "      <td>True</td>\n",
       "      <td>True</td>\n",
       "      <td>6.490</td>\n",
       "      <td>11.0</td>\n",
       "      <td>two-sided</td>\n",
       "      <td>0.000</td>\n",
       "      <td>0.000</td>\n",
       "      <td>bonf</td>\n",
       "      <td>578.555</td>\n",
       "      <td>0.480</td>\n",
       "    </tr>\n",
       "  </tbody>\n",
       "</table>\n",
       "</div>"
      ],
      "text/plain": [
       "           Contrast treatment     A    B Paired  Parametric      T   dof  \\\n",
       "0         treatment         -  Diet  ctr   True        True  3.942  11.0   \n",
       "1              time         -    t1   t2   True        True  4.352  11.0   \n",
       "2              time         -    t1   t3   True        True  5.631  11.0   \n",
       "3              time         -    t2   t3   True        True  4.834  11.0   \n",
       "4  treatment * time      Diet    t1   t2   True        True -0.522  11.0   \n",
       "5  treatment * time      Diet    t1   t3   True        True -0.102  11.0   \n",
       "6  treatment * time      Diet    t2   t3   True        True  0.283  11.0   \n",
       "7  treatment * time       ctr    t1   t2   True        True  4.530  11.0   \n",
       "8  treatment * time       ctr    t1   t3   True        True  6.912  11.0   \n",
       "9  treatment * time       ctr    t2   t3   True        True  6.490  11.0   \n",
       "\n",
       "  alternative  p-unc  p-corr p-adjust     BF10  hedges  \n",
       "0   two-sided  0.002     NaN      NaN   19.857   0.472  \n",
       "1   two-sided  0.001   0.003     bonf   35.556   0.230  \n",
       "2   two-sided  0.000   0.000     bonf  199.418   0.532  \n",
       "3   two-sided  0.001   0.002     bonf   69.395   0.292  \n",
       "4   two-sided  0.612   1.000     bonf    0.323  -0.032  \n",
       "5   two-sided  0.921   1.000     bonf    0.289  -0.010  \n",
       "6   two-sided  0.782   1.000     bonf    0.298   0.021  \n",
       "7   two-sided  0.001   0.005     bonf   45.632   0.436  \n",
       "8   two-sided  0.000   0.000     bonf  949.978   0.959  \n",
       "9   two-sided  0.000   0.000     bonf  578.555   0.480  "
      ]
     },
     "execution_count": 28,
     "metadata": {},
     "output_type": "execute_result"
    }
   ],
   "source": [
    "pg.pairwise_ttests(dv='score', within=['treatment', 'time'], subject='id',  padjust='bonf', data=df).round(3)"
   ]
  },
  {
   "cell_type": "markdown",
   "metadata": {},
   "source": [
    "### Procedure for non-significant two-way interaction"
   ]
  },
  {
   "cell_type": "code",
   "execution_count": 29,
   "metadata": {},
   "outputs": [],
   "source": [
    "# comparisons for time variable"
   ]
  },
  {
   "cell_type": "code",
   "execution_count": 30,
   "metadata": {},
   "outputs": [
    {
     "data": {
      "text/html": [
       "<div>\n",
       "<style scoped>\n",
       "    .dataframe tbody tr th:only-of-type {\n",
       "        vertical-align: middle;\n",
       "    }\n",
       "\n",
       "    .dataframe tbody tr th {\n",
       "        vertical-align: top;\n",
       "    }\n",
       "\n",
       "    .dataframe thead th {\n",
       "        text-align: right;\n",
       "    }\n",
       "</style>\n",
       "<table border=\"1\" class=\"dataframe\">\n",
       "  <thead>\n",
       "    <tr style=\"text-align: right;\">\n",
       "      <th></th>\n",
       "      <th>Contrast</th>\n",
       "      <th>A</th>\n",
       "      <th>B</th>\n",
       "      <th>Paired</th>\n",
       "      <th>Parametric</th>\n",
       "      <th>T</th>\n",
       "      <th>dof</th>\n",
       "      <th>alternative</th>\n",
       "      <th>p-unc</th>\n",
       "      <th>p-corr</th>\n",
       "      <th>p-adjust</th>\n",
       "      <th>BF10</th>\n",
       "      <th>hedges</th>\n",
       "    </tr>\n",
       "  </thead>\n",
       "  <tbody>\n",
       "    <tr>\n",
       "      <th>0</th>\n",
       "      <td>time</td>\n",
       "      <td>t1</td>\n",
       "      <td>t2</td>\n",
       "      <td>True</td>\n",
       "      <td>True</td>\n",
       "      <td>4.352</td>\n",
       "      <td>11.0</td>\n",
       "      <td>two-sided</td>\n",
       "      <td>0.001</td>\n",
       "      <td>0.003</td>\n",
       "      <td>bonf</td>\n",
       "      <td>35.556</td>\n",
       "      <td>0.230</td>\n",
       "    </tr>\n",
       "    <tr>\n",
       "      <th>1</th>\n",
       "      <td>time</td>\n",
       "      <td>t1</td>\n",
       "      <td>t3</td>\n",
       "      <td>True</td>\n",
       "      <td>True</td>\n",
       "      <td>5.631</td>\n",
       "      <td>11.0</td>\n",
       "      <td>two-sided</td>\n",
       "      <td>0.000</td>\n",
       "      <td>0.000</td>\n",
       "      <td>bonf</td>\n",
       "      <td>199.418</td>\n",
       "      <td>0.532</td>\n",
       "    </tr>\n",
       "    <tr>\n",
       "      <th>2</th>\n",
       "      <td>time</td>\n",
       "      <td>t2</td>\n",
       "      <td>t3</td>\n",
       "      <td>True</td>\n",
       "      <td>True</td>\n",
       "      <td>4.834</td>\n",
       "      <td>11.0</td>\n",
       "      <td>two-sided</td>\n",
       "      <td>0.001</td>\n",
       "      <td>0.002</td>\n",
       "      <td>bonf</td>\n",
       "      <td>69.395</td>\n",
       "      <td>0.292</td>\n",
       "    </tr>\n",
       "  </tbody>\n",
       "</table>\n",
       "</div>"
      ],
      "text/plain": [
       "  Contrast   A   B  Paired  Parametric      T   dof alternative  p-unc  \\\n",
       "0     time  t1  t2    True        True  4.352  11.0   two-sided  0.001   \n",
       "1     time  t1  t3    True        True  5.631  11.0   two-sided  0.000   \n",
       "2     time  t2  t3    True        True  4.834  11.0   two-sided  0.001   \n",
       "\n",
       "   p-corr p-adjust     BF10  hedges  \n",
       "0   0.003     bonf   35.556   0.230  \n",
       "1   0.000     bonf  199.418   0.532  \n",
       "2   0.002     bonf   69.395   0.292  "
      ]
     },
     "execution_count": 30,
     "metadata": {},
     "output_type": "execute_result"
    }
   ],
   "source": [
    "df.pairwise_ttests(dv='score', within=['time'], subject='id', padjust='bonf').round(3)"
   ]
  },
  {
   "cell_type": "code",
   "execution_count": 31,
   "metadata": {},
   "outputs": [],
   "source": [
    "# comparisons for treatment variable"
   ]
  },
  {
   "cell_type": "code",
   "execution_count": 32,
   "metadata": {},
   "outputs": [
    {
     "data": {
      "text/html": [
       "<div>\n",
       "<style scoped>\n",
       "    .dataframe tbody tr th:only-of-type {\n",
       "        vertical-align: middle;\n",
       "    }\n",
       "\n",
       "    .dataframe tbody tr th {\n",
       "        vertical-align: top;\n",
       "    }\n",
       "\n",
       "    .dataframe thead th {\n",
       "        text-align: right;\n",
       "    }\n",
       "</style>\n",
       "<table border=\"1\" class=\"dataframe\">\n",
       "  <thead>\n",
       "    <tr style=\"text-align: right;\">\n",
       "      <th></th>\n",
       "      <th>Contrast</th>\n",
       "      <th>A</th>\n",
       "      <th>B</th>\n",
       "      <th>Paired</th>\n",
       "      <th>Parametric</th>\n",
       "      <th>T</th>\n",
       "      <th>dof</th>\n",
       "      <th>alternative</th>\n",
       "      <th>p-unc</th>\n",
       "      <th>BF10</th>\n",
       "      <th>hedges</th>\n",
       "    </tr>\n",
       "  </thead>\n",
       "  <tbody>\n",
       "    <tr>\n",
       "      <th>0</th>\n",
       "      <td>treatment</td>\n",
       "      <td>Diet</td>\n",
       "      <td>ctr</td>\n",
       "      <td>True</td>\n",
       "      <td>True</td>\n",
       "      <td>3.942</td>\n",
       "      <td>11.0</td>\n",
       "      <td>two-sided</td>\n",
       "      <td>0.002</td>\n",
       "      <td>19.857</td>\n",
       "      <td>0.472</td>\n",
       "    </tr>\n",
       "  </tbody>\n",
       "</table>\n",
       "</div>"
      ],
      "text/plain": [
       "    Contrast     A    B  Paired  Parametric      T   dof alternative  p-unc  \\\n",
       "0  treatment  Diet  ctr    True        True  3.942  11.0   two-sided  0.002   \n",
       "\n",
       "     BF10  hedges  \n",
       "0  19.857   0.472  "
      ]
     },
     "execution_count": 32,
     "metadata": {},
     "output_type": "execute_result"
    }
   ],
   "source": [
    "df.pairwise_ttests(dv='score', within=['treatment'], subject='id',   padjust='bonf').round(3)"
   ]
  },
  {
   "cell_type": "markdown",
   "metadata": {},
   "source": [
    "#### Compute pairwise comparisons"
   ]
  },
  {
   "cell_type": "code",
   "execution_count": 33,
   "metadata": {},
   "outputs": [
    {
     "name": "stdout",
     "output_type": "stream",
     "text": [
      "p-value annotation legend:\n",
      "      ns: p <= 1.00e+00\n",
      "       *: 1.00e-02 < p <= 5.00e-02\n",
      "      **: 1.00e-03 < p <= 1.00e-02\n",
      "     ***: 1.00e-04 < p <= 1.00e-03\n",
      "    ****: p <= 1.00e-04\n",
      "\n",
      "t2_ctr vs. t2_Diet: Custom statistical test, P_val:3.600e-02\n",
      "t1_ctr vs. t1_Diet: Custom statistical test, P_val:1.000e+00\n",
      "t3_ctr vs. t3_Diet: Custom statistical test, P_val:1.000e-03\n"
     ]
    },
    {
     "data": {
      "image/png": "[encoded data removed]",
      "text/plain": [
       "<Figure size 1080x576 with 1 Axes>"
      ]
     },
     "metadata": {
      "needs_background": "light"
     },
     "output_type": "display_data"
    }
   ],
   "source": [
    "from statannotations.Annotator import Annotator\n",
    "\n",
    "subcat_palette = sns.dark_palette(\"#8BF\", reverse=True, n_colors=3)\n",
    "subcat_palette = sns.color_palette(\"YlGnBu\", n_colors=2)\n",
    "\n",
    "treatment_order = [\"ctr\", \"Diet\"]\n",
    "time = ['t1', 't2', 't3']\n",
    "\n",
    "pvalues = [1, 0.036, 0.001]\n",
    "# Putting the parameters in a dictionary avoids code duplication\n",
    "# since we use the same for `sns.boxplot` and `Annotator` calls..\n",
    "\n",
    "pairs = [\n",
    "    [('t1', 'ctr'), ('t1', 'Diet')],\n",
    "    [('t2', 'ctr'), ('t2', 'Diet')],\n",
    "    [('t3', 'ctr'), ('t3', 'Diet')],\n",
    "]\n",
    "\n",
    "plotting_parameters = {\n",
    "    'data': df,\n",
    "    'x': 'time',\n",
    "    'y': 'score',\n",
    "    \"order\": time,\n",
    "    \"hue\": \"treatment\",\n",
    "    \"hue_order\": treatment_order,\n",
    "    \"palette\": subcat_palette\n",
    "}\n",
    "\n",
    "formatted_pvalues = [f\"p={p:.2e}\" for p in pvalues]\n",
    "with sns.plotting_context('notebook', font_scale = 1.4):\n",
    "\n",
    "    from matplotlib import pyplot as plt\n",
    "    plt.figure(figsize=(15,8))\n",
    "    # Plot with seaborn\n",
    "    ax = sns.boxplot(**plotting_parameters)\n",
    "\n",
    "    # Add annotations\n",
    "    annotator = Annotator(ax, pairs, **plotting_parameters)\n",
    "    annotator.set_pvalues(pvalues)\n",
    "    annotator.annotate()\n",
    "\n",
    "    plt.show()"
   ]
  }
 ],
 "metadata": {
  "kernelspec": {
   "display_name": "Python 3 (ipykernel)",
   "language": "python",
   "name": "python3"
  },
  "language_info": {
   "codemirror_mode": {
    "name": "ipython",
    "version": 3
   },
   "file_extension": ".py",
   "mimetype": "text/x-python",
   "name": "python",
   "nbconvert_exporter": "python",
   "pygments_lexer": "ipython3",
   "version": "3.9.7"
  }
 },
 "nbformat": 4,
 "nbformat_minor": 2
}
