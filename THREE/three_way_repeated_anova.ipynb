{
 "cells": [
  {
   "cell_type": "code",
   "execution_count": 1,
   "metadata": {
    "scrolled": true
   },
   "outputs": [],
   "source": [
    "import pandas as pd\n",
    "import numpy as np\n",
    "import seaborn as sns\n",
    "import matplotlib.pyplot as plt"
   ]
  },
  {
   "cell_type": "code",
   "execution_count": 2,
   "metadata": {},
   "outputs": [
    {
     "data": {
      "text/html": [
       "<div>\n",
       "<style scoped>\n",
       "    .dataframe tbody tr th:only-of-type {\n",
       "        vertical-align: middle;\n",
       "    }\n",
       "\n",
       "    .dataframe tbody tr th {\n",
       "        vertical-align: top;\n",
       "    }\n",
       "\n",
       "    .dataframe thead th {\n",
       "        text-align: right;\n",
       "    }\n",
       "</style>\n",
       "<table border=\"1\" class=\"dataframe\">\n",
       "  <thead>\n",
       "    <tr style=\"text-align: right;\">\n",
       "      <th></th>\n",
       "      <th>id</th>\n",
       "      <th>diet</th>\n",
       "      <th>exercises</th>\n",
       "      <th>time</th>\n",
       "      <th>score</th>\n",
       "    </tr>\n",
       "  </thead>\n",
       "  <tbody>\n",
       "    <tr>\n",
       "      <th>0</th>\n",
       "      <td>1</td>\n",
       "      <td>no</td>\n",
       "      <td>no</td>\n",
       "      <td>t1</td>\n",
       "      <td>10.43</td>\n",
       "    </tr>\n",
       "    <tr>\n",
       "      <th>1</th>\n",
       "      <td>2</td>\n",
       "      <td>no</td>\n",
       "      <td>no</td>\n",
       "      <td>t1</td>\n",
       "      <td>11.59</td>\n",
       "    </tr>\n",
       "    <tr>\n",
       "      <th>2</th>\n",
       "      <td>3</td>\n",
       "      <td>no</td>\n",
       "      <td>no</td>\n",
       "      <td>t1</td>\n",
       "      <td>11.35</td>\n",
       "    </tr>\n",
       "    <tr>\n",
       "      <th>3</th>\n",
       "      <td>4</td>\n",
       "      <td>no</td>\n",
       "      <td>no</td>\n",
       "      <td>t1</td>\n",
       "      <td>11.12</td>\n",
       "    </tr>\n",
       "    <tr>\n",
       "      <th>4</th>\n",
       "      <td>5</td>\n",
       "      <td>no</td>\n",
       "      <td>no</td>\n",
       "      <td>t1</td>\n",
       "      <td>9.50</td>\n",
       "    </tr>\n",
       "  </tbody>\n",
       "</table>\n",
       "</div>"
      ],
      "text/plain": [
       "   id diet exercises time  score\n",
       "0   1   no        no   t1  10.43\n",
       "1   2   no        no   t1  11.59\n",
       "2   3   no        no   t1  11.35\n",
       "3   4   no        no   t1  11.12\n",
       "4   5   no        no   t1   9.50"
      ]
     },
     "execution_count": 2,
     "metadata": {},
     "output_type": "execute_result"
    }
   ],
   "source": [
    "df = pd.read_csv(\"three_way_repeated.csv\")\n",
    "df.head()"
   ]
  },
  {
   "cell_type": "markdown",
   "metadata": {},
   "source": [
    "## Summary Statistics"
   ]
  },
  {
   "cell_type": "code",
   "execution_count": 3,
   "metadata": {},
   "outputs": [
    {
     "data": {
      "text/html": [
       "<div>\n",
       "<style scoped>\n",
       "    .dataframe tbody tr th:only-of-type {\n",
       "        vertical-align: middle;\n",
       "    }\n",
       "\n",
       "    .dataframe tbody tr th {\n",
       "        vertical-align: top;\n",
       "    }\n",
       "\n",
       "    .dataframe thead th {\n",
       "        text-align: right;\n",
       "    }\n",
       "</style>\n",
       "<table border=\"1\" class=\"dataframe\">\n",
       "  <thead>\n",
       "    <tr style=\"text-align: right;\">\n",
       "      <th></th>\n",
       "      <th></th>\n",
       "      <th></th>\n",
       "      <th>count</th>\n",
       "      <th>std</th>\n",
       "      <th>mean</th>\n",
       "    </tr>\n",
       "    <tr>\n",
       "      <th>diet</th>\n",
       "      <th>exercises</th>\n",
       "      <th>time</th>\n",
       "      <th></th>\n",
       "      <th></th>\n",
       "      <th></th>\n",
       "    </tr>\n",
       "  </thead>\n",
       "  <tbody>\n",
       "    <tr>\n",
       "      <th rowspan=\"6\" valign=\"top\">no</th>\n",
       "      <th rowspan=\"3\" valign=\"top\">no</th>\n",
       "      <th>t1</th>\n",
       "      <td>12</td>\n",
       "      <td>0.868473</td>\n",
       "      <td>10.909167</td>\n",
       "    </tr>\n",
       "    <tr>\n",
       "      <th>t2</th>\n",
       "      <td>12</td>\n",
       "      <td>1.297581</td>\n",
       "      <td>11.565833</td>\n",
       "    </tr>\n",
       "    <tr>\n",
       "      <th>t3</th>\n",
       "      <td>12</td>\n",
       "      <td>0.934792</td>\n",
       "      <td>11.450000</td>\n",
       "    </tr>\n",
       "    <tr>\n",
       "      <th rowspan=\"3\" valign=\"top\">yes</th>\n",
       "      <th>t1</th>\n",
       "      <td>12</td>\n",
       "      <td>1.266839</td>\n",
       "      <td>10.794167</td>\n",
       "    </tr>\n",
       "    <tr>\n",
       "      <th>t2</th>\n",
       "      <td>12</td>\n",
       "      <td>1.005507</td>\n",
       "      <td>13.420833</td>\n",
       "    </tr>\n",
       "    <tr>\n",
       "      <th>t3</th>\n",
       "      <td>12</td>\n",
       "      <td>1.529558</td>\n",
       "      <td>16.817500</td>\n",
       "    </tr>\n",
       "    <tr>\n",
       "      <th rowspan=\"6\" valign=\"top\">yes</th>\n",
       "      <th rowspan=\"3\" valign=\"top\">no</th>\n",
       "      <th>t1</th>\n",
       "      <td>12</td>\n",
       "      <td>0.938327</td>\n",
       "      <td>11.742500</td>\n",
       "    </tr>\n",
       "    <tr>\n",
       "      <th>t2</th>\n",
       "      <td>12</td>\n",
       "      <td>1.419977</td>\n",
       "      <td>12.415833</td>\n",
       "    </tr>\n",
       "    <tr>\n",
       "      <th>t3</th>\n",
       "      <td>12</td>\n",
       "      <td>1.432743</td>\n",
       "      <td>13.786667</td>\n",
       "    </tr>\n",
       "    <tr>\n",
       "      <th rowspan=\"3\" valign=\"top\">yes</th>\n",
       "      <th>t1</th>\n",
       "      <td>12</td>\n",
       "      <td>1.088688</td>\n",
       "      <td>11.393333</td>\n",
       "    </tr>\n",
       "    <tr>\n",
       "      <th>t2</th>\n",
       "      <td>12</td>\n",
       "      <td>1.220510</td>\n",
       "      <td>13.225000</td>\n",
       "    </tr>\n",
       "    <tr>\n",
       "      <th>t3</th>\n",
       "      <td>12</td>\n",
       "      <td>0.624856</td>\n",
       "      <td>14.655000</td>\n",
       "    </tr>\n",
       "  </tbody>\n",
       "</table>\n",
       "</div>"
      ],
      "text/plain": [
       "                     count       std       mean\n",
       "diet exercises time                            \n",
       "no   no        t1       12  0.868473  10.909167\n",
       "               t2       12  1.297581  11.565833\n",
       "               t3       12  0.934792  11.450000\n",
       "     yes       t1       12  1.266839  10.794167\n",
       "               t2       12  1.005507  13.420833\n",
       "               t3       12  1.529558  16.817500\n",
       "yes  no        t1       12  0.938327  11.742500\n",
       "               t2       12  1.419977  12.415833\n",
       "               t3       12  1.432743  13.786667\n",
       "     yes       t1       12  1.088688  11.393333\n",
       "               t2       12  1.220510  13.225000\n",
       "               t3       12  0.624856  14.655000"
      ]
     },
     "execution_count": 3,
     "metadata": {},
     "output_type": "execute_result"
    }
   ],
   "source": [
    "stats = df.groupby(['diet', 'exercises', 'time'])['score'].agg(['count', 'std', 'mean'])\n",
    "stats"
   ]
  },
  {
   "cell_type": "markdown",
   "metadata": {},
   "source": [
    "## Catplot"
   ]
  },
  {
   "cell_type": "code",
   "execution_count": 4,
   "metadata": {},
   "outputs": [
    {
     "data": {
      "image/png": "[encoded data removed]",
      "text/plain": [
       "<Figure size 823.85x432 with 2 Axes>"
      ]
     },
     "metadata": {
      "needs_background": "light"
     },
     "output_type": "display_data"
    }
   ],
   "source": [
    "sns.catplot(x=\"exercises\", y=\"score\",\n",
    "                hue=\"time\", col=\"diet\",\n",
    "                data=df, kind=\"box\",\n",
    "                height=6, aspect=.9);"
   ]
  },
  {
   "cell_type": "markdown",
   "metadata": {},
   "source": [
    "## Interaction plot using Seaborn"
   ]
  },
  {
   "cell_type": "code",
   "execution_count": 5,
   "metadata": {},
   "outputs": [
    {
     "data": {
      "image/png": "[encoded data removed]",
      "text/plain": [
       "<Figure size 823.85x432 with 2 Axes>"
      ]
     },
     "metadata": {
      "needs_background": "light"
     },
     "output_type": "display_data"
    }
   ],
   "source": [
    "sns.catplot(x=\"exercises\", y=\"score\",\n",
    "                hue=\"time\", col=\"diet\",\n",
    "                data=df, kind=\"point\",\n",
    "                height=6, aspect=.9);"
   ]
  },
  {
   "cell_type": "markdown",
   "metadata": {},
   "source": [
    "# Assumptions"
   ]
  },
  {
   "cell_type": "markdown",
   "metadata": {},
   "source": [
    "### Outliers"
   ]
  },
  {
   "cell_type": "code",
   "execution_count": 6,
   "metadata": {},
   "outputs": [],
   "source": [
    "def outliers(dep, ind1, ind2, ind3):\n",
    "    dicts = {'Outliers':{}}\n",
    "    for cat_ind1 in pd.unique(df[ind1]):\n",
    "        for cat_ind2 in pd.unique(df[ind2]):\n",
    "            for cat_ind3 in pd.unique(df[ind3]):\n",
    "                Q1, Q3 = np.percentile(df[dep][df[ind1] == cat_ind1][df[ind2] == cat_ind2][df[ind3] == cat_ind3], [25,75])\n",
    "                IQR = Q3-Q1\n",
    "                lower_fence, upper_fence= Q1-(1.5*IQR), Q3+(1.5*IQR)\n",
    "                new_dataset = []\n",
    "                for i in df[dep][df[ind1] == cat_ind1][df[ind2] == cat_ind2][df[ind3] == cat_ind3]:\n",
    "                    if i < lower_fence or i > upper_fence:\n",
    "                        new_dataset.append(i)\n",
    "                dicts['Outliers'][f'{cat_ind1}, {cat_ind2} and {cat_ind3}'] = new_dataset\n",
    "    return pd.DataFrame(dicts)"
   ]
  },
  {
   "cell_type": "code",
   "execution_count": 7,
   "metadata": {},
   "outputs": [
    {
     "data": {
      "text/html": [
       "<div>\n",
       "<style scoped>\n",
       "    .dataframe tbody tr th:only-of-type {\n",
       "        vertical-align: middle;\n",
       "    }\n",
       "\n",
       "    .dataframe tbody tr th {\n",
       "        vertical-align: top;\n",
       "    }\n",
       "\n",
       "    .dataframe thead th {\n",
       "        text-align: right;\n",
       "    }\n",
       "</style>\n",
       "<table border=\"1\" class=\"dataframe\">\n",
       "  <thead>\n",
       "    <tr style=\"text-align: right;\">\n",
       "      <th></th>\n",
       "      <th>Outliers</th>\n",
       "    </tr>\n",
       "  </thead>\n",
       "  <tbody>\n",
       "    <tr>\n",
       "      <th>t1, no and no</th>\n",
       "      <td>[]</td>\n",
       "    </tr>\n",
       "    <tr>\n",
       "      <th>t1, no and yes</th>\n",
       "      <td>[]</td>\n",
       "    </tr>\n",
       "    <tr>\n",
       "      <th>t1, yes and no</th>\n",
       "      <td>[10.2, 13.21, 10.2]</td>\n",
       "    </tr>\n",
       "    <tr>\n",
       "      <th>t1, yes and yes</th>\n",
       "      <td>[]</td>\n",
       "    </tr>\n",
       "    <tr>\n",
       "      <th>t2, no and no</th>\n",
       "      <td>[]</td>\n",
       "    </tr>\n",
       "    <tr>\n",
       "      <th>t2, no and yes</th>\n",
       "      <td>[]</td>\n",
       "    </tr>\n",
       "    <tr>\n",
       "      <th>t2, yes and no</th>\n",
       "      <td>[15.29]</td>\n",
       "    </tr>\n",
       "    <tr>\n",
       "      <th>t2, yes and yes</th>\n",
       "      <td>[]</td>\n",
       "    </tr>\n",
       "    <tr>\n",
       "      <th>t3, no and no</th>\n",
       "      <td>[13.21]</td>\n",
       "    </tr>\n",
       "    <tr>\n",
       "      <th>t3, no and yes</th>\n",
       "      <td>[]</td>\n",
       "    </tr>\n",
       "    <tr>\n",
       "      <th>t3, yes and no</th>\n",
       "      <td>[]</td>\n",
       "    </tr>\n",
       "    <tr>\n",
       "      <th>t3, yes and yes</th>\n",
       "      <td>[]</td>\n",
       "    </tr>\n",
       "  </tbody>\n",
       "</table>\n",
       "</div>"
      ],
      "text/plain": [
       "                            Outliers\n",
       "t1, no and no                     []\n",
       "t1, no and yes                    []\n",
       "t1, yes and no   [10.2, 13.21, 10.2]\n",
       "t1, yes and yes                   []\n",
       "t2, no and no                     []\n",
       "t2, no and yes                    []\n",
       "t2, yes and no               [15.29]\n",
       "t2, yes and yes                   []\n",
       "t3, no and no                [13.21]\n",
       "t3, no and yes                    []\n",
       "t3, yes and no                    []\n",
       "t3, yes and yes                   []"
      ]
     },
     "execution_count": 7,
     "metadata": {},
     "output_type": "execute_result"
    }
   ],
   "source": [
    "outliers('score', 'time', 'diet', 'exercises')"
   ]
  },
  {
   "cell_type": "markdown",
   "metadata": {},
   "source": [
    "### Normality"
   ]
  },
  {
   "cell_type": "code",
   "execution_count": 8,
   "metadata": {},
   "outputs": [],
   "source": [
    "def shapiro(dep, ind1, ind2, ind3):\n",
    "    normality = {'Shapiro':{}}\n",
    "    import scipy.stats as stats\n",
    "    for cat_ind1 in pd.unique(df[ind1]):\n",
    "        for cat_ind2 in pd.unique(df[ind2]):\n",
    "            for cat_ind3 in pd.unique(df[ind3]):\n",
    "                result = stats.shapiro(df[dep][df[ind1] == cat_ind1][df[ind2] == cat_ind2][df[ind3] == cat_ind3])\n",
    "                normality['Shapiro'][f'{cat_ind1}, {cat_ind2} and {cat_ind3}'] = result\n",
    "    return pd.DataFrame(normality)"
   ]
  },
  {
   "cell_type": "code",
   "execution_count": 9,
   "metadata": {},
   "outputs": [
    {
     "data": {
      "text/html": [
       "<div>\n",
       "<style scoped>\n",
       "    .dataframe tbody tr th:only-of-type {\n",
       "        vertical-align: middle;\n",
       "    }\n",
       "\n",
       "    .dataframe tbody tr th {\n",
       "        vertical-align: top;\n",
       "    }\n",
       "\n",
       "    .dataframe thead th {\n",
       "        text-align: right;\n",
       "    }\n",
       "</style>\n",
       "<table border=\"1\" class=\"dataframe\">\n",
       "  <thead>\n",
       "    <tr style=\"text-align: right;\">\n",
       "      <th></th>\n",
       "      <th>Shapiro</th>\n",
       "    </tr>\n",
       "  </thead>\n",
       "  <tbody>\n",
       "    <tr>\n",
       "      <th>t1, no and no</th>\n",
       "      <td>(0.9173082113265991, 0.2643972337245941)</td>\n",
       "    </tr>\n",
       "    <tr>\n",
       "      <th>t1, no and yes</th>\n",
       "      <td>(0.9223456978797913, 0.30594387650489807)</td>\n",
       "    </tr>\n",
       "    <tr>\n",
       "      <th>t1, yes and no</th>\n",
       "      <td>(0.9422785043716431, 0.5281425714492798)</td>\n",
       "    </tr>\n",
       "    <tr>\n",
       "      <th>t1, yes and yes</th>\n",
       "      <td>(0.9141565561294556, 0.241112619638443)</td>\n",
       "    </tr>\n",
       "    <tr>\n",
       "      <th>t2, no and no</th>\n",
       "      <td>(0.9571979641914368, 0.743209719657898)</td>\n",
       "    </tr>\n",
       "    <tr>\n",
       "      <th>t2, no and yes</th>\n",
       "      <td>(0.9123399257659912, 0.22858017683029175)</td>\n",
       "    </tr>\n",
       "    <tr>\n",
       "      <th>t2, yes and no</th>\n",
       "      <td>(0.9816771745681763, 0.9894561171531677)</td>\n",
       "    </tr>\n",
       "    <tr>\n",
       "      <th>t2, yes and yes</th>\n",
       "      <td>(0.9472881555557251, 0.5977388024330139)</td>\n",
       "    </tr>\n",
       "    <tr>\n",
       "      <th>t3, no and no</th>\n",
       "      <td>(0.9649091958999634, 0.8509048223495483)</td>\n",
       "    </tr>\n",
       "    <tr>\n",
       "      <th>t3, no and yes</th>\n",
       "      <td>(0.9525445699691772, 0.6744313836097717)</td>\n",
       "    </tr>\n",
       "    <tr>\n",
       "      <th>t3, yes and no</th>\n",
       "      <td>(0.9313724040985107, 0.3948858082294464)</td>\n",
       "    </tr>\n",
       "    <tr>\n",
       "      <th>t3, yes and yes</th>\n",
       "      <td>(0.9373214244842529, 0.46417108178138733)</td>\n",
       "    </tr>\n",
       "  </tbody>\n",
       "</table>\n",
       "</div>"
      ],
      "text/plain": [
       "                                                   Shapiro\n",
       "t1, no and no     (0.9173082113265991, 0.2643972337245941)\n",
       "t1, no and yes   (0.9223456978797913, 0.30594387650489807)\n",
       "t1, yes and no    (0.9422785043716431, 0.5281425714492798)\n",
       "t1, yes and yes    (0.9141565561294556, 0.241112619638443)\n",
       "t2, no and no      (0.9571979641914368, 0.743209719657898)\n",
       "t2, no and yes   (0.9123399257659912, 0.22858017683029175)\n",
       "t2, yes and no    (0.9816771745681763, 0.9894561171531677)\n",
       "t2, yes and yes   (0.9472881555557251, 0.5977388024330139)\n",
       "t3, no and no     (0.9649091958999634, 0.8509048223495483)\n",
       "t3, no and yes    (0.9525445699691772, 0.6744313836097717)\n",
       "t3, yes and no    (0.9313724040985107, 0.3948858082294464)\n",
       "t3, yes and yes  (0.9373214244842529, 0.46417108178138733)"
      ]
     },
     "execution_count": 9,
     "metadata": {},
     "output_type": "execute_result"
    }
   ],
   "source": [
    "shapiro('score', 'time', 'diet', 'exercises')"
   ]
  },
  {
   "cell_type": "markdown",
   "metadata": {},
   "source": [
    "## Three-Way_Repeated ANOVA Computation"
   ]
  },
  {
   "cell_type": "code",
   "execution_count": 10,
   "metadata": {},
   "outputs": [
    {
     "name": "stderr",
     "output_type": "stream",
     "text": [
      "C:\\ProgramData\\Anaconda3\\envs\\All\\lib\\site-packages\\statsmodels\\compat\\pandas.py:61: FutureWarning: pandas.Int64Index is deprecated and will be removed from pandas in a future version. Use pandas.Index with the appropriate dtype instead.\n",
      "  from pandas import Int64Index as NumericIndex\n"
     ]
    },
    {
     "data": {
      "text/html": [
       "<table class=\"simpletable\">\n",
       "<tr>\n",
       "           <td></td>            <th>F Value</th> <th>Num DF</th> <th>Den DF</th>  <th>Pr > F</th>\n",
       "</tr>\n",
       "<tr>\n",
       "  <th>diet</th>                 <td>6.0214</td>  <td>1.0000</td> <td>11.0000</td> <td>0.0320</td>\n",
       "</tr>\n",
       "<tr>\n",
       "  <th>exercises</th>            <td>58.9281</td> <td>1.0000</td> <td>11.0000</td> <td>0.0000</td>\n",
       "</tr>\n",
       "<tr>\n",
       "  <th>time</th>                <td>110.9416</td> <td>2.0000</td> <td>22.0000</td> <td>0.0000</td>\n",
       "</tr>\n",
       "<tr>\n",
       "  <th>diet:exercises</th>       <td>75.3561</td> <td>1.0000</td> <td>11.0000</td> <td>0.0000</td>\n",
       "</tr>\n",
       "<tr>\n",
       "  <th>diet:time</th>            <td>0.6026</td>  <td>2.0000</td> <td>22.0000</td> <td>0.5562</td>\n",
       "</tr>\n",
       "<tr>\n",
       "  <th>exercises:time</th>       <td>20.8259</td> <td>2.0000</td> <td>22.0000</td> <td>0.0000</td>\n",
       "</tr>\n",
       "<tr>\n",
       "  <th>diet:exercises:time</th>  <td>14.2461</td> <td>2.0000</td> <td>22.0000</td> <td>0.0001</td>\n",
       "</tr>\n",
       "</table>"
      ],
      "text/plain": [
       "<class 'statsmodels.iolib.summary2.Summary'>\n",
       "\"\"\"\n",
       "                      Anova\n",
       "==================================================\n",
       "                    F Value  Num DF  Den DF Pr > F\n",
       "--------------------------------------------------\n",
       "diet                  6.0214 1.0000 11.0000 0.0320\n",
       "exercises            58.9281 1.0000 11.0000 0.0000\n",
       "time                110.9416 2.0000 22.0000 0.0000\n",
       "diet:exercises       75.3561 1.0000 11.0000 0.0000\n",
       "diet:time             0.6026 2.0000 22.0000 0.5562\n",
       "exercises:time       20.8259 2.0000 22.0000 0.0000\n",
       "diet:exercises:time  14.2461 2.0000 22.0000 0.0001\n",
       "==================================================\n",
       "\n",
       "\"\"\""
      ]
     },
     "execution_count": 10,
     "metadata": {},
     "output_type": "execute_result"
    }
   ],
   "source": [
    "from statsmodels.stats.anova import AnovaRM\n",
    "aovrm = AnovaRM(df, 'score', 'id', within=['diet', 'exercises', 'time'])\n",
    "res = aovrm.fit()\n",
    "res.summary()"
   ]
  },
  {
   "cell_type": "markdown",
   "metadata": {},
   "source": [
    "## Post-hoct tests"
   ]
  },
  {
   "cell_type": "markdown",
   "metadata": {},
   "source": [
    "### Procedure for significant two-way interaction"
   ]
  },
  {
   "cell_type": "raw",
   "metadata": {},
   "source": [
    "If there is a significant three-way interaction effect, you can decompose it into:\n",
    "\n",
    "----Simple two-way interaction: run two-way interaction at each level of third variable,\n",
    "----Simple simple main effect: run one-way model at each level of second variable, and\n",
    "----simple simple pairwise comparisons: run pairwise or other post-hoc comparisons if necessary."
   ]
  },
  {
   "cell_type": "markdown",
   "metadata": {},
   "source": [
    "#### Simple two-way interaction"
   ]
  },
  {
   "cell_type": "code",
   "execution_count": 11,
   "metadata": {},
   "outputs": [],
   "source": [
    "# Group the data by diet and analyze the simple two-way interaction between exercises and time:"
   ]
  },
  {
   "cell_type": "code",
   "execution_count": 12,
   "metadata": {
    "scrolled": true
   },
   "outputs": [
    {
     "name": "stdout",
     "output_type": "stream",
     "text": [
      "[{'diet_no': <class 'statsmodels.iolib.summary2.Summary'>\n",
      "\"\"\"\n",
      "                   Anova\n",
      "============================================\n",
      "               F Value Num DF  Den DF Pr > F\n",
      "--------------------------------------------\n",
      "exercises      72.7752 1.0000 11.0000 0.0000\n",
      "time           71.6633 2.0000 22.0000 0.0000\n",
      "exercises:time 28.9374 2.0000 22.0000 0.0000\n",
      "============================================\n",
      "\n",
      "\"\"\"}]\n",
      "[{'diet_yes': <class 'statsmodels.iolib.summary2.Summary'>\n",
      "\"\"\"\n",
      "                   Anova\n",
      "============================================\n",
      "               F Value Num DF  Den DF Pr > F\n",
      "--------------------------------------------\n",
      "exercises      13.4410 1.0000 11.0000 0.0037\n",
      "time           20.5344 2.0000 22.0000 0.0000\n",
      "exercises:time  2.5707 2.0000 22.0000 0.0992\n",
      "============================================\n",
      "\n",
      "\"\"\"}]\n"
     ]
    }
   ],
   "source": [
    "diet_no = df[df['diet'] == 'no']\n",
    "diet_yes = df[df['diet'] == 'yes']\n",
    "\n",
    "dataframes = [diet_no, diet_yes]\n",
    "names = ['diet_no', 'diet_yes']\n",
    "\n",
    "for i, j in zip(dataframes, names):\n",
    "    results = []\n",
    "    aovrm = AnovaRM(i, 'score', 'id', within=['exercises', 'time'])\n",
    "    res = aovrm.fit()\n",
    "    summary = res.summary()\n",
    "    dicts = {f'{j}':summary}\n",
    "    results.append(dicts)\n",
    "    print(results)"
   ]
  },
  {
   "cell_type": "markdown",
   "metadata": {},
   "source": [
    "##### Simple main effect"
   ]
  },
  {
   "cell_type": "code",
   "execution_count": 13,
   "metadata": {},
   "outputs": [],
   "source": [
    "# Group the data by diet and exercises, and analyze the simple main effect of time. "
   ]
  },
  {
   "cell_type": "code",
   "execution_count": 14,
   "metadata": {
    "scrolled": true
   },
   "outputs": [
    {
     "name": "stderr",
     "output_type": "stream",
     "text": [
      "C:\\Users\\Administrator\\AppData\\Local\\Temp\\ipykernel_9164\\1396432326.py:1: UserWarning: Boolean Series key will be reindexed to match DataFrame index.\n",
      "  diet_no_exercise_no = df[df['diet'] == 'no'][df['exercises'] == 'no']\n",
      "C:\\Users\\Administrator\\AppData\\Local\\Temp\\ipykernel_9164\\1396432326.py:2: UserWarning: Boolean Series key will be reindexed to match DataFrame index.\n",
      "  diet_no_exercise_yes = df[df['diet'] == 'no'][df['exercises'] == 'yes']\n",
      "C:\\Users\\Administrator\\AppData\\Local\\Temp\\ipykernel_9164\\1396432326.py:3: UserWarning: Boolean Series key will be reindexed to match DataFrame index.\n",
      "  diet_yes_exercise_no = df[df['diet'] == 'yes'][df['exercises'] == 'no']\n",
      "C:\\Users\\Administrator\\AppData\\Local\\Temp\\ipykernel_9164\\1396432326.py:4: UserWarning: Boolean Series key will be reindexed to match DataFrame index.\n",
      "  diet_yes_exercise_yes = df[df['diet'] == 'yes'][df['exercises'] == 'yes']\n"
     ]
    },
    {
     "name": "stdout",
     "output_type": "stream",
     "text": [
      "[{'diet_no_exercise_no': <class 'statsmodels.iolib.summary2.Summary'>\n",
      "\"\"\"\n",
      "              Anova\n",
      "==================================\n",
      "     F Value Num DF  Den DF Pr > F\n",
      "----------------------------------\n",
      "time  1.3251 2.0000 22.0000 0.2862\n",
      "==================================\n",
      "\n",
      "\"\"\"}]\n",
      "[{'diet_no_exercise_yes': <class 'statsmodels.iolib.summary2.Summary'>\n",
      "\"\"\"\n",
      "              Anova\n",
      "==================================\n",
      "     F Value Num DF  Den DF Pr > F\n",
      "----------------------------------\n",
      "time 78.8148 2.0000 22.0000 0.0000\n",
      "==================================\n",
      "\n",
      "\"\"\"}]\n",
      "[{'diet_yes_exercise_no': <class 'statsmodels.iolib.summary2.Summary'>\n",
      "\"\"\"\n",
      "              Anova\n",
      "==================================\n",
      "     F Value Num DF  Den DF Pr > F\n",
      "----------------------------------\n",
      "time  6.1392 2.0000 22.0000 0.0076\n",
      "==================================\n",
      "\n",
      "\"\"\"}]\n",
      "[{'diet_yes_exercise_yes': <class 'statsmodels.iolib.summary2.Summary'>\n",
      "\"\"\"\n",
      "              Anova\n",
      "==================================\n",
      "     F Value Num DF  Den DF Pr > F\n",
      "----------------------------------\n",
      "time 30.9241 2.0000 22.0000 0.0000\n",
      "==================================\n",
      "\n",
      "\"\"\"}]\n"
     ]
    }
   ],
   "source": [
    "diet_no_exercise_no = df[df['diet'] == 'no'][df['exercises'] == 'no']\n",
    "diet_no_exercise_yes = df[df['diet'] == 'no'][df['exercises'] == 'yes']\n",
    "diet_yes_exercise_no = df[df['diet'] == 'yes'][df['exercises'] == 'no']\n",
    "diet_yes_exercise_yes = df[df['diet'] == 'yes'][df['exercises'] == 'yes']\n",
    "\n",
    "dataframes = [diet_no_exercise_no, diet_no_exercise_yes, diet_yes_exercise_no, diet_yes_exercise_yes]\n",
    "names = ['diet_no_exercise_no', 'diet_no_exercise_yes', 'diet_yes_exercise_no', 'diet_yes_exercise_yes']\n",
    "\n",
    "for i, j in zip(dataframes, names):\n",
    "    results = []\n",
    "    aovrm = AnovaRM(i, 'score', 'id', within=['time'])\n",
    "    res = aovrm.fit()\n",
    "    summary = res.summary()\n",
    "    dicts = {f'{j}':summary}\n",
    "    results.append(dicts)\n",
    "    print(results)"
   ]
  },
  {
   "cell_type": "markdown",
   "metadata": {},
   "source": [
    "##### Simple pairwise comparisons:"
   ]
  },
  {
   "cell_type": "code",
   "execution_count": 15,
   "metadata": {},
   "outputs": [],
   "source": [
    "# run pairwise or other post-hoc comparisons if necessary.\n",
    "# A statistically significant simple simple main effect can be followed up by multiple pairwise comparisons to determine which group means are different.\n",
    "# Compare the different treatments by gender and risk variables:"
   ]
  },
  {
   "cell_type": "code",
   "execution_count": 16,
   "metadata": {
    "scrolled": true
   },
   "outputs": [
    {
     "name": "stderr",
     "output_type": "stream",
     "text": [
      "C:\\Users\\Administrator\\AppData\\Local\\Temp\\ipykernel_9164\\3207077170.py:1: UserWarning: Boolean Series key will be reindexed to match DataFrame index.\n",
      "  diet_no_exercise_no = df[df['diet'] == 'no'][df['exercises'] == 'no']\n",
      "C:\\Users\\Administrator\\AppData\\Local\\Temp\\ipykernel_9164\\3207077170.py:2: UserWarning: Boolean Series key will be reindexed to match DataFrame index.\n",
      "  diet_no_exercise_yes = df[df['diet'] == 'no'][df['exercises'] == 'yes']\n",
      "C:\\Users\\Administrator\\AppData\\Local\\Temp\\ipykernel_9164\\3207077170.py:3: UserWarning: Boolean Series key will be reindexed to match DataFrame index.\n",
      "  diet_yes_exercise_no = df[df['diet'] == 'yes'][df['exercises'] == 'no']\n",
      "C:\\Users\\Administrator\\AppData\\Local\\Temp\\ipykernel_9164\\3207077170.py:4: UserWarning: Boolean Series key will be reindexed to match DataFrame index.\n",
      "  diet_yes_exercise_yes = df[df['diet'] == 'yes'][df['exercises'] == 'yes']\n"
     ]
    },
    {
     "name": "stdout",
     "output_type": "stream",
     "text": [
      "[{'diet_no_exercise_no':   Contrast   A   B  Paired  Parametric         T   dof alternative     p-unc  \\\n",
      "0     time  t1  t2    True        True -1.490953  11.0   two-sided  0.164083   \n",
      "1     time  t1  t3    True        True -1.766705  11.0   two-sided  0.104975   \n",
      "2     time  t2  t3    True        True  0.223505  11.0   two-sided  0.827239   \n",
      "\n",
      "     p-corr p-adjust   BF10    hedges  \n",
      "0  0.492248     bonf  0.696 -0.574257  \n",
      "1  0.314925     bonf  0.954 -0.578763  \n",
      "2  1.000000     bonf  0.294  0.098900  }]\n",
      "[{'diet_no_exercise_yes':   Contrast   A   B  Paired  Parametric          T   dof alternative  \\\n",
      "0     time  t1  t2    True        True  -5.313222  11.0   two-sided   \n",
      "1     time  t1  t3    True        True -16.556049  11.0   two-sided   \n",
      "2     time  t2  t3    True        True  -6.028161  11.0   two-sided   \n",
      "\n",
      "          p-unc        p-corr p-adjust       BF10    hedges  \n",
      "0  2.473446e-04  7.420338e-04     bonf    131.958 -2.217519  \n",
      "1  4.015604e-09  1.204681e-08     bonf  2.341e+06 -4.141140  \n",
      "2  8.572801e-05  2.571840e-04     bonf    329.624 -2.533770  }]\n",
      "[{'diet_yes_exercise_no':   Contrast   A   B  Paired  Parametric         T   dof alternative     p-unc  \\\n",
      "0     time  t1  t2    True        True -1.387571  11.0   two-sided  0.192734   \n",
      "1     time  t1  t3    True        True -3.891246  11.0   two-sided  0.002514   \n",
      "2     time  t2  t3    True        True -1.849852  11.0   two-sided  0.091360   \n",
      "\n",
      "     p-corr p-adjust    BF10    hedges  \n",
      "0  0.578203     bonf   0.624 -0.540190  \n",
      "1  0.007543     bonf  18.457 -1.629746  \n",
      "2  0.274081     bonf   1.056 -0.927921  }]\n",
      "[{'diet_yes_exercise_yes':   Contrast   A   B  Paired  Parametric          T   dof alternative  \\\n",
      "0     time  t1  t2    True        True  -3.748389  11.0   two-sided   \n",
      "1     time  t1  t3    True        True -10.599007  11.0   two-sided   \n",
      "2     time  t2  t3    True        True  -3.323295  11.0   two-sided   \n",
      "\n",
      "          p-unc    p-corr p-adjust       BF10    hedges  \n",
      "0  3.218917e-03  0.009657     bonf     15.023 -1.529215  \n",
      "1  4.121540e-07  0.000001     bonf  3.657e+04 -3.547966  \n",
      "2  6.791505e-03  0.020375     bonf      8.112 -1.424038  }]\n"
     ]
    }
   ],
   "source": [
    "diet_no_exercise_no = df[df['diet'] == 'no'][df['exercises'] == 'no']\n",
    "diet_no_exercise_yes = df[df['diet'] == 'no'][df['exercises'] == 'yes']\n",
    "diet_yes_exercise_no = df[df['diet'] == 'yes'][df['exercises'] == 'no']\n",
    "diet_yes_exercise_yes = df[df['diet'] == 'yes'][df['exercises'] == 'yes']\n",
    "\n",
    "dataframes = [diet_no_exercise_no, diet_no_exercise_yes, diet_yes_exercise_no, diet_yes_exercise_yes]\n",
    "names = ['diet_no_exercise_no', 'diet_no_exercise_yes', 'diet_yes_exercise_no', 'diet_yes_exercise_yes']\n",
    "\n",
    "for i, j in zip(dataframes, names):\n",
    "    results = []\n",
    "    import pingouin as pg\n",
    "    ptest = pg.pairwise_ttests(dv='score', within=['time'], subject='id', padjust='bonf', data=i)\n",
    "    dicts = {f'{j}':ptest}\n",
    "    results.append(dicts)\n",
    "    print(results)"
   ]
  },
  {
   "cell_type": "markdown",
   "metadata": {},
   "source": [
    "# Report"
   ]
  },
  {
   "cell_type": "code",
   "execution_count": 17,
   "metadata": {
    "scrolled": false
   },
   "outputs": [
    {
     "name": "stdout",
     "output_type": "stream",
     "text": [
      "p-value annotation legend:\n",
      "      ns: p <= 1.00e+00\n",
      "       *: 1.00e-02 < p <= 5.00e-02\n",
      "      **: 1.00e-03 < p <= 1.00e-02\n",
      "     ***: 1.00e-04 < p <= 1.00e-03\n",
      "    ****: p <= 1.00e-04\n",
      "\n",
      "yes_t2 vs. yes_t3: Custom statistical test, P_val:2.572e-04\n",
      "no_t1 vs. no_t2: Custom statistical test, P_val:4.922e-01\n",
      "no_t2 vs. no_t3: Custom statistical test, P_val:1.000e+00\n",
      "yes_t1 vs. yes_t2: Custom statistical test, P_val:7.420e-04\n",
      "yes_t1 vs. yes_t3: Custom statistical test, P_val:1.205e-08\n",
      "no_t1 vs. no_t3: Custom statistical test, P_val:3.149e-01\n",
      "p-value annotation legend:\n",
      "      ns: p <= 1.00e+00\n",
      "       *: 1.00e-02 < p <= 5.00e-02\n",
      "      **: 1.00e-03 < p <= 1.00e-02\n",
      "     ***: 1.00e-04 < p <= 1.00e-03\n",
      "    ****: p <= 1.00e-04\n",
      "\n",
      "yes_t2 vs. yes_t3: Custom statistical test, P_val:2.038e-02\n",
      "no_t1 vs. no_t2: Custom statistical test, P_val:5.782e-01\n",
      "no_t2 vs. no_t3: Custom statistical test, P_val:2.741e-01\n",
      "yes_t1 vs. yes_t2: Custom statistical test, P_val:9.657e-03\n",
      "yes_t1 vs. yes_t3: Custom statistical test, P_val:1.000e-06\n",
      "no_t1 vs. no_t3: Custom statistical test, P_val:7.543e-03\n"
     ]
    },
    {
     "data": {
      "image/png": "[encoded data removed]",
      "text/plain": [
       "<Figure size 1440x576 with 2 Axes>"
      ]
     },
     "metadata": {
      "needs_background": "light"
     },
     "output_type": "display_data"
    }
   ],
   "source": [
    "from statannotations.Annotator import Annotator\n",
    "\n",
    "# palette = sns.color_palette(\"YlGnBu\", n_colors=3)\n",
    "\n",
    "hue_order = [\"t1\", \"t2\", 't3']\n",
    "subcat_order = ['no', 'yes']\n",
    "\n",
    "no_diet_pvalues = [0.4922, 0.314925, 1, 7.420338e-04, 1.204681e-08, 2.571840e-04]\n",
    "yes_diet_pvalues = [0.578203, 0.007543, 0.274081, 0.009657, 0.000001, 0.020375]\n",
    "\n",
    "# Putting the parameters in a dictionary avoids code duplication\n",
    "# since we use the same for `sns.boxplot` and `Annotator` calls..\n",
    "no_diet_pairs = [\n",
    "    [('no', 't1'), ('no', 't2')],\n",
    "    [('no', 't1'), ('no', 't3')],\n",
    "    [('no', 't2'), ('no', 't3')],\n",
    "    \n",
    "    [('yes', 't1'), ('yes', 't2')],\n",
    "    [('yes', 't1'), ('yes', 't3')],\n",
    "    [('yes', 't2'), ('yes', 't3')],\n",
    "]\n",
    "\n",
    "yes_diet_pairs = [\n",
    "    [('no', 't1'), ('no', 't2')],\n",
    "    [('no', 't1'), ('no', 't3')],\n",
    "    [('no', 't2'), ('no', 't3')],\n",
    "    \n",
    "    [('yes', 't1'), ('yes', 't2')],\n",
    "    [('yes', 't1'), ('yes', 't3')],\n",
    "    [('yes', 't2'), ('yes', 't3')],  \n",
    "]\n",
    "\n",
    "no_diet_plotting_parameters = {\n",
    "    'data': df[df['diet']=='no'],\n",
    "    'x': 'exercises',\n",
    "    'y': 'score',\n",
    "    \"order\": subcat_order,\n",
    "    \"hue\": \"time\",\n",
    "    \"hue_order\": hue_order,\n",
    "#     \"palette\": palette,\n",
    "}\n",
    "\n",
    "yes_diet_plotting_parameters = {\n",
    "    'data': df[df['diet']=='yes'],\n",
    "    'x': 'exercises',\n",
    "    'y': 'score',\n",
    "    \"order\": subcat_order,\n",
    "    \"hue\": \"time\",\n",
    "    \"hue_order\": hue_order,\n",
    "#     \"palette\": palette,\n",
    "}\n",
    "\n",
    "with sns.plotting_context('notebook', font_scale = 1.4):\n",
    "    from matplotlib import pyplot as plt\n",
    "    \n",
    "    \n",
    "    fig, (ax1, ax2) = plt.subplots(1,2, figsize=(20,8))\n",
    "\n",
    "    ax1 = sns.boxplot(**no_diet_plotting_parameters, ax=ax1)\n",
    "    ax1.set_title(\"Diet: No\")\n",
    "    \n",
    "    ax2 = sns.boxplot(**yes_diet_plotting_parameters, ax=ax2)\n",
    "    ax2.set_title(\"DieT: Yes\")\n",
    "\n",
    "    # Add annotations\n",
    "    annotator = Annotator(ax1, no_diet_pairs, **no_diet_plotting_parameters)\n",
    "    annotator.set_pvalues(no_diet_pvalues)\n",
    "    annotator.annotate()\n",
    "\n",
    "    annotator = Annotator(ax2, yes_diet_pairs, **yes_diet_plotting_parameters)\n",
    "    annotator.set_pvalues(yes_diet_pvalues)\n",
    "    annotator.annotate()\n",
    "    \n",
    "    plt.show()"
   ]
  }
 ],
 "metadata": {
  "kernelspec": {
   "display_name": "Python 3 (ipykernel)",
   "language": "python",
   "name": "python3"
  },
  "language_info": {
   "codemirror_mode": {
    "name": "ipython",
    "version": 3
   },
   "file_extension": ".py",
   "mimetype": "text/x-python",
   "name": "python",
   "nbconvert_exporter": "python",
   "pygments_lexer": "ipython3",
   "version": "3.9.7"
  }
 },
 "nbformat": 4,
 "nbformat_minor": 2
}
