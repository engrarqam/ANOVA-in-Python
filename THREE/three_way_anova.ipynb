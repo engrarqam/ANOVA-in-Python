{
 "cells": [
  {
   "cell_type": "code",
   "execution_count": 1,
   "metadata": {
    "scrolled": true
   },
   "outputs": [],
   "source": [
    "import pandas as pd\n",
    "import numpy as np\n",
    "import seaborn as sns\n",
    "import matplotlib.pyplot as plt"
   ]
  },
  {
   "cell_type": "code",
   "execution_count": 2,
   "metadata": {},
   "outputs": [
    {
     "data": {
      "text/html": [
       "<div>\n",
       "<style scoped>\n",
       "    .dataframe tbody tr th:only-of-type {\n",
       "        vertical-align: middle;\n",
       "    }\n",
       "\n",
       "    .dataframe tbody tr th {\n",
       "        vertical-align: top;\n",
       "    }\n",
       "\n",
       "    .dataframe thead th {\n",
       "        text-align: right;\n",
       "    }\n",
       "</style>\n",
       "<table border=\"1\" class=\"dataframe\">\n",
       "  <thead>\n",
       "    <tr style=\"text-align: right;\">\n",
       "      <th></th>\n",
       "      <th>id</th>\n",
       "      <th>gender</th>\n",
       "      <th>risk</th>\n",
       "      <th>treatment</th>\n",
       "      <th>pain_score</th>\n",
       "    </tr>\n",
       "  </thead>\n",
       "  <tbody>\n",
       "    <tr>\n",
       "      <th>0</th>\n",
       "      <td>1</td>\n",
       "      <td>male</td>\n",
       "      <td>low</td>\n",
       "      <td>X</td>\n",
       "      <td>79.311695</td>\n",
       "    </tr>\n",
       "    <tr>\n",
       "      <th>1</th>\n",
       "      <td>2</td>\n",
       "      <td>male</td>\n",
       "      <td>low</td>\n",
       "      <td>X</td>\n",
       "      <td>76.843399</td>\n",
       "    </tr>\n",
       "    <tr>\n",
       "      <th>2</th>\n",
       "      <td>3</td>\n",
       "      <td>male</td>\n",
       "      <td>low</td>\n",
       "      <td>X</td>\n",
       "      <td>70.832421</td>\n",
       "    </tr>\n",
       "    <tr>\n",
       "      <th>3</th>\n",
       "      <td>4</td>\n",
       "      <td>male</td>\n",
       "      <td>low</td>\n",
       "      <td>X</td>\n",
       "      <td>81.163944</td>\n",
       "    </tr>\n",
       "    <tr>\n",
       "      <th>4</th>\n",
       "      <td>5</td>\n",
       "      <td>male</td>\n",
       "      <td>low</td>\n",
       "      <td>X</td>\n",
       "      <td>75.052213</td>\n",
       "    </tr>\n",
       "  </tbody>\n",
       "</table>\n",
       "</div>"
      ],
      "text/plain": [
       "   id gender risk treatment  pain_score\n",
       "0   1   male  low         X   79.311695\n",
       "1   2   male  low         X   76.843399\n",
       "2   3   male  low         X   70.832421\n",
       "3   4   male  low         X   81.163944\n",
       "4   5   male  low         X   75.052213"
      ]
     },
     "execution_count": 2,
     "metadata": {},
     "output_type": "execute_result"
    }
   ],
   "source": [
    "df = pd.read_csv(\"three_way.csv\")\n",
    "df.head()"
   ]
  },
  {
   "cell_type": "markdown",
   "metadata": {},
   "source": [
    "## Summary Statistics"
   ]
  },
  {
   "cell_type": "code",
   "execution_count": 3,
   "metadata": {},
   "outputs": [
    {
     "data": {
      "text/html": [
       "<div>\n",
       "<style scoped>\n",
       "    .dataframe tbody tr th:only-of-type {\n",
       "        vertical-align: middle;\n",
       "    }\n",
       "\n",
       "    .dataframe tbody tr th {\n",
       "        vertical-align: top;\n",
       "    }\n",
       "\n",
       "    .dataframe thead th {\n",
       "        text-align: right;\n",
       "    }\n",
       "</style>\n",
       "<table border=\"1\" class=\"dataframe\">\n",
       "  <thead>\n",
       "    <tr style=\"text-align: right;\">\n",
       "      <th></th>\n",
       "      <th></th>\n",
       "      <th></th>\n",
       "      <th>count</th>\n",
       "      <th>std</th>\n",
       "      <th>mean</th>\n",
       "    </tr>\n",
       "    <tr>\n",
       "      <th>gender</th>\n",
       "      <th>risk</th>\n",
       "      <th>treatment</th>\n",
       "      <th></th>\n",
       "      <th></th>\n",
       "      <th></th>\n",
       "    </tr>\n",
       "  </thead>\n",
       "  <tbody>\n",
       "    <tr>\n",
       "      <th rowspan=\"6\" valign=\"top\">female</th>\n",
       "      <th rowspan=\"3\" valign=\"top\">high</th>\n",
       "      <th>X</th>\n",
       "      <td>6</td>\n",
       "      <td>5.316489</td>\n",
       "      <td>78.865059</td>\n",
       "    </tr>\n",
       "    <tr>\n",
       "      <th>Y</th>\n",
       "      <td>6</td>\n",
       "      <td>4.619387</td>\n",
       "      <td>81.175304</td>\n",
       "    </tr>\n",
       "    <tr>\n",
       "      <th>Z</th>\n",
       "      <td>6</td>\n",
       "      <td>3.984886</td>\n",
       "      <td>81.035142</td>\n",
       "    </tr>\n",
       "    <tr>\n",
       "      <th rowspan=\"3\" valign=\"top\">low</th>\n",
       "      <th>X</th>\n",
       "      <td>6</td>\n",
       "      <td>3.690272</td>\n",
       "      <td>74.156231</td>\n",
       "    </tr>\n",
       "    <tr>\n",
       "      <th>Y</th>\n",
       "      <td>6</td>\n",
       "      <td>4.081842</td>\n",
       "      <td>68.361925</td>\n",
       "    </tr>\n",
       "    <tr>\n",
       "      <th>Z</th>\n",
       "      <td>6</td>\n",
       "      <td>2.719645</td>\n",
       "      <td>69.779555</td>\n",
       "    </tr>\n",
       "    <tr>\n",
       "      <th rowspan=\"6\" valign=\"top\">male</th>\n",
       "      <th rowspan=\"3\" valign=\"top\">high</th>\n",
       "      <th>X</th>\n",
       "      <td>6</td>\n",
       "      <td>5.116095</td>\n",
       "      <td>92.738847</td>\n",
       "    </tr>\n",
       "    <tr>\n",
       "      <th>Y</th>\n",
       "      <td>6</td>\n",
       "      <td>5.000898</td>\n",
       "      <td>82.341542</td>\n",
       "    </tr>\n",
       "    <tr>\n",
       "      <th>Z</th>\n",
       "      <td>6</td>\n",
       "      <td>4.045885</td>\n",
       "      <td>79.680736</td>\n",
       "    </tr>\n",
       "    <tr>\n",
       "      <th rowspan=\"3\" valign=\"top\">low</th>\n",
       "      <th>X</th>\n",
       "      <td>6</td>\n",
       "      <td>3.854876</td>\n",
       "      <td>76.051783</td>\n",
       "    </tr>\n",
       "    <tr>\n",
       "      <th>Y</th>\n",
       "      <td>6</td>\n",
       "      <td>4.765061</td>\n",
       "      <td>73.138772</td>\n",
       "    </tr>\n",
       "    <tr>\n",
       "      <th>Z</th>\n",
       "      <td>6</td>\n",
       "      <td>4.888865</td>\n",
       "      <td>74.455863</td>\n",
       "    </tr>\n",
       "  </tbody>\n",
       "</table>\n",
       "</div>"
      ],
      "text/plain": [
       "                       count       std       mean\n",
       "gender risk treatment                            \n",
       "female high X              6  5.316489  78.865059\n",
       "            Y              6  4.619387  81.175304\n",
       "            Z              6  3.984886  81.035142\n",
       "       low  X              6  3.690272  74.156231\n",
       "            Y              6  4.081842  68.361925\n",
       "            Z              6  2.719645  69.779555\n",
       "male   high X              6  5.116095  92.738847\n",
       "            Y              6  5.000898  82.341542\n",
       "            Z              6  4.045885  79.680736\n",
       "       low  X              6  3.854876  76.051783\n",
       "            Y              6  4.765061  73.138772\n",
       "            Z              6  4.888865  74.455863"
      ]
     },
     "execution_count": 3,
     "metadata": {},
     "output_type": "execute_result"
    }
   ],
   "source": [
    "stats = df.groupby(['gender', 'risk', 'treatment'])['pain_score'].agg(['count', 'std', 'mean'])\n",
    "stats"
   ]
  },
  {
   "cell_type": "markdown",
   "metadata": {},
   "source": [
    "## Catplot"
   ]
  },
  {
   "cell_type": "code",
   "execution_count": 4,
   "metadata": {},
   "outputs": [
    {
     "data": {
      "image/png": "[encoded data removed]",
      "text/plain": [
       "<Figure size 835.6x432 with 2 Axes>"
      ]
     },
     "metadata": {
      "needs_background": "light"
     },
     "output_type": "display_data"
    }
   ],
   "source": [
    "sns.catplot(x=\"treatment\", y=\"pain_score\",\n",
    "                hue=\"risk\", col=\"gender\",\n",
    "                data=df, kind=\"box\",\n",
    "                height=6, aspect=.9);"
   ]
  },
  {
   "cell_type": "markdown",
   "metadata": {},
   "source": [
    "## Interaction plot using Seaborn"
   ]
  },
  {
   "cell_type": "code",
   "execution_count": 5,
   "metadata": {},
   "outputs": [
    {
     "data": {
      "image/png": "[encoded data removed]",
      "text/plain": [
       "<Figure size 835.6x432 with 2 Axes>"
      ]
     },
     "metadata": {
      "needs_background": "light"
     },
     "output_type": "display_data"
    }
   ],
   "source": [
    "sns.catplot(x=\"treatment\", y=\"pain_score\",\n",
    "                hue=\"risk\", col=\"gender\",\n",
    "                data=df, kind=\"point\",\n",
    "                height=6, aspect=.9);"
   ]
  },
  {
   "cell_type": "markdown",
   "metadata": {},
   "source": [
    "# Assumptions"
   ]
  },
  {
   "cell_type": "markdown",
   "metadata": {},
   "source": [
    "### Outliers"
   ]
  },
  {
   "cell_type": "code",
   "execution_count": 6,
   "metadata": {},
   "outputs": [],
   "source": [
    "def outliers(dep, ind1, ind2, ind3):\n",
    "    dicts = {'Outliers':{}}\n",
    "    for cat_ind1 in pd.unique(df[ind1]):\n",
    "        for cat_ind2 in pd.unique(df[ind2]):\n",
    "            for cat_ind3 in pd.unique(df[ind3]):\n",
    "                Q1, Q3 = np.percentile(df[dep][df[ind1] == cat_ind1][df[ind2] == cat_ind2][df[ind3] == cat_ind3], [25,75])\n",
    "                IQR = Q3-Q1\n",
    "                lower_fence, upper_fence= Q1-(1.5*IQR), Q3+(1.5*IQR)\n",
    "                new_dataset = []\n",
    "                for i in df[dep][df[ind1] == cat_ind1][df[ind2] == cat_ind2][df[ind3] == cat_ind3]:\n",
    "                    if i < lower_fence or i > upper_fence:\n",
    "                        new_dataset.append(i)\n",
    "                dicts['Outliers'][f'{cat_ind1}, {cat_ind2} and {cat_ind3}'] = new_dataset\n",
    "    return pd.DataFrame(dicts)"
   ]
  },
  {
   "cell_type": "code",
   "execution_count": 7,
   "metadata": {},
   "outputs": [
    {
     "data": {
      "text/html": [
       "<div>\n",
       "<style scoped>\n",
       "    .dataframe tbody tr th:only-of-type {\n",
       "        vertical-align: middle;\n",
       "    }\n",
       "\n",
       "    .dataframe tbody tr th {\n",
       "        vertical-align: top;\n",
       "    }\n",
       "\n",
       "    .dataframe thead th {\n",
       "        text-align: right;\n",
       "    }\n",
       "</style>\n",
       "<table border=\"1\" class=\"dataframe\">\n",
       "  <thead>\n",
       "    <tr style=\"text-align: right;\">\n",
       "      <th></th>\n",
       "      <th>Outliers</th>\n",
       "    </tr>\n",
       "  </thead>\n",
       "  <tbody>\n",
       "    <tr>\n",
       "      <th>female, high and X</th>\n",
       "      <td>[68.3601845243011]</td>\n",
       "    </tr>\n",
       "    <tr>\n",
       "      <th>female, high and Y</th>\n",
       "      <td>[73.14439241953]</td>\n",
       "    </tr>\n",
       "    <tr>\n",
       "      <th>female, high and Z</th>\n",
       "      <td>[74.988057290167, 87.1422645214203]</td>\n",
       "    </tr>\n",
       "    <tr>\n",
       "      <th>female, low and X</th>\n",
       "      <td>[]</td>\n",
       "    </tr>\n",
       "    <tr>\n",
       "      <th>female, low and Y</th>\n",
       "      <td>[]</td>\n",
       "    </tr>\n",
       "    <tr>\n",
       "      <th>female, low and Z</th>\n",
       "      <td>[]</td>\n",
       "    </tr>\n",
       "    <tr>\n",
       "      <th>male, high and X</th>\n",
       "      <td>[]</td>\n",
       "    </tr>\n",
       "    <tr>\n",
       "      <th>male, high and Y</th>\n",
       "      <td>[]</td>\n",
       "    </tr>\n",
       "    <tr>\n",
       "      <th>male, high and Z</th>\n",
       "      <td>[]</td>\n",
       "    </tr>\n",
       "    <tr>\n",
       "      <th>male, low and X</th>\n",
       "      <td>[]</td>\n",
       "    </tr>\n",
       "    <tr>\n",
       "      <th>male, low and Y</th>\n",
       "      <td>[]</td>\n",
       "    </tr>\n",
       "    <tr>\n",
       "      <th>male, low and Z</th>\n",
       "      <td>[]</td>\n",
       "    </tr>\n",
       "  </tbody>\n",
       "</table>\n",
       "</div>"
      ],
      "text/plain": [
       "                                               Outliers\n",
       "female, high and X                   [68.3601845243011]\n",
       "female, high and Y                     [73.14439241953]\n",
       "female, high and Z  [74.988057290167, 87.1422645214203]\n",
       "female, low and X                                    []\n",
       "female, low and Y                                    []\n",
       "female, low and Z                                    []\n",
       "male, high and X                                     []\n",
       "male, high and Y                                     []\n",
       "male, high and Z                                     []\n",
       "male, low and X                                      []\n",
       "male, low and Y                                      []\n",
       "male, low and Z                                      []"
      ]
     },
     "execution_count": 7,
     "metadata": {},
     "output_type": "execute_result"
    }
   ],
   "source": [
    "outliers('pain_score', 'gender', 'risk', 'treatment')"
   ]
  },
  {
   "cell_type": "markdown",
   "metadata": {},
   "source": [
    "### Normality"
   ]
  },
  {
   "cell_type": "code",
   "execution_count": 8,
   "metadata": {},
   "outputs": [
    {
     "name": "stderr",
     "output_type": "stream",
     "text": [
      "C:\\ProgramData\\Anaconda3\\envs\\All\\lib\\site-packages\\statsmodels\\compat\\pandas.py:61: FutureWarning: pandas.Int64Index is deprecated and will be removed from pandas in a future version. Use pandas.Index with the appropriate dtype instead.\n",
      "  from pandas import Int64Index as NumericIndex\n"
     ]
    }
   ],
   "source": [
    "import statsmodels.api as sm\n",
    "from statsmodels.formula.api import ols\n",
    "mod = ols('pain_score ~ gender*risk*treatment', data=df).fit()"
   ]
  },
  {
   "cell_type": "code",
   "execution_count": 9,
   "metadata": {},
   "outputs": [
    {
     "data": {
      "text/plain": [
       "ShapiroResult(statistic=0.9821221232414246, pvalue=0.3980903923511505)"
      ]
     },
     "execution_count": 9,
     "metadata": {},
     "output_type": "execute_result"
    }
   ],
   "source": [
    "import scipy.stats as stats\n",
    "stats.shapiro(mod.resid)"
   ]
  },
  {
   "cell_type": "code",
   "execution_count": 10,
   "metadata": {
    "scrolled": true
   },
   "outputs": [
    {
     "data": {
      "image/png": "[encoded data removed]",
      "text/plain": [
       "<Figure size 432x288 with 1 Axes>"
      ]
     },
     "metadata": {
      "needs_background": "light"
     },
     "output_type": "display_data"
    }
   ],
   "source": [
    "import numpy as np\n",
    "import statsmodels.api as sm\n",
    "import scipy.stats as stats\n",
    "import pylab\n",
    "sm.qqplot(mod.resid, line='r')\n",
    "pylab.show()"
   ]
  },
  {
   "cell_type": "markdown",
   "metadata": {},
   "source": [
    "#### Shapiro"
   ]
  },
  {
   "cell_type": "code",
   "execution_count": 11,
   "metadata": {},
   "outputs": [],
   "source": [
    "def shapiro(dep, ind1, ind2, ind3):\n",
    "    normality = {'Shapiro':{}}\n",
    "    import scipy.stats as stats\n",
    "    for cat_ind1 in pd.unique(df[ind1]):\n",
    "        for cat_ind2 in pd.unique(df[ind2]):\n",
    "            for cat_ind3 in pd.unique(df[ind3]):\n",
    "                result = stats.shapiro(df[dep][df[ind1] == cat_ind1][df[ind2] == cat_ind2][df[ind3] == cat_ind3])\n",
    "                normality['Shapiro'][f'{cat_ind1}, {cat_ind2} and {cat_ind3}'] = result\n",
    "    return pd.DataFrame(normality)"
   ]
  },
  {
   "cell_type": "code",
   "execution_count": 12,
   "metadata": {},
   "outputs": [
    {
     "data": {
      "text/html": [
       "<div>\n",
       "<style scoped>\n",
       "    .dataframe tbody tr th:only-of-type {\n",
       "        vertical-align: middle;\n",
       "    }\n",
       "\n",
       "    .dataframe tbody tr th {\n",
       "        vertical-align: top;\n",
       "    }\n",
       "\n",
       "    .dataframe thead th {\n",
       "        text-align: right;\n",
       "    }\n",
       "</style>\n",
       "<table border=\"1\" class=\"dataframe\">\n",
       "  <thead>\n",
       "    <tr style=\"text-align: right;\">\n",
       "      <th></th>\n",
       "      <th>Shapiro</th>\n",
       "    </tr>\n",
       "  </thead>\n",
       "  <tbody>\n",
       "    <tr>\n",
       "      <th>female, high and X</th>\n",
       "      <td>(0.7141793966293335, 0.008690106682479382)</td>\n",
       "    </tr>\n",
       "    <tr>\n",
       "      <th>female, high and Y</th>\n",
       "      <td>(0.9393326044082642, 0.6538262367248535)</td>\n",
       "    </tr>\n",
       "    <tr>\n",
       "      <th>female, high and Z</th>\n",
       "      <td>(0.9712316393852234, 0.9006036520004272)</td>\n",
       "    </tr>\n",
       "    <tr>\n",
       "      <th>female, low and X</th>\n",
       "      <td>(0.9325503706932068, 0.5999364256858826)</td>\n",
       "    </tr>\n",
       "    <tr>\n",
       "      <th>female, low and Y</th>\n",
       "      <td>(0.9267739653587341, 0.5554291009902954)</td>\n",
       "    </tr>\n",
       "    <tr>\n",
       "      <th>female, low and Z</th>\n",
       "      <td>(0.957584798336029, 0.8009467720985413)</td>\n",
       "    </tr>\n",
       "    <tr>\n",
       "      <th>male, high and X</th>\n",
       "      <td>(0.9584341049194336, 0.8075945973396301)</td>\n",
       "    </tr>\n",
       "    <tr>\n",
       "      <th>male, high and Y</th>\n",
       "      <td>(0.901729941368103, 0.3842567503452301)</td>\n",
       "    </tr>\n",
       "    <tr>\n",
       "      <th>male, high and Z</th>\n",
       "      <td>(0.9554784297943115, 0.784304141998291)</td>\n",
       "    </tr>\n",
       "    <tr>\n",
       "      <th>male, low and X</th>\n",
       "      <td>(0.982193648815155, 0.9619279503822327)</td>\n",
       "    </tr>\n",
       "    <tr>\n",
       "      <th>male, low and Y</th>\n",
       "      <td>(0.920272171497345, 0.5073235630989075)</td>\n",
       "    </tr>\n",
       "    <tr>\n",
       "      <th>male, low and Z</th>\n",
       "      <td>(0.9240514636039734, 0.535007894039154)</td>\n",
       "    </tr>\n",
       "  </tbody>\n",
       "</table>\n",
       "</div>"
      ],
      "text/plain": [
       "                                                       Shapiro\n",
       "female, high and X  (0.7141793966293335, 0.008690106682479382)\n",
       "female, high and Y    (0.9393326044082642, 0.6538262367248535)\n",
       "female, high and Z    (0.9712316393852234, 0.9006036520004272)\n",
       "female, low and X     (0.9325503706932068, 0.5999364256858826)\n",
       "female, low and Y     (0.9267739653587341, 0.5554291009902954)\n",
       "female, low and Z      (0.957584798336029, 0.8009467720985413)\n",
       "male, high and X      (0.9584341049194336, 0.8075945973396301)\n",
       "male, high and Y       (0.901729941368103, 0.3842567503452301)\n",
       "male, high and Z       (0.9554784297943115, 0.784304141998291)\n",
       "male, low and X        (0.982193648815155, 0.9619279503822327)\n",
       "male, low and Y        (0.920272171497345, 0.5073235630989075)\n",
       "male, low and Z        (0.9240514636039734, 0.535007894039154)"
      ]
     },
     "execution_count": 12,
     "metadata": {},
     "output_type": "execute_result"
    }
   ],
   "source": [
    "shapiro('pain_score', 'gender', 'risk', 'treatment')"
   ]
  },
  {
   "cell_type": "markdown",
   "metadata": {},
   "source": [
    "### Homogneity of variance"
   ]
  },
  {
   "cell_type": "code",
   "execution_count": 13,
   "metadata": {},
   "outputs": [],
   "source": [
    "# if normality exists then perform bartlett otherwise levene's tests"
   ]
  },
  {
   "cell_type": "code",
   "execution_count": 14,
   "metadata": {},
   "outputs": [],
   "source": [
    "# Null Hypothesis: the variances are equal across all samples/groups\n",
    "# Alternative Hypothesis:  the variances are not equal across all samples/groups"
   ]
  },
  {
   "cell_type": "code",
   "execution_count": 15,
   "metadata": {},
   "outputs": [],
   "source": [
    "def homogeneity(dep, ind1, ind2, ind3):\n",
    "    combinations = []\n",
    "    homo = {'Bartlett':{}, 'Levene':{}}\n",
    "\n",
    "    for cat_ind1 in pd.unique(df[ind1]):\n",
    "        for cat_ind2 in pd.unique(df[ind2]):\n",
    "            for cat_ind3 in pd.unique(df[ind3]):\n",
    "                result = df[dep][df[ind1] == cat_ind1][df[ind2] == cat_ind2][df[ind3] == cat_ind3]\n",
    "                combinations.append(result)\n",
    "    from scipy.stats import bartlett\n",
    "    import scipy.stats as stats\n",
    "    stat, p = bartlett(combinations[0], combinations[1], combinations[2], combinations[3], combinations[4], combinations[5],\n",
    "                       combinations[6], combinations[7], combinations[8], combinations[9], combinations[10], combinations[11])\n",
    "    bstat, bp = stat, p\n",
    "    from scipy.stats import levene\n",
    "    stat, p = levene(combinations[0], combinations[1], combinations[2], combinations[3], combinations[4], combinations[5],\n",
    "                     combinations[6], combinations[7], combinations[8], combinations[9], combinations[10], combinations[11])\n",
    "    lstat, lp = stat, p\n",
    "\n",
    "    homo['Bartlett']['stat'] = bstat\n",
    "    homo['Bartlett']['p-value'] = bp\n",
    "    homo['Levene']['stat'] = lstat\n",
    "    homo['Levene']['p-value'] = lp\n",
    "    \n",
    "    return pd.DataFrame(homo)"
   ]
  },
  {
   "cell_type": "code",
   "execution_count": 16,
   "metadata": {},
   "outputs": [
    {
     "data": {
      "text/html": [
       "<div>\n",
       "<style scoped>\n",
       "    .dataframe tbody tr th:only-of-type {\n",
       "        vertical-align: middle;\n",
       "    }\n",
       "\n",
       "    .dataframe tbody tr th {\n",
       "        vertical-align: top;\n",
       "    }\n",
       "\n",
       "    .dataframe thead th {\n",
       "        text-align: right;\n",
       "    }\n",
       "</style>\n",
       "<table border=\"1\" class=\"dataframe\">\n",
       "  <thead>\n",
       "    <tr style=\"text-align: right;\">\n",
       "      <th></th>\n",
       "      <th>Bartlett</th>\n",
       "      <th>Levene</th>\n",
       "    </tr>\n",
       "  </thead>\n",
       "  <tbody>\n",
       "    <tr>\n",
       "      <th>stat</th>\n",
       "      <td>3.189160</td>\n",
       "      <td>0.178595</td>\n",
       "    </tr>\n",
       "    <tr>\n",
       "      <th>p-value</th>\n",
       "      <td>0.987982</td>\n",
       "      <td>0.998214</td>\n",
       "    </tr>\n",
       "  </tbody>\n",
       "</table>\n",
       "</div>"
      ],
      "text/plain": [
       "         Bartlett    Levene\n",
       "stat     3.189160  0.178595\n",
       "p-value  0.987982  0.998214"
      ]
     },
     "execution_count": 16,
     "metadata": {},
     "output_type": "execute_result"
    }
   ],
   "source": [
    "homogeneity('pain_score', 'gender', 'risk', 'treatment')"
   ]
  },
  {
   "cell_type": "markdown",
   "metadata": {},
   "source": [
    "## Three-Way ANOVA Computation"
   ]
  },
  {
   "cell_type": "code",
   "execution_count": 17,
   "metadata": {},
   "outputs": [
    {
     "data": {
      "text/html": [
       "<div>\n",
       "<style scoped>\n",
       "    .dataframe tbody tr th:only-of-type {\n",
       "        vertical-align: middle;\n",
       "    }\n",
       "\n",
       "    .dataframe tbody tr th {\n",
       "        vertical-align: top;\n",
       "    }\n",
       "\n",
       "    .dataframe thead th {\n",
       "        text-align: right;\n",
       "    }\n",
       "</style>\n",
       "<table border=\"1\" class=\"dataframe\">\n",
       "  <thead>\n",
       "    <tr style=\"text-align: right;\">\n",
       "      <th></th>\n",
       "      <th>sum_sq</th>\n",
       "      <th>df</th>\n",
       "      <th>F</th>\n",
       "      <th>PR(&gt;F)</th>\n",
       "    </tr>\n",
       "  </thead>\n",
       "  <tbody>\n",
       "    <tr>\n",
       "      <th>gender</th>\n",
       "      <td>313.358773</td>\n",
       "      <td>1.0</td>\n",
       "      <td>16.195746</td>\n",
       "      <td>1.625409e-04</td>\n",
       "    </tr>\n",
       "    <tr>\n",
       "      <th>risk</th>\n",
       "      <td>1793.555757</td>\n",
       "      <td>1.0</td>\n",
       "      <td>92.698774</td>\n",
       "      <td>8.799980e-14</td>\n",
       "    </tr>\n",
       "    <tr>\n",
       "      <th>treatment</th>\n",
       "      <td>283.168031</td>\n",
       "      <td>2.0</td>\n",
       "      <td>7.317679</td>\n",
       "      <td>1.432844e-03</td>\n",
       "    </tr>\n",
       "    <tr>\n",
       "      <th>gender:risk</th>\n",
       "      <td>2.730584</td>\n",
       "      <td>1.0</td>\n",
       "      <td>0.141128</td>\n",
       "      <td>7.084867e-01</td>\n",
       "    </tr>\n",
       "    <tr>\n",
       "      <th>gender:treatment</th>\n",
       "      <td>129.182324</td>\n",
       "      <td>2.0</td>\n",
       "      <td>3.338353</td>\n",
       "      <td>4.220011e-02</td>\n",
       "    </tr>\n",
       "    <tr>\n",
       "      <th>risk:treatment</th>\n",
       "      <td>27.595016</td>\n",
       "      <td>2.0</td>\n",
       "      <td>0.713115</td>\n",
       "      <td>4.942214e-01</td>\n",
       "    </tr>\n",
       "    <tr>\n",
       "      <th>gender:risk:treatment</th>\n",
       "      <td>286.595625</td>\n",
       "      <td>2.0</td>\n",
       "      <td>7.406255</td>\n",
       "      <td>1.334476e-03</td>\n",
       "    </tr>\n",
       "    <tr>\n",
       "      <th>Residual</th>\n",
       "      <td>1160.892871</td>\n",
       "      <td>60.0</td>\n",
       "      <td>NaN</td>\n",
       "      <td>NaN</td>\n",
       "    </tr>\n",
       "  </tbody>\n",
       "</table>\n",
       "</div>"
      ],
      "text/plain": [
       "                            sum_sq    df          F        PR(>F)\n",
       "gender                  313.358773   1.0  16.195746  1.625409e-04\n",
       "risk                   1793.555757   1.0  92.698774  8.799980e-14\n",
       "treatment               283.168031   2.0   7.317679  1.432844e-03\n",
       "gender:risk               2.730584   1.0   0.141128  7.084867e-01\n",
       "gender:treatment        129.182324   2.0   3.338353  4.220011e-02\n",
       "risk:treatment           27.595016   2.0   0.713115  4.942214e-01\n",
       "gender:risk:treatment   286.595625   2.0   7.406255  1.334476e-03\n",
       "Residual               1160.892871  60.0        NaN           NaN"
      ]
     },
     "execution_count": 17,
     "metadata": {},
     "output_type": "execute_result"
    }
   ],
   "source": [
    "import statsmodels.api as sm\n",
    "from statsmodels.formula.api import ols\n",
    "\n",
    "mod = ols('pain_score ~ gender*risk*treatment', data=df).fit()\n",
    "                \n",
    "aov_table = sm.stats.anova_lm(mod, typ=2)\n",
    "aov_table"
   ]
  },
  {
   "cell_type": "markdown",
   "metadata": {},
   "source": [
    "## Post-hoct tests"
   ]
  },
  {
   "cell_type": "markdown",
   "metadata": {},
   "source": [
    "### Procedure for significant two-way interaction"
   ]
  },
  {
   "cell_type": "raw",
   "metadata": {},
   "source": [
    "If there is a significant three-way interaction effect, you can decompose it into:\n",
    "\n",
    "----Simple two-way interaction: run two-way interaction at each level of third variable,\n",
    "----Simple simple main effect: run one-way model at each level of second variable, and\n",
    "----simple simple pairwise comparisons: run pairwise or other post-hoc comparisons if necessary.\n",
    "If you do not have a statistically significant three-way interaction, you need to determine whether you have any statistically significant two-way interaction from the ANOVA output. You can follow up a significant two-way interaction by simple main effects analyses and pairwise comparisons between groups if necessary.\n",
    "\n",
    "In this section we’ll describe the procedure for a significant three-way interaction."
   ]
  },
  {
   "cell_type": "markdown",
   "metadata": {},
   "source": [
    "#### Simple two-way interaction"
   ]
  },
  {
   "cell_type": "code",
   "execution_count": 18,
   "metadata": {},
   "outputs": [],
   "source": [
    "# run two-way interaction at each level of third variable"
   ]
  },
  {
   "cell_type": "code",
   "execution_count": 19,
   "metadata": {},
   "outputs": [
    {
     "name": "stdout",
     "output_type": "stream",
     "text": [
      "[{'male':                     sum_sq    df          F        PR(>F)\n",
      "risk            968.124984   1.0  45.022276  1.954190e-07\n",
      "treatment       393.710706   2.0   9.154682  7.876787e-04\n",
      "risk:treatment  203.220142   2.0   4.725337  1.644381e-02\n",
      "Residual        645.097320  30.0        NaN           NaN}]\n",
      "[{'female':                     sum_sq    df          F        PR(>F)\n",
      "risk            828.161356   1.0  48.168001  1.042751e-07\n",
      "treatment        18.639649   2.0   0.542065  5.871351e-01\n",
      "risk:treatment  110.970499   2.0   3.227165  5.377519e-02\n",
      "Residual        515.795551  30.0        NaN           NaN}]\n"
     ]
    }
   ],
   "source": [
    "male = df[df['gender'] == 'male']\n",
    "female = df[df['gender'] == 'female']\n",
    "\n",
    "dataframes = [male, female]\n",
    "names = ['male', 'female']\n",
    "\n",
    "for i, j in zip(dataframes, names):\n",
    "    results = []\n",
    "    import statsmodels.api as sm\n",
    "    from statsmodels.formula.api import ols\n",
    "    ols = ols('pain_score ~ risk*treatment', data=i).fit()           \n",
    "    table = sm.stats.anova_lm(ols, typ=2)\n",
    "    dicts = {f'{j}':table}\n",
    "    results.append(dicts)\n",
    "    print(results)"
   ]
  },
  {
   "cell_type": "markdown",
   "metadata": {},
   "source": [
    "##### Simple main effect"
   ]
  },
  {
   "cell_type": "code",
   "execution_count": 20,
   "metadata": {},
   "outputs": [],
   "source": [
    "# run one-way model at each level of second variable.\n",
    "# Group the data by gender and risk and analyze the simple simple main effects of treatment on pain_score:"
   ]
  },
  {
   "cell_type": "code",
   "execution_count": 21,
   "metadata": {},
   "outputs": [
    {
     "name": "stderr",
     "output_type": "stream",
     "text": [
      "C:\\Users\\Administrator\\AppData\\Local\\Temp\\ipykernel_1928\\4249247773.py:1: UserWarning: Boolean Series key will be reindexed to match DataFrame index.\n",
      "  high_male = df[df['risk'] == 'high'][df['gender'] == 'male']\n",
      "C:\\Users\\Administrator\\AppData\\Local\\Temp\\ipykernel_1928\\4249247773.py:2: UserWarning: Boolean Series key will be reindexed to match DataFrame index.\n",
      "  low_male = df[df['risk'] == 'low'][df['gender'] == 'male']\n"
     ]
    },
    {
     "name": "stdout",
     "output_type": "stream",
     "text": [
      "[{'high_male':                sum_sq    df          F    PR(>F)\n",
      "treatment  571.396212   2.0  12.687808  0.000595\n",
      "Residual   337.762949  15.0        NaN       NaN}]\n",
      "[{'low_male':                sum_sq    df         F    PR(>F)\n",
      "treatment   25.534637   2.0  0.623132  0.549583\n",
      "Residual   307.334371  15.0       NaN       NaN}]\n"
     ]
    }
   ],
   "source": [
    "high_male = df[df['risk'] == 'high'][df['gender'] == 'male']\n",
    "low_male = df[df['risk'] == 'low'][df['gender'] == 'male']\n",
    "\n",
    "dataframes = [high_male, low_male]\n",
    "names = ['high_male', 'low_male']\n",
    "\n",
    "for i, j in zip(dataframes, names):\n",
    "    results = []\n",
    "    import statsmodels.api as sm\n",
    "    from statsmodels.formula.api import ols\n",
    "\n",
    "    ols = ols('pain_score ~ treatment', data=i).fit()\n",
    "    table = sm.stats.anova_lm(ols, typ=2)\n",
    "    dicts = {f'{j}':table}\n",
    "    results.append(dicts)\n",
    "    print(results)"
   ]
  },
  {
   "cell_type": "markdown",
   "metadata": {},
   "source": [
    "##### Simple pairwise comparisons:"
   ]
  },
  {
   "cell_type": "code",
   "execution_count": 22,
   "metadata": {},
   "outputs": [],
   "source": [
    "# run pairwise or other post-hoc comparisons if necessary.\n",
    "# A statistically significant simple simple main effect can be followed up by multiple pairwise comparisons to determine which group means are different.\n",
    "# Compare the different treatments by gender and risk variables:"
   ]
  },
  {
   "cell_type": "code",
   "execution_count": 23,
   "metadata": {},
   "outputs": [
    {
     "name": "stderr",
     "output_type": "stream",
     "text": [
      "C:\\Users\\Administrator\\AppData\\Local\\Temp\\ipykernel_1928\\3696734802.py:1: UserWarning: Boolean Series key will be reindexed to match DataFrame index.\n",
      "  high_male = df[df['risk'] == 'high'][df['gender'] == 'male']\n",
      "C:\\Users\\Administrator\\AppData\\Local\\Temp\\ipykernel_1928\\3696734802.py:2: UserWarning: Boolean Series key will be reindexed to match DataFrame index.\n",
      "  low_male = df[df['risk'] == 'low'][df['gender'] == 'male']\n",
      "C:\\Users\\Administrator\\AppData\\Local\\Temp\\ipykernel_1928\\3696734802.py:3: UserWarning: Boolean Series key will be reindexed to match DataFrame index.\n",
      "  high_female = df[df['risk'] == 'high'][df['gender'] == 'female']\n",
      "C:\\Users\\Administrator\\AppData\\Local\\Temp\\ipykernel_1928\\3696734802.py:4: UserWarning: Boolean Series key will be reindexed to match DataFrame index.\n",
      "  low_female = df[df['risk'] == 'low'][df['gender'] == 'female']\n"
     ]
    },
    {
     "name": "stdout",
     "output_type": "stream",
     "text": [
      "[{'high_male':     Contrast  A  B  Paired  Parametric         T   dof alternative     p-unc  \\\n",
      "0  treatment  X  Y   False        True  3.559851  10.0   two-sided  0.005183   \n",
      "1  treatment  X  Z   False        True  4.903869  10.0   two-sided  0.000620   \n",
      "2  treatment  Y  Z   False        True  1.013219  10.0   two-sided  0.334843   \n",
      "\n",
      "     p-corr p-adjust    BF10    hedges  \n",
      "0  0.015548     bonf   8.291  1.897182  \n",
      "1  0.001859     bonf  40.866  2.613461  \n",
      "2  1.000000     bonf   0.644  0.539983  }]\n",
      "[{'low_male':     Contrast  A  B  Paired  Parametric         T   dof alternative     p-unc  \\\n",
      "0  treatment  X  Y   False        True  1.164182  10.0   two-sided  0.271373   \n",
      "1  treatment  X  Z   False        True  0.627898  10.0   two-sided  0.544143   \n",
      "2  treatment  Y  Z   False        True -0.472570  10.0   two-sided  0.646664   \n",
      "\n",
      "     p-corr p-adjust   BF10    hedges  \n",
      "0  0.814119     bonf   0.71  0.620438  \n",
      "1  1.000000     bonf   0.53  0.334631  \n",
      "2  1.000000     bonf  0.502 -0.251851  }]\n",
      "[{'high_female':     Contrast  A  B  Paired  Parametric         T   dof alternative     p-unc  \\\n",
      "0  treatment  X  Y   False        True -0.803482  10.0   two-sided  0.440377   \n",
      "1  treatment  X  Z   False        True -0.800045  10.0   two-sided  0.442276   \n",
      "2  treatment  Y  Z   False        True  0.056277  10.0   two-sided  0.956230   \n",
      "\n",
      "   p-corr p-adjust   BF10    hedges  \n",
      "0     1.0     bonf  0.573 -0.428207  \n",
      "1     1.0     bonf  0.572 -0.426375  \n",
      "2     1.0     bonf  0.468  0.029992  }]\n",
      "[{'low_female':     Contrast  A  B  Paired  Parametric         T   dof alternative     p-unc  \\\n",
      "0  treatment  X  Y   False        True  2.579303  10.0   two-sided  0.027449   \n",
      "1  treatment  X  Z   False        True  2.338620  10.0   two-sided  0.041437   \n",
      "2  treatment  Y  Z   False        True -0.707962  10.0   two-sided  0.495139   \n",
      "\n",
      "     p-corr p-adjust   BF10    hedges  \n",
      "0  0.082347     bonf  2.656  1.374610  \n",
      "1  0.124311     bonf  2.044  1.246341  \n",
      "2  1.000000     bonf  0.548 -0.377300  }]\n"
     ]
    }
   ],
   "source": [
    "high_male = df[df['risk'] == 'high'][df['gender'] == 'male']\n",
    "low_male = df[df['risk'] == 'low'][df['gender'] == 'male']\n",
    "high_female = df[df['risk'] == 'high'][df['gender'] == 'female']\n",
    "low_female = df[df['risk'] == 'low'][df['gender'] == 'female']\n",
    "\n",
    "dataframes = [high_male, low_male, high_female, low_female]\n",
    "names = ['high_male', 'low_male', 'high_female', 'low_female']\n",
    "\n",
    "for i, j in zip(dataframes, names):\n",
    "    results = []\n",
    "    import pingouin as pg\n",
    "    ptest = pg.pairwise_ttests(dv='pain_score', between=['treatment'], padjust='bonf', data=i)\n",
    "    dicts = {f'{j}':ptest}\n",
    "    results.append(dicts)\n",
    "    print(results)"
   ]
  },
  {
   "cell_type": "markdown",
   "metadata": {},
   "source": [
    "# Report"
   ]
  },
  {
   "cell_type": "code",
   "execution_count": 24,
   "metadata": {
    "scrolled": false
   },
   "outputs": [
    {
     "name": "stdout",
     "output_type": "stream",
     "text": [
      "p-value annotation legend:\n",
      "      ns: p <= 1.00e+00\n",
      "       *: 1.00e-02 < p <= 5.00e-02\n",
      "      **: 1.00e-03 < p <= 1.00e-02\n",
      "     ***: 1.00e-04 < p <= 1.00e-03\n",
      "    ****: p <= 1.00e-04\n",
      "\n",
      "X_high vs. Y_high: Custom statistical test, P_val:1.554e-02\n",
      "Y_high vs. Z_high: Custom statistical test, P_val:1.000e+00\n",
      "X_low vs. Y_low: Custom statistical test, P_val:8.140e-01\n",
      "Y_low vs. Z_low: Custom statistical test, P_val:1.000e+00\n",
      "X_high vs. Z_high: Custom statistical test, P_val:1.850e-03\n",
      "X_low vs. Z_low: Custom statistical test, P_val:1.000e+00\n",
      "p-value annotation legend:\n",
      "      ns: p <= 1.00e+00\n",
      "       *: 1.00e-02 < p <= 5.00e-02\n",
      "      **: 1.00e-03 < p <= 1.00e-02\n",
      "     ***: 1.00e-04 < p <= 1.00e-03\n",
      "    ****: p <= 1.00e-04\n",
      "\n",
      "X_high vs. Y_high: Custom statistical test, P_val:1.000e+00\n",
      "Y_high vs. Z_high: Custom statistical test, P_val:1.000e+00\n",
      "X_low vs. Y_low: Custom statistical test, P_val:8.230e-02\n",
      "Y_low vs. Z_low: Custom statistical test, P_val:1.000e+00\n",
      "X_high vs. Z_high: Custom statistical test, P_val:1.000e+00\n",
      "X_low vs. Z_low: Custom statistical test, P_val:1.243e-01\n"
     ]
    },
    {
     "data": {
      "image/png": "[encoded data removed]",
      "text/plain": [
       "<Figure size 1440x576 with 2 Axes>"
      ]
     },
     "metadata": {
      "needs_background": "light"
     },
     "output_type": "display_data"
    }
   ],
   "source": [
    "from statannotations.Annotator import Annotator\n",
    "\n",
    "# palette = sns.color_palette(\"YlGnBu\", n_colors=3)\n",
    "\n",
    "hue_order = [\"high\", \"low\"]\n",
    "subcat_order = ['X', 'Y', 'Z']\n",
    "\n",
    "male_pvalues = [0.01554, 0.00185, 1, 0.814, 1, 1]\n",
    "female_pvalues = [1, 1, 1, 0.0823, 0.12431, 1]\n",
    "\n",
    "# Putting the parameters in a dictionary avoids code duplication\n",
    "# since we use the same for `sns.boxplot` and `Annotator` calls..\n",
    "male_pairs = [\n",
    "    [('X', 'high'), ('Y', 'high')],\n",
    "    [('X', 'high'), ('Z', 'high')],\n",
    "    [('Y', 'high'), ('Z', 'high')],\n",
    "    \n",
    "    [('X', 'low'), ('Y', 'low')],\n",
    "    [('X', 'low'), ('Z', 'low')],\n",
    "    [('Y', 'low'), ('Z', 'low')],\n",
    "]\n",
    "\n",
    "female_pairs = [\n",
    "    [('X', 'high'), ('Y', 'high')],\n",
    "    [('X', 'high'), ('Z', 'high')],\n",
    "    [('Y', 'high'), ('Z', 'high')],\n",
    "    \n",
    "    [('X', 'low'), ('Y', 'low')],\n",
    "    [('X', 'low'), ('Z', 'low')],\n",
    "    [('Y', 'low'), ('Z', 'low')],\n",
    "]\n",
    "\n",
    "male_df = df[df['gender']=='male']\n",
    "female_df = df[df['gender']=='female']\n",
    "\n",
    "male_plotting_parameters = {\n",
    "    'data':male_df,\n",
    "    'x': 'treatment',\n",
    "    'y': 'pain_score',\n",
    "    \"order\": subcat_order,\n",
    "    \"hue\": 'risk',\n",
    "    \"hue_order\": hue_order,\n",
    "#     \"palette\": palette,\n",
    "}\n",
    "\n",
    "female_plotting_parameters = {\n",
    "    'data':female_df,\n",
    "    'x': 'treatment',\n",
    "    'y': 'pain_score',\n",
    "    \"order\": subcat_order,\n",
    "    \"hue\": 'risk',\n",
    "    \"hue_order\": hue_order,\n",
    "#     \"palette\": palette,\n",
    "}\n",
    "\n",
    "with sns.plotting_context('notebook', font_scale = 1.4):\n",
    "    from matplotlib import pyplot as plt\n",
    "    \n",
    "    fig, (ax1, ax2) = plt.subplots(1,2, figsize=(20,8))\n",
    "\n",
    "    ax1 = sns.boxplot(**male_plotting_parameters, ax=ax1)\n",
    "    ax1.set_title(\"Male\")\n",
    "    \n",
    "    ax2 = sns.boxplot(**female_plotting_parameters, ax=ax2)\n",
    "    ax2.set_title(\"Female\")\n",
    "\n",
    "    # Add annotations\n",
    "    annotator = Annotator(ax1, male_pairs, **male_plotting_parameters)\n",
    "    annotator.set_pvalues(male_pvalues)\n",
    "    annotator.annotate()\n",
    "\n",
    "    annotator = Annotator(ax2, female_pairs, **female_plotting_parameters)\n",
    "    annotator.set_pvalues(female_pvalues)\n",
    "    annotator.annotate()\n",
    "    \n",
    "    plt.show()"
   ]
  }
 ],
 "metadata": {
  "kernelspec": {
   "display_name": "Python 3 (ipykernel)",
   "language": "python",
   "name": "python3"
  },
  "language_info": {
   "codemirror_mode": {
    "name": "ipython",
    "version": 3
   },
   "file_extension": ".py",
   "mimetype": "text/x-python",
   "name": "python",
   "nbconvert_exporter": "python",
   "pygments_lexer": "ipython3",
   "version": "3.9.7"
  }
 },
 "nbformat": 4,
 "nbformat_minor": 2
}
